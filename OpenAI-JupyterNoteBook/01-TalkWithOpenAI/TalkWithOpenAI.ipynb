{
 "cells": [
  {
   "cell_type": "markdown",
   "source": [
    "# 01｜重新出发，让我们学会和AI说话"
   ],
   "metadata": {
    "collapsed": false
   }
  },
  {
   "cell_type": "markdown",
   "source": [
    "## 1 获取 API Key\n",
    "\n",
    "步骤略，自行找攻略。将生成的 API KEY 设置到环境变量中。\n",
    "\n",
    "## 2 搭建开发环境\n",
    "\n",
    "### 本地环境\n",
    "\n",
    "使用 Python + JupyterNoteBook，IDE 使用 PyCharm，然后安装下面的依赖即可：\n",
    "\n",
    "```shell\n",
    "conda create --name py310 python=3.10\n",
    "conda activate py310\n",
    "conda install -c conda-forge jupyterlab\n",
    "conda install -c conda-forge ipywidgets\n",
    "conda install -c conda-forge openai\n",
    "```\n",
    "\n",
    "当然也可以使用 pip 来安装这些依赖。\n",
    "\n",
    "### 通过 Colab 使用 JupyterLab\n",
    "\n",
    "[Colab](https://colab.research.google.com/)，不想折腾本地环境的，还有一个选择，就是使用 Google 提供的叫做 Colab 的线上 Python Notebook 环境。\n",
    "\n",
    "另外，即使你有本地环境，也建议创建一个 Colab 账号，因为 Colab 可以让你免费使用一些 GPU 的资源，在你需要使用 GPU 尝试训练一些深度学习模型，而又没有一张比较好的显卡的时候，就可以直接使用它。另一方面，Colab 便于你在网络上把自己撰写的 Python 代码分享给其他人。\n",
    "\n",
    "Colab 已经是一个 Python Notebook 的环境了。只需要安装 openai 的库即可：\n",
    "\n",
    "```shell\n",
    "!pip install openai\n",
    "%env OPENAI_API_KEY=在这里写你获取到的ApiKey\n",
    "```"
   ],
   "metadata": {
    "collapsed": false
   }
  },
  {
   "cell_type": "markdown",
   "source": [
    "## 3 体验并测试 OpenAI 的 API\n",
    "\n",
    "尝试运行下面代码"
   ],
   "metadata": {
    "collapsed": false
   }
  },
  {
   "cell_type": "code",
   "execution_count": 1,
   "outputs": [],
   "source": [
    "# 准备一下环境\n",
    "from jproperties import Properties\n",
    "import openai\n",
    "import os\n",
    "\n",
    "configs = Properties()\n",
    "with open(\"../private.properties\", 'rb') as config_file:\n",
    "    configs.load(config_file)\n",
    "\n",
    "# 设置 OpenAI 的 Key\n",
    "openai.api_key = configs.get(\"open_key\").data\n",
    "\n",
    "# 解决 SSLError，参考 https://www.zhihu.com/question/588395420/answer/2928476066。\n",
    "os.environ[\"http_proxy\"] = \"http://127.0.0.1:7890\"\n",
    "os.environ[\"https_proxy\"] = \"http://127.0.0.1:7890\""
   ],
   "metadata": {
    "collapsed": false
   }
  },
  {
   "cell_type": "code",
   "execution_count": 2,
   "outputs": [
    {
     "name": "stdout",
     "output_type": "stream",
     "text": [
      "\n",
      "{\n",
      "    \"title\": \"PVC Inflatable Glow-in-the-Dark Frog Water Toy for Kids Night Market Stall Hot Sale\",\n",
      "    \"selling_points\": [\n",
      "        \"Made of durable PVC material\",\n",
      "        \"Inflatable design for easy storage and transport\",\n",
      "        \"Glow-in-the-dark feature for night time fun\",\n",
      "        \"Perfect for water play and pool parties\",\n",
      "        \"Great for kids of all ages\"\n",
      "    ],\n",
      "    \"price_range\": \"$10 - $20\"\n",
      "}\n"
     ]
    }
   ],
   "source": [
    "import openai\n",
    "\n",
    "COMPLETION_MODEL = \"text-davinci-003\"\n",
    "\n",
    "test_prompt = \"\"\"\n",
    "Consideration product : 工厂现货PVC充气青蛙夜市地摊热卖充气玩具发光蛙儿童水上玩具\n",
    "\n",
    "1. Compose human readable product title used on Amazon in english within 20 words.\n",
    "2. Write 5 selling points for the products in Amazon.\n",
    "3. Evaluate a price range for this product in U.S.\n",
    "\n",
    "Output the result in json format with three properties called title, selling_points and price_range\n",
    "\"\"\"\n",
    "\n",
    "def get_response(prompt):\n",
    "    completions = openai.Completion.create(\n",
    "        engine=COMPLETION_MODEL,\n",
    "        prompt=prompt,\n",
    "        max_tokens=512,\n",
    "        n=1,\n",
    "        stop=None,\n",
    "        temperature=0.0,\n",
    "    )\n",
    "    message = completions.choices[0].text\n",
    "    return message\n",
    "\n",
    "\n",
    "print(get_response(test_prompt))"
   ],
   "metadata": {
    "collapsed": false
   }
  }
 ],
 "metadata": {
  "kernelspec": {
   "display_name": "Python 3",
   "language": "python",
   "name": "python3"
  },
  "language_info": {
   "codemirror_mode": {
    "name": "ipython",
    "version": 2
   },
   "file_extension": ".py",
   "mimetype": "text/x-python",
   "name": "python",
   "nbconvert_exporter": "python",
   "pygments_lexer": "ipython2",
   "version": "2.7.6"
  }
 },
 "nbformat": 4,
 "nbformat_minor": 0
}
