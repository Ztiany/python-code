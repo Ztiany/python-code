{
 "cells": [
  {
   "cell_type": "markdown",
   "source": [
    "urllib3 很强大，但是却不能一劳永逸地解决网页下载问题。对于煎蛋这类普通网页，urllib3 可以表现更好，但是有一种类型的网页，它的数据是动态加载的，就是先出现网页，然后延迟加载的数据，那 urllib3 可能就有点力不从心了。比如下面 cell 下载的豆瓣网页就是个空架子。"
   ],
   "metadata": {
    "collapsed": false
   }
  },
  {
   "cell_type": "code",
   "execution_count": 2,
   "outputs": [],
   "source": [
    "import urllib3\n",
    "\n",
    "def download_content(target_url):\n",
    "    http_manager = urllib3.PoolManager()\n",
    "    http_response = http_manager.request(\"GET\", target_url)\n",
    "    data = http_response.data\n",
    "    content = data.decode()\n",
    "    return content\n",
    "\n",
    "def save_to_file(filename, content):\n",
    "    file = open(filename,\"w\", encoding=\"utf-8\")\n",
    "    file.write(content)\n",
    "    file.close()\n",
    "\n",
    "douban_url = \"https://movie.douban.com/tv\"\n",
    "douban_html_content = download_content(douban_url)\n",
    "save_to_file(\"douban_tv_frame.html\", douban_html_content)"
   ],
   "metadata": {
    "collapsed": false
   }
  },
  {
   "cell_type": "markdown",
   "source": [
    "动态网页应该怎么抓取呢？回过头去想，一个网页不管再怎么动态，最终都是要展示给用户看的，所以浏览器应该是最知道网页内容是什么的角色。如果我们可以使用代码控制浏览器来帮我们下载网页，应该就可以解决动态网页的抓取问题。\n",
    "\n",
    "我们需要用到 selenium，selenium 不属于 Python 的系统库，所以要使用这个库需要先进行安装。安装命令为：\n",
    "\n",
    "```shell\n",
    "# 使用 conda\n",
    "conda install selenium\n",
    "\n",
    "# 或者是 pip\n",
    "pip  install selenium\n",
    "```\n",
    "\n",
    "下面演示使用 selenium 来操作默认浏览器打开豆瓣，并下载完整的豆瓣网页："
   ],
   "metadata": {
    "collapsed": false
   }
  },
  {
   "cell_type": "code",
   "execution_count": 4,
   "outputs": [],
   "source": [
    "# 从 selenium 库中导入 webdriver 类\n",
    "from selenium import webdriver\n",
    "# 创建一个 Chrome 浏览器的对象\n",
    "brow = webdriver.Chrome()\n",
    "# 使用 Chrome 对象打开 url(就是刚才豆瓣电视剧的 url)\n",
    "brow.get(\"https://movie.douban.com/tv\")\n",
    "\n",
    "# 访问 Chrome 对象的 page_source 属性，并存储在 html_content 变量中\n",
    "douban_html_content = brow.page_source\n",
    "# 调用我们之前定义的 save_to_file 函数，这次我们保存为 double_tv1.html\n",
    "# 要保存的内容就是 html_content\n",
    "save_to_file(\"douban_tv_full.html\", douban_html_content)"
   ],
   "metadata": {
    "collapsed": false
   }
  }
 ],
 "metadata": {
  "kernelspec": {
   "display_name": "Python 3",
   "language": "python",
   "name": "python3"
  },
  "language_info": {
   "codemirror_mode": {
    "name": "ipython",
    "version": 2
   },
   "file_extension": ".py",
   "mimetype": "text/x-python",
   "name": "python",
   "nbconvert_exporter": "python",
   "pygments_lexer": "ipython2",
   "version": "2.7.6"
  }
 },
 "nbformat": 4,
 "nbformat_minor": 0
}
