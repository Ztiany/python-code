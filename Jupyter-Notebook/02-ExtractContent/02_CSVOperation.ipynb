{
 "cells": [
  {
   "cell_type": "markdown",
   "source": [
    "CSV（Comma-Separated Values） 是一种使用逗号分隔来实现存储表格数据的文本文件。\n",
    "\n",
    "我们都知道表格有多种形式的存储，比如 Excel 的格式或者数据库的格式。CSV 文件也可以存储表格数据，并且能够被多种软件兼容，比如 Excel 就能直接打开 CSV 文件的表格，很多数据库软件也支持导入 CSV 文件。除了兼容性好之外，CSV 格式还是所有能存储表格的格式中最简单的一种。\n",
    "\n",
    "下面就是一个 CSV 文件的内容：\n",
    "\n",
    "```csv\n",
    "姓名,年龄,籍贯,部门\n",
    "小明,22,河北,IT部\n",
    "小亮,25,广东,IT部\n",
    "小E,23,四川,财务部\n",
    "```\n",
    "\n",
    "csv 文件的特点：\n",
    "\n",
    "- 表格中的一行，对应 CSV 文件中的一行；\n",
    "- 一行中不同单元格的内容，在 CSV 文件中用逗号分隔；\n",
    "- 务必保证每行的逗号数量是一致的（对应表格中每行的单元格一致）。\n",
    "\n",
    "下面演示如何在 python 中操作 csv 文件："
   ],
   "metadata": {
    "collapsed": false
   }
  },
  {
   "cell_type": "code",
   "execution_count": null,
   "outputs": [],
   "source": [
    "import csv\n",
    "\n",
    "# 打开 csv 文件\n",
    "persons_csv = open(\"persons.csv\", encoding=\"utf-8\")\n",
    "persons_reader = csv.DictReader(persons_csv)\n",
    "\n",
    "# 读取表头\n",
    "persons_csv_headers = persons_reader.fieldnames\n",
    "print(persons_csv_headers)\n",
    "\n",
    "# 读取内容\n",
    "persons = []\n",
    "for row in persons_reader:\n",
    "    persons.append(row)\n",
    "print(persons[0])\n",
    "\n",
    "# 获取表项的内容\n",
    "print(\"row 1：姓名\", persons[1][\"姓名\"])\n",
    "\n",
    "persons_csv.close()"
   ],
   "metadata": {
    "collapsed": false
   }
  },
  {
   "cell_type": "markdown",
   "source": [
    "下面演示通过 csv 库写入 csv 文件："
   ],
   "metadata": {
    "collapsed": false
   }
  },
  {
   "cell_type": "code",
   "execution_count": 3,
   "outputs": [],
   "source": [
    "import csv\n",
    "\n",
    "csv_file = open(\"created_2.csv\", \"w\", encoding=\"utf-8\", newline='')\n",
    "\n",
    "# 将表头存储在一个列表中\n",
    "csv_header = [\"姓名\", \"年龄\", \"籍贯\", \"部门\"]\n",
    "\n",
    "# 创建一个 DictWriter 对象，第二个参数就是上面创建的表头\n",
    "csv_writer = csv.DictWriter(csv_file, csv_header)\n",
    "\n",
    "# 写入表头\n",
    "csv_writer.writeheader()\n",
    "\n",
    "# 写入一行记录，以字典的形式，key 需要和表头对应。\n",
    "csv_writer.writerow({\"姓名\": \"小刚\", \"年龄\": \"28\", \"籍贯\": \"福建\", \"部门\": \"行政部\"})\n",
    "\n",
    "# 一次性写入多行\n",
    "row_list = [\n",
    "    {\"姓名\": \"小王\", \"年龄\": \"22\", \"籍贯\": \"北京\", \"部门\": \"开发部\"},\n",
    "    {\"姓名\": \"小妞\", \"年龄\": \"21\", \"籍贯\": \"湖南\", \"部门\": \"外勤部\"}\n",
    "]\n",
    "csv_writer.writerows(row_list)\n",
    "\n",
    "# 关闭写入的文件\n",
    "csv_file.close()"
   ],
   "metadata": {
    "collapsed": false
   }
  }
 ],
 "metadata": {
  "kernelspec": {
   "display_name": "Python 3",
   "language": "python",
   "name": "python3"
  },
  "language_info": {
   "codemirror_mode": {
    "name": "ipython",
    "version": 2
   },
   "file_extension": ".py",
   "mimetype": "text/x-python",
   "name": "python",
   "nbconvert_exporter": "python",
   "pygments_lexer": "ipython2",
   "version": "2.7.6"
  }
 },
 "nbformat": 4,
 "nbformat_minor": 0
}
