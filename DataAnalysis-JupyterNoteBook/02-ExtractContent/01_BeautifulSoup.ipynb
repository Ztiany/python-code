{
 "cells": [
  {
   "cell_type": "markdown",
   "source": [
    "下载了网页内容后，就需要对其进行分析，推荐使用 BeautifulSoup 这个库来对 html 进行解析。\n",
    "\n",
    "首先安装 BeautifulSoup：\n",
    "\n",
    "```shell\n",
    "pip install bs4\n",
    "```\n",
    "\n",
    "下面演示使用 BeautifulSoup 提取”煎蛋“的标题等信息："
   ],
   "metadata": {
    "collapsed": false
   }
  },
  {
   "cell_type": "code",
   "execution_count": 1,
   "outputs": [
    {
     "name": "stdout",
     "output_type": "stream",
     "text": [
      "<title>\n",
      "2021年03月23日 - 煎蛋\n",
      "</title>\n"
     ]
    }
   ],
   "source": [
    "# 从 bs4 模块中导入 BeautifulSoup 类\n",
    "from bs4 import BeautifulSoup\n",
    "\n",
    "# 读取文件内容\n",
    "jiandan_file = open(\"../01-DownloadPage/jiandan.html\", \"r\", encoding=\"utf-8\")\n",
    "jiandan_content = jiandan_file.read()\n",
    "jiandan_file.close()\n",
    "\n",
    "# 通过 BeautifulSoup 解析内容\n",
    "jiandan_doc = BeautifulSoup(jiandan_content)\n",
    "print(jiandan_doc.title)"
   ],
   "metadata": {
    "collapsed": false
   }
  },
  {
   "cell_type": "markdown",
   "source": [
    "BeautifulSoup 对象的基本使用:\n",
    "\n",
    "1. `jiandan_doc.title` 获取的标签 + 内容，如果只需要内容，则可以使用 get_text 方法；\n",
    "2. BeautifulSoup 对象另一个常用方法是 find_all， 用来在 html 文档中查到特定标签名以及特定属性值的标签。\n",
    "\n",
    "下面我们来使用之前的 doc 对象来过滤出新闻的标题列表。"
   ],
   "metadata": {
    "collapsed": false
   }
  },
  {
   "cell_type": "code",
   "execution_count": 5,
   "outputs": [
    {
     "name": "stdout",
     "output_type": "stream",
     "text": [
      "indexes_size = 6\n",
      "大吐槽：「我没醉，醉的是世界」\n",
      "今年世界总发电量的0.6%被用于挖比特币\n",
      "人类都向外星人发出过怎样的信息？\n",
      "接种疫苗后还是感染新冠？不要为此惊讶\n",
      "今日带货：蛋友家的血橙\n",
      "科学家首次在野外检测到抗多药的超级真菌\n"
     ]
    }
   ],
   "source": [
    "def get_title(label_object):\n",
    "    # 找到 label_object 下所有的 a 标签，且该标签的 target 属性为 _blank\n",
    "    a_labels = label_object.find_all(\"a\", target=\"_blank\")\n",
    "    title_label = a_labels[0]\n",
    "    return title_label.get_text()\n",
    "\n",
    "\n",
    "indexes = jiandan_doc.find_all(\"div\", class_=\"indexs\")\n",
    "indexes_size = len(indexes)\n",
    "print('indexes_size = {:d}'.format(indexes_size))\n",
    "\n",
    "for i in range(0, indexes_size):\n",
    "    title = get_title(indexes[i])\n",
    "    print(title)"
   ],
   "metadata": {
    "collapsed": false
   }
  }
 ],
 "metadata": {
  "kernelspec": {
   "display_name": "Python 3",
   "language": "python",
   "name": "python3"
  },
  "language_info": {
   "codemirror_mode": {
    "name": "ipython",
    "version": 2
   },
   "file_extension": ".py",
   "mimetype": "text/x-python",
   "name": "python",
   "nbconvert_exporter": "python",
   "pygments_lexer": "ipython2",
   "version": "2.7.6"
  }
 },
 "nbformat": 4,
 "nbformat_minor": 0
}
