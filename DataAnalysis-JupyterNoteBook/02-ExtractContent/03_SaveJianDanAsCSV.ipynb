{
 "cells": [
  {
   "cell_type": "markdown",
   "source": [
    "下面演示将“煎蛋”的内容保存为 CSV："
   ],
   "metadata": {
    "collapsed": false
   }
  },
  {
   "cell_type": "code",
   "execution_count": 11,
   "outputs": [
    {
     "name": "stdout",
     "output_type": "stream",
     "text": [
      "[{'标题': '大吐槽：「我没醉，醉的是世界」', 'Tag': '大吐槽'}, {'标题': '今年世界总发电量的0.6%被用于挖比特币', 'Tag': '比特币'}, {'标题': '人类都向外星人发出过怎样的信息？', 'Tag': '外星人'}, {'标题': '接种疫苗后还是感染新冠？不要为此惊讶', 'Tag': '新冠'}, {'标题': '今日带货：蛋友家的血橙', 'Tag': '带货'}, {'标题': '科学家首次在野外检测到抗多药的超级真菌', 'Tag': '医学'}]\n"
     ]
    }
   ],
   "source": [
    "from bs4 import BeautifulSoup\n",
    "import csv\n",
    "\n",
    "\n",
    "# 输入参数为要分析的 html 文件名，返回值为对应的 BeautifulSoup 对象\n",
    "def create_doc_from_filename(filename):\n",
    "    fo = open(filename, \"r\", encoding='utf-8')\n",
    "    html_content = fo.read()\n",
    "    fo.close()\n",
    "    doc = BeautifulSoup(html_content)\n",
    "    return doc\n",
    "\n",
    "\n",
    "# 输入参数是 BeautifulSoup 对象，返回包含新闻的 div 元素列表\n",
    "def find_index_labels(doc):\n",
    "    index_labels = doc.find_all(\"div\", class_=\"indexs\")\n",
    "    return index_labels\n",
    "\n",
    "\n",
    "# 从第一次 find_all 获取的标签对象中抽取标题\n",
    "def get_title(label_object):\n",
    "    # 从刚才的参数传入的标签对象中过滤出所有 target=_blank 的 a 标签\n",
    "    a_labels = label_object.find_all(\"a\", target=\"_blank\")\n",
    "    # 取第一个标签对象\n",
    "    my_label = a_labels[0]\n",
    "    # 将标签的文字内容作为返回值返回\n",
    "    return my_label.get_text()\n",
    "\n",
    "\n",
    "# 和 get_title 函数一样，传入 label_object， 返回发布时间\n",
    "def get_tag(label_object):\n",
    "    # 找到 class=comment-link 的 span 标签\n",
    "    tags = label_object.find_all(\"a\", rel=\"tag\")\n",
    "    return tags[0].get_text()\n",
    "\n",
    "\n",
    "jiandan_list = []\n",
    "# 调用 create_doc_from_filename 函数，创建 BeautifulSoup 对象\n",
    "jiandan_doc = create_doc_from_filename(\"../01-DownloadPage/jiandan.html\")\n",
    "# 调用find_index_labels 函数，传入 BeautifulSoup 对象\n",
    "# 将返回的 div 列表存储在 index_labels 中\n",
    "jiandan_labels = find_index_labels(jiandan_doc)\n",
    "# 使用遍历循环遍历 index_labels 列表，循环变量为 label_object\n",
    "for label in jiandan_labels:\n",
    "    # 调用 get_title， 传入当前处理的 div 元素对象，获取标题\n",
    "    title = get_title(label)\n",
    "    # 调用 get_pub_time，传入当前处理的 div 元素对象，获取发布时间\n",
    "    tag = get_tag(label)\n",
    "    # 将标题和 Tag 保存到列表中\n",
    "    jiandan_list.append({\"标题\": title, \"Tag\": tag})\n",
    "\n",
    "# 打印收集到的内容\n",
    "print(jiandan_list)\n",
    "\n",
    "# 写入 csv 文件\n",
    "jiandan_csv_file = open(\"jiandan.csv\", \"w\", encoding=\"utf-8\", newline='')\n",
    "jiandan_header = [\"标题\", \"Tag\"]\n",
    "jiandan_csv_doc = csv.DictWriter(jiandan_csv_file, jiandan_header)\n",
    "jiandan_csv_doc.writeheader()\n",
    "jiandan_csv_doc.writerows(jiandan_list)\n",
    "\n",
    "# 关闭文件\n",
    "jiandan_csv_file.close()"
   ],
   "metadata": {
    "collapsed": false
   }
  }
 ],
 "metadata": {
  "kernelspec": {
   "display_name": "Python 3",
   "language": "python",
   "name": "python3"
  },
  "language_info": {
   "codemirror_mode": {
    "name": "ipython",
    "version": 2
   },
   "file_extension": ".py",
   "mimetype": "text/x-python",
   "name": "python",
   "nbconvert_exporter": "python",
   "pygments_lexer": "ipython2",
   "version": "2.7.6"
  }
 },
 "nbformat": 4,
 "nbformat_minor": 0
}
