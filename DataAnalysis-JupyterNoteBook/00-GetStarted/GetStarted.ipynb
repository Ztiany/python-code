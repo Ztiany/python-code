{
 "cells": [
  {
   "cell_type": "markdown",
   "source": [
    "# 数据分析学习启航\n",
    "\n",
    "首先需要在电脑上配置出一套面向数据分析的 Python 开发环境，知道如何新建 Notebook，以及在 Notebook中添加代码 Cell 来输入代码、文本 Cell 来输入文字。\n",
    "\n",
    "对于需要编写 Python 代码进行数据分析的工作而言，一款具备强大的自动完成和错误提示的开发工具、掌握常用的快捷键会让你事半功倍；市面上的 Python 数据分析教程普遍使用 Jupyter Notebook 或者 Spyder 集成开发环境，但这两者都或多或少缺乏必要的功能。 比如 Notebook 网页版不支持自动完成和错误提示，每次输入之后需要 Run 一次才能知道自己写的是否正确； Spyder 缺乏 Notebook 这样文档代码混排的机制，而数据分析往往需要文本和代码穿插展示，显然 Spyder 也是不符合要求的。\n",
    "\n",
    "因此，有以下两个方案：\n",
    "\n",
    "1. 使用 Anaconda + VS Code + Jupyter Notebook 插件，可以搭建一套具备代码提示和自动完成的、高效的、面向数据分析的开发环境；\n",
    "2. 使用 PyCharm 也可以很高效地进行数据分析的开发工作。（前提是我们需要通过 pip 安装数据分析工作需要的各种库，当然也可以设置 PyCharm 使用 Anaconda 中自带的 Python Interpreter）\n",
    "\n",
    "---\n",
    "\n",
    "> 名词解释：\n",
    "> - Jupyter Notebook：一款在网页上编写 Python 代码与文本的开发工具（下文简称 Notebook）\n",
    "> - Spyder 集成开发环境：一款运行在 PC 上集开发、调试、发布为一身的综合性 Python 开发工具"
   ],
   "metadata": {
    "collapsed": false
   }
  },
  {
   "cell_type": "code",
   "execution_count": 1,
   "outputs": [
    {
     "name": "stdout",
     "output_type": "stream",
     "text": [
      "I am using Notebook\n"
     ]
    }
   ],
   "source": [
    "print(\"I am using Notebook\")"
   ],
   "metadata": {
    "collapsed": false
   }
  },
  {
   "cell_type": "markdown",
   "source": [
    "我的数据分析启程了！"
   ],
   "metadata": {
    "collapsed": false
   }
  },
  {
   "cell_type": "code",
   "execution_count": 2,
   "outputs": [
    {
     "name": "stdout",
     "output_type": "stream",
     "text": [
      "7\n"
     ]
    }
   ],
   "source": [
    "print(1+1)"
   ],
   "metadata": {
    "collapsed": false
   }
  }
 ],
 "metadata": {
  "kernelspec": {
   "display_name": "Python 3",
   "language": "python",
   "name": "python3"
  },
  "language_info": {
   "codemirror_mode": {
    "name": "ipython",
    "version": 2
   },
   "file_extension": ".py",
   "mimetype": "text/x-python",
   "name": "python",
   "nbconvert_exporter": "python",
   "pygments_lexer": "ipython2",
   "version": "2.7.6"
  }
 },
 "nbformat": 4,
 "nbformat_minor": 0
}
