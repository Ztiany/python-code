{
 "cells": [
  {
   "cell_type": "markdown",
   "metadata": {},
   "source": [
    "#  数据清洗：表格数据缺失值与异常值的处理\n",
    "\n",
    "**为什么需要做数据异常处理**：现实工作中，因为在数据记录和数据存储环节偶尔会出现问题，比如互联网公司后端的行为日志记录系统时不时就会出现问题，导致部分数据的丢失。所以数据分析师拿到的原始数据中会存在很多字段或者记录是丢失的。为了不让这些缺失的数据影响数据分析的结果，在分析之前往往就需要进行数据清洗，对这些缺失的数据进行预处理。"
   ]
  },
  {
   "cell_type": "markdown",
   "metadata": {},
   "source": [
    "## 1 什么是缺失值\n",
    "\n",
    "当我们从 CSV 文件或者其他数据源加载到 DataFrame 中时，往往会遇到某些单元格的数据是缺失的。当我们打印出 DataFrame 时，缺失的部分会显示为 NaN， 或者 None，或者 NaT（取决于单元格的数据类型），这样的值我们就称之为缺失值。\n",
    "\n",
    "参考下面 DataFrame："
   ]
  },
  {
   "cell_type": "code",
   "execution_count": 23,
   "metadata": {},
   "outputs": [
    {
     "name": "stderr",
     "output_type": "stream",
     "text": [
      "C:\\Users\\lenovo\\AppData\\Local\\Temp\\ipykernel_5700\\2324112345.py:20: FutureWarning: The frame.append method is deprecated and will be removed from pandas in a future version. Use pandas.concat instead.\n",
      "  df_scores = df_scores.append(ser_xl)\n",
      "C:\\Users\\lenovo\\AppData\\Local\\Temp\\ipykernel_5700\\2324112345.py:25: FutureWarning: The frame.append method is deprecated and will be removed from pandas in a future version. Use pandas.concat instead.\n",
      "  df_scores = df_scores.append(ser_xw)\n"
     ]
    },
    {
     "data": {
      "text/html": [
       "<div>\n",
       "<style scoped>\n",
       "    .dataframe tbody tr th:only-of-type {\n",
       "        vertical-align: middle;\n",
       "    }\n",
       "\n",
       "    .dataframe tbody tr th {\n",
       "        vertical-align: top;\n",
       "    }\n",
       "\n",
       "    .dataframe thead th {\n",
       "        text-align: right;\n",
       "    }\n",
       "</style>\n",
       "<table border=\"1\" class=\"dataframe\">\n",
       "  <thead>\n",
       "    <tr style=\"text-align: right;\">\n",
       "      <th></th>\n",
       "      <th>听力</th>\n",
       "      <th>阅读</th>\n",
       "      <th>写作</th>\n",
       "      <th>口试</th>\n",
       "    </tr>\n",
       "  </thead>\n",
       "  <tbody>\n",
       "    <tr>\n",
       "      <th>小亮</th>\n",
       "      <td>20.26</td>\n",
       "      <td>71.58</td>\n",
       "      <td>27.06</td>\n",
       "      <td>97.51</td>\n",
       "    </tr>\n",
       "    <tr>\n",
       "      <th>小明</th>\n",
       "      <td>40.61</td>\n",
       "      <td>72.32</td>\n",
       "      <td>56.54</td>\n",
       "      <td>5.45</td>\n",
       "    </tr>\n",
       "    <tr>\n",
       "      <th>小E</th>\n",
       "      <td>72.44</td>\n",
       "      <td>68.89</td>\n",
       "      <td>6.65</td>\n",
       "      <td>75.54</td>\n",
       "    </tr>\n",
       "    <tr>\n",
       "      <th>小李</th>\n",
       "      <td>30.04</td>\n",
       "      <td>NaN</td>\n",
       "      <td>NaN</td>\n",
       "      <td>NaN</td>\n",
       "    </tr>\n",
       "    <tr>\n",
       "      <th>小王</th>\n",
       "      <td>NaN</td>\n",
       "      <td>91.00</td>\n",
       "      <td>72.34</td>\n",
       "      <td>NaN</td>\n",
       "    </tr>\n",
       "  </tbody>\n",
       "</table>\n",
       "</div>"
      ],
      "text/plain": [
       "       听力     阅读     写作     口试\n",
       "小亮  20.26  71.58  27.06  97.51\n",
       "小明  40.61  72.32  56.54   5.45\n",
       "小E  72.44  68.89   6.65  75.54\n",
       "小李  30.04    NaN    NaN    NaN\n",
       "小王    NaN  91.00  72.34    NaN"
      ]
     },
     "execution_count": 23,
     "metadata": {},
     "output_type": "execute_result"
    }
   ],
   "source": [
    "import pandas as pd\n",
    "\n",
    "# DataFrame 的列名\n",
    "index_arr = [\"听力\", \"阅读\", \"写作\", \"口试\"]\n",
    "\n",
    "scores = [\n",
    "    [20.26, 71.58, 27.06, 97.51],\n",
    "    [40.61, 72.32, 56.54, 5.45],\n",
    "    [72.44, 68.89, 6.65, 75.54]\n",
    "]\n",
    "\n",
    "# 从 scores 列表中创建 DataFrame\n",
    "# index 参数代表行索引\n",
    "# columns 参数代表列索引\n",
    "df_scores = pd.DataFrame(scores, index=[\"小亮\", \"小明\", \"小E\"], columns=index_arr)\n",
    "\n",
    "# 生成小李的 Series，没有的成绩用 None 取代\n",
    "ser_xl = pd.Series([30.04, None, None, None], index=index_arr, name=\"小李\")\n",
    "# 将小李的 Series 添加到 df_scores 中\n",
    "df_scores = df_scores.append(ser_xl)\n",
    "\n",
    "# 生成小王的 Series，没有的成绩用 None 取代\n",
    "ser_xw = pd.Series([None, 91.00, 72.34, None], index=index_arr, name=\"小王\")\n",
    "# 将小王的 Series 添加到 df_scores 中\n",
    "df_scores = df_scores.append(ser_xw)\n",
    "\n",
    "# 查看 df_scores\n",
    "df_scores"
   ]
  },
  {
   "cell_type": "markdown",
   "metadata": {},
   "source": [
    "可以看到，小李的阅读、写作和口试显示了 NaN，代表数字类型的缺失值（小王也类似）。时间类型的缺失值一般显示为 NaT，而字符串类型的则显示为 None。在实际项目中，缺失值可以说一直存在于原始的数据源中。如果我们在数据分析时不把它处理掉，很可能会**得到错误的结果**。比如如果要计算写作科目的平均分，小李的 NaN 到底是当作 0，还是当作平均数，还是干脆就不把小李纳入计算，都需要**根据情况进行决策，来最大化降低缺失值对于分析结果的影响**。"
   ]
  },
  {
   "cell_type": "markdown",
   "metadata": {},
   "source": [
    "## 2 查询缺失值\n",
    "\n",
    "处理缺失值，首先第一步是查询缺失值是否存在，以及数量情况如何。"
   ]
  },
  {
   "cell_type": "code",
   "execution_count": 4,
   "metadata": {},
   "outputs": [
    {
     "data": {
      "text/html": [
       "<div>\n",
       "<style scoped>\n",
       "    .dataframe tbody tr th:only-of-type {\n",
       "        vertical-align: middle;\n",
       "    }\n",
       "\n",
       "    .dataframe tbody tr th {\n",
       "        vertical-align: top;\n",
       "    }\n",
       "\n",
       "    .dataframe thead th {\n",
       "        text-align: right;\n",
       "    }\n",
       "</style>\n",
       "<table border=\"1\" class=\"dataframe\">\n",
       "  <thead>\n",
       "    <tr style=\"text-align: right;\">\n",
       "      <th></th>\n",
       "      <th>听力</th>\n",
       "      <th>阅读</th>\n",
       "      <th>写作</th>\n",
       "      <th>口试</th>\n",
       "    </tr>\n",
       "  </thead>\n",
       "  <tbody>\n",
       "    <tr>\n",
       "      <th>小亮</th>\n",
       "      <td>False</td>\n",
       "      <td>False</td>\n",
       "      <td>False</td>\n",
       "      <td>False</td>\n",
       "    </tr>\n",
       "    <tr>\n",
       "      <th>小明</th>\n",
       "      <td>False</td>\n",
       "      <td>False</td>\n",
       "      <td>False</td>\n",
       "      <td>False</td>\n",
       "    </tr>\n",
       "    <tr>\n",
       "      <th>小E</th>\n",
       "      <td>False</td>\n",
       "      <td>False</td>\n",
       "      <td>False</td>\n",
       "      <td>False</td>\n",
       "    </tr>\n",
       "    <tr>\n",
       "      <th>小李</th>\n",
       "      <td>False</td>\n",
       "      <td>True</td>\n",
       "      <td>True</td>\n",
       "      <td>True</td>\n",
       "    </tr>\n",
       "    <tr>\n",
       "      <th>小王</th>\n",
       "      <td>True</td>\n",
       "      <td>False</td>\n",
       "      <td>False</td>\n",
       "      <td>True</td>\n",
       "    </tr>\n",
       "  </tbody>\n",
       "</table>\n",
       "</div>"
      ],
      "text/plain": [
       "       听力     阅读     写作     口试\n",
       "小亮  False  False  False  False\n",
       "小明  False  False  False  False\n",
       "小E  False  False  False  False\n",
       "小李  False   True   True   True\n",
       "小王   True  False  False   True"
      ]
     },
     "execution_count": 4,
     "metadata": {},
     "output_type": "execute_result"
    }
   ],
   "source": [
    "# 1：按单元格查看缺失值情况\n",
    "df_scores.isna()"
   ]
  },
  {
   "cell_type": "code",
   "execution_count": 5,
   "metadata": {},
   "outputs": [
    {
     "data": {
      "text/plain": [
       "听力    1\n",
       "阅读    1\n",
       "写作    1\n",
       "口试    2\n",
       "dtype: int64"
      ]
     },
     "execution_count": 5,
     "metadata": {},
     "output_type": "execute_result"
    }
   ],
   "source": [
    "# 2：按列查看缺失值\n",
    "df_scores.isna().sum()"
   ]
  },
  {
   "cell_type": "code",
   "execution_count": 6,
   "metadata": {},
   "outputs": [
    {
     "data": {
      "text/plain": [
       "小亮    0\n",
       "小明    0\n",
       "小E    0\n",
       "小李    3\n",
       "小王    2\n",
       "dtype: int64"
      ]
     },
     "execution_count": 6,
     "metadata": {},
     "output_type": "execute_result"
    }
   ],
   "source": [
    "# 3：按行查看缺失值\n",
    "df_scores.isna().sum(1)"
   ]
  },
  {
   "cell_type": "code",
   "execution_count": 7,
   "metadata": {},
   "outputs": [
    {
     "data": {
      "text/html": [
       "<div>\n",
       "<style scoped>\n",
       "    .dataframe tbody tr th:only-of-type {\n",
       "        vertical-align: middle;\n",
       "    }\n",
       "\n",
       "    .dataframe tbody tr th {\n",
       "        vertical-align: top;\n",
       "    }\n",
       "\n",
       "    .dataframe thead th {\n",
       "        text-align: right;\n",
       "    }\n",
       "</style>\n",
       "<table border=\"1\" class=\"dataframe\">\n",
       "  <thead>\n",
       "    <tr style=\"text-align: right;\">\n",
       "      <th></th>\n",
       "      <th>听力</th>\n",
       "      <th>阅读</th>\n",
       "      <th>写作</th>\n",
       "      <th>口试</th>\n",
       "    </tr>\n",
       "  </thead>\n",
       "  <tbody>\n",
       "    <tr>\n",
       "      <th>小亮</th>\n",
       "      <td>20.26</td>\n",
       "      <td>71.58</td>\n",
       "      <td>27.06</td>\n",
       "      <td>97.51</td>\n",
       "    </tr>\n",
       "    <tr>\n",
       "      <th>小明</th>\n",
       "      <td>40.61</td>\n",
       "      <td>72.32</td>\n",
       "      <td>56.54</td>\n",
       "      <td>5.45</td>\n",
       "    </tr>\n",
       "    <tr>\n",
       "      <th>小E</th>\n",
       "      <td>72.44</td>\n",
       "      <td>68.89</td>\n",
       "      <td>6.65</td>\n",
       "      <td>75.54</td>\n",
       "    </tr>\n",
       "    <tr>\n",
       "      <th>小李</th>\n",
       "      <td>30.04</td>\n",
       "      <td>NaN</td>\n",
       "      <td>NaN</td>\n",
       "      <td>NaN</td>\n",
       "    </tr>\n",
       "    <tr>\n",
       "      <th>小王</th>\n",
       "      <td>NaN</td>\n",
       "      <td>91.00</td>\n",
       "      <td>72.34</td>\n",
       "      <td>NaN</td>\n",
       "    </tr>\n",
       "  </tbody>\n",
       "</table>\n",
       "</div>"
      ],
      "text/plain": [
       "       听力     阅读     写作     口试\n",
       "小亮  20.26  71.58  27.06  97.51\n",
       "小明  40.61  72.32  56.54   5.45\n",
       "小E  72.44  68.89   6.65  75.54\n",
       "小李  30.04    NaN    NaN    NaN\n",
       "小王    NaN  91.00  72.34    NaN"
      ]
     },
     "execution_count": 7,
     "metadata": {},
     "output_type": "execute_result"
    }
   ],
   "source": [
    "# 4：过滤出有缺失值的列\n",
    "# 行索引部分，取所有的行\n",
    "# 列索引部分，取所有包含缺失值的列\n",
    "# any 函数类似 sum 函数，但 any 函数做的是布尔聚合，当列有一个或以上的 True 时，结果就是 True， 否则为 False\n",
    "df_scores.loc[:, df_scores.isna().any()]\n",
    "\n",
    "# 因为目前我们的 DataFrame 每一列都至少包含一个缺失值，所以过滤列之后输出了所有记录。"
   ]
  },
  {
   "cell_type": "code",
   "execution_count": 8,
   "metadata": {},
   "outputs": [
    {
     "name": "stderr",
     "output_type": "stream",
     "text": [
      "C:\\Users\\lenovo\\AppData\\Local\\Temp\\ipykernel_19336\\1022536686.py:4: FutureWarning: In a future version of pandas all arguments of DataFrame.any and Series.any will be keyword-only.\n",
      "  df_scores.loc[df_scores.isna().any(1),:]\n"
     ]
    },
    {
     "data": {
      "text/html": [
       "<div>\n",
       "<style scoped>\n",
       "    .dataframe tbody tr th:only-of-type {\n",
       "        vertical-align: middle;\n",
       "    }\n",
       "\n",
       "    .dataframe tbody tr th {\n",
       "        vertical-align: top;\n",
       "    }\n",
       "\n",
       "    .dataframe thead th {\n",
       "        text-align: right;\n",
       "    }\n",
       "</style>\n",
       "<table border=\"1\" class=\"dataframe\">\n",
       "  <thead>\n",
       "    <tr style=\"text-align: right;\">\n",
       "      <th></th>\n",
       "      <th>听力</th>\n",
       "      <th>阅读</th>\n",
       "      <th>写作</th>\n",
       "      <th>口试</th>\n",
       "    </tr>\n",
       "  </thead>\n",
       "  <tbody>\n",
       "    <tr>\n",
       "      <th>小李</th>\n",
       "      <td>30.04</td>\n",
       "      <td>NaN</td>\n",
       "      <td>NaN</td>\n",
       "      <td>NaN</td>\n",
       "    </tr>\n",
       "    <tr>\n",
       "      <th>小王</th>\n",
       "      <td>NaN</td>\n",
       "      <td>91.0</td>\n",
       "      <td>72.34</td>\n",
       "      <td>NaN</td>\n",
       "    </tr>\n",
       "  </tbody>\n",
       "</table>\n",
       "</div>"
      ],
      "text/plain": [
       "       听力    阅读     写作  口试\n",
       "小李  30.04   NaN    NaN NaN\n",
       "小王    NaN  91.0  72.34 NaN"
      ]
     },
     "execution_count": 8,
     "metadata": {},
     "output_type": "execute_result"
    }
   ],
   "source": [
    "# 5：过滤出有缺失值的行\n",
    "# 行索引部分，通过 any(1) 来聚合行维度的结果\n",
    "# 列索引部分，取所有的列\n",
    "df_scores.loc[df_scores.isna().any(1), :]"
   ]
  },
  {
   "cell_type": "code",
   "execution_count": 9,
   "metadata": {},
   "outputs": [
    {
     "data": {
      "text/plain": [
       "5"
      ]
     },
     "execution_count": 9,
     "metadata": {},
     "output_type": "execute_result"
    }
   ],
   "source": [
    "# 6：缺失值的总个数\n",
    "# 获取整个 DataFrame 一共包含多少个缺失值。\n",
    "df_scores.isna().sum().sum()"
   ]
  },
  {
   "cell_type": "markdown",
   "metadata": {},
   "source": [
    "## 3 处理缺失值\n",
    "\n",
    "常见的缺失值处理方法有以下三种。\n",
    "\n",
    "1. 缺失值删除\n",
    "2. 缺失值替换\n",
    "3. 缺失值插值\n",
    "\n",
    "另外，还需要处理重复值。"
   ]
  },
  {
   "cell_type": "markdown",
   "metadata": {},
   "source": [
    "### 缺失值删除"
   ]
  },
  {
   "cell_type": "code",
   "execution_count": 3,
   "metadata": {},
   "outputs": [
    {
     "data": {
      "text/html": [
       "<div>\n",
       "<style scoped>\n",
       "    .dataframe tbody tr th:only-of-type {\n",
       "        vertical-align: middle;\n",
       "    }\n",
       "\n",
       "    .dataframe tbody tr th {\n",
       "        vertical-align: top;\n",
       "    }\n",
       "\n",
       "    .dataframe thead th {\n",
       "        text-align: right;\n",
       "    }\n",
       "</style>\n",
       "<table border=\"1\" class=\"dataframe\">\n",
       "  <thead>\n",
       "    <tr style=\"text-align: right;\">\n",
       "      <th></th>\n",
       "      <th>听力</th>\n",
       "      <th>阅读</th>\n",
       "      <th>写作</th>\n",
       "      <th>口试</th>\n",
       "    </tr>\n",
       "  </thead>\n",
       "  <tbody>\n",
       "    <tr>\n",
       "      <th>小亮</th>\n",
       "      <td>20.26</td>\n",
       "      <td>71.58</td>\n",
       "      <td>27.06</td>\n",
       "      <td>97.51</td>\n",
       "    </tr>\n",
       "    <tr>\n",
       "      <th>小明</th>\n",
       "      <td>40.61</td>\n",
       "      <td>72.32</td>\n",
       "      <td>56.54</td>\n",
       "      <td>5.45</td>\n",
       "    </tr>\n",
       "    <tr>\n",
       "      <th>小E</th>\n",
       "      <td>72.44</td>\n",
       "      <td>68.89</td>\n",
       "      <td>6.65</td>\n",
       "      <td>75.54</td>\n",
       "    </tr>\n",
       "  </tbody>\n",
       "</table>\n",
       "</div>"
      ],
      "text/plain": [
       "       听力     阅读     写作     口试\n",
       "小亮  20.26  71.58  27.06  97.51\n",
       "小明  40.61  72.32  56.54   5.45\n",
       "小E  72.44  68.89   6.65  75.54"
      ]
     },
     "execution_count": 3,
     "metadata": {},
     "output_type": "execute_result"
    }
   ],
   "source": [
    "# 删除所有缺失值所在的行\n",
    "df_scores.dropna()"
   ]
  },
  {
   "cell_type": "code",
   "execution_count": 4,
   "metadata": {},
   "outputs": [
    {
     "data": {
      "text/html": [
       "<div>\n",
       "<style scoped>\n",
       "    .dataframe tbody tr th:only-of-type {\n",
       "        vertical-align: middle;\n",
       "    }\n",
       "\n",
       "    .dataframe tbody tr th {\n",
       "        vertical-align: top;\n",
       "    }\n",
       "\n",
       "    .dataframe thead th {\n",
       "        text-align: right;\n",
       "    }\n",
       "</style>\n",
       "<table border=\"1\" class=\"dataframe\">\n",
       "  <thead>\n",
       "    <tr style=\"text-align: right;\">\n",
       "      <th></th>\n",
       "    </tr>\n",
       "  </thead>\n",
       "  <tbody>\n",
       "    <tr>\n",
       "      <th>小亮</th>\n",
       "    </tr>\n",
       "    <tr>\n",
       "      <th>小明</th>\n",
       "    </tr>\n",
       "    <tr>\n",
       "      <th>小E</th>\n",
       "    </tr>\n",
       "    <tr>\n",
       "      <th>小李</th>\n",
       "    </tr>\n",
       "    <tr>\n",
       "      <th>小王</th>\n",
       "    </tr>\n",
       "  </tbody>\n",
       "</table>\n",
       "</div>"
      ],
      "text/plain": [
       "Empty DataFrame\n",
       "Columns: []\n",
       "Index: [小亮, 小明, 小E, 小李, 小王]"
      ]
     },
     "execution_count": 4,
     "metadata": {},
     "output_type": "execute_result"
    }
   ],
   "source": [
    "# 删除所有缺失值所在的列，这里因为我们的 DataFrame 每一列都至少有一个缺失值，所以删除后 DataFrame 只剩下行索引。\n",
    "df_scores.dropna(axis=1)"
   ]
  },
  {
   "cell_type": "code",
   "execution_count": 5,
   "metadata": {},
   "outputs": [
    {
     "data": {
      "text/html": [
       "<div>\n",
       "<style scoped>\n",
       "    .dataframe tbody tr th:only-of-type {\n",
       "        vertical-align: middle;\n",
       "    }\n",
       "\n",
       "    .dataframe tbody tr th {\n",
       "        vertical-align: top;\n",
       "    }\n",
       "\n",
       "    .dataframe thead th {\n",
       "        text-align: right;\n",
       "    }\n",
       "</style>\n",
       "<table border=\"1\" class=\"dataframe\">\n",
       "  <thead>\n",
       "    <tr style=\"text-align: right;\">\n",
       "      <th></th>\n",
       "      <th>听力</th>\n",
       "      <th>阅读</th>\n",
       "      <th>写作</th>\n",
       "      <th>口试</th>\n",
       "    </tr>\n",
       "  </thead>\n",
       "  <tbody>\n",
       "    <tr>\n",
       "      <th>小亮</th>\n",
       "      <td>20.26</td>\n",
       "      <td>71.58</td>\n",
       "      <td>27.06</td>\n",
       "      <td>97.51</td>\n",
       "    </tr>\n",
       "    <tr>\n",
       "      <th>小明</th>\n",
       "      <td>40.61</td>\n",
       "      <td>72.32</td>\n",
       "      <td>56.54</td>\n",
       "      <td>5.45</td>\n",
       "    </tr>\n",
       "    <tr>\n",
       "      <th>小E</th>\n",
       "      <td>72.44</td>\n",
       "      <td>68.89</td>\n",
       "      <td>6.65</td>\n",
       "      <td>75.54</td>\n",
       "    </tr>\n",
       "    <tr>\n",
       "      <th>小王</th>\n",
       "      <td>NaN</td>\n",
       "      <td>91.00</td>\n",
       "      <td>72.34</td>\n",
       "      <td>NaN</td>\n",
       "    </tr>\n",
       "  </tbody>\n",
       "</table>\n",
       "</div>"
      ],
      "text/plain": [
       "       听力     阅读     写作     口试\n",
       "小亮  20.26  71.58  27.06  97.51\n",
       "小明  40.61  72.32  56.54   5.45\n",
       "小E  72.44  68.89   6.65  75.54\n",
       "小王    NaN  91.00  72.34    NaN"
      ]
     },
     "execution_count": 5,
     "metadata": {},
     "output_type": "execute_result"
    }
   ],
   "source": [
    "# 删除少于 X 个正常值的行【小李的正常值只有 1 个，所以被删除。而小王的正常值有两个，所以被保留。】\n",
    "df_scores.dropna(thresh=2)"
   ]
  },
  {
   "cell_type": "code",
   "execution_count": 6,
   "metadata": {},
   "outputs": [
    {
     "data": {
      "text/html": [
       "<div>\n",
       "<style scoped>\n",
       "    .dataframe tbody tr th:only-of-type {\n",
       "        vertical-align: middle;\n",
       "    }\n",
       "\n",
       "    .dataframe tbody tr th {\n",
       "        vertical-align: top;\n",
       "    }\n",
       "\n",
       "    .dataframe thead th {\n",
       "        text-align: right;\n",
       "    }\n",
       "</style>\n",
       "<table border=\"1\" class=\"dataframe\">\n",
       "  <thead>\n",
       "    <tr style=\"text-align: right;\">\n",
       "      <th></th>\n",
       "      <th>听力</th>\n",
       "      <th>阅读</th>\n",
       "      <th>写作</th>\n",
       "      <th>口试</th>\n",
       "    </tr>\n",
       "  </thead>\n",
       "  <tbody>\n",
       "    <tr>\n",
       "      <th>小亮</th>\n",
       "      <td>20.26</td>\n",
       "      <td>71.58</td>\n",
       "      <td>27.06</td>\n",
       "      <td>97.51</td>\n",
       "    </tr>\n",
       "    <tr>\n",
       "      <th>小明</th>\n",
       "      <td>40.61</td>\n",
       "      <td>72.32</td>\n",
       "      <td>56.54</td>\n",
       "      <td>5.45</td>\n",
       "    </tr>\n",
       "    <tr>\n",
       "      <th>小E</th>\n",
       "      <td>72.44</td>\n",
       "      <td>68.89</td>\n",
       "      <td>6.65</td>\n",
       "      <td>75.54</td>\n",
       "    </tr>\n",
       "    <tr>\n",
       "      <th>小李</th>\n",
       "      <td>30.04</td>\n",
       "      <td>NaN</td>\n",
       "      <td>NaN</td>\n",
       "      <td>NaN</td>\n",
       "    </tr>\n",
       "  </tbody>\n",
       "</table>\n",
       "</div>"
      ],
      "text/plain": [
       "       听力     阅读     写作     口试\n",
       "小亮  20.26  71.58  27.06  97.51\n",
       "小明  40.61  72.32  56.54   5.45\n",
       "小E  72.44  68.89   6.65  75.54\n",
       "小李  30.04    NaN    NaN    NaN"
      ]
     },
     "execution_count": 6,
     "metadata": {},
     "output_type": "execute_result"
    }
   ],
   "source": [
    "# 参考某几列作为删除依据\n",
    "# 我们的数据表中不同的列权重（重要性）是不一样的。比如这次职工英语考试，最关键的是听力，所以我们希望只看听力这一列，如果听力是缺失值，则删除，其他列有缺失值则不删除。可以通过 subset 参数实现。\n",
    "df_scores.dropna(subset=[\"听力\"])"
   ]
  },
  {
   "cell_type": "markdown",
   "metadata": {},
   "source": [
    "另外，需要注意一点的是，dropna 方法默认不会改变调用它的 DataFrame，而是会将删除缺失值后的 DataFrame 作为函数的返回值返回。所以上面的代码并没有实际修改到 df_scores。如果需要实际修改 df_scores ，则需要做一次赋值，比如： `df_scores = df_scores.dropna()`。"
   ]
  },
  {
   "cell_type": "markdown",
   "metadata": {},
   "source": [
    "### 缺失值替换\n",
    "\n",
    "除了删除之外，另一个主流的缺失值处理方式就是替换。简单来说就是将缺失值的部分替换为一个固定的值，来减少缺失值带来的对于分析结果的不确定性。当数据量大且缺失值的数量也不小的时候，使用填充策略相比删除策略能显著提升分析结果的准确性。\n",
    "\n",
    "缺失值替换有以下几种策略："
   ]
  },
  {
   "cell_type": "code",
   "execution_count": 7,
   "metadata": {},
   "outputs": [
    {
     "data": {
      "text/html": [
       "<div>\n",
       "<style scoped>\n",
       "    .dataframe tbody tr th:only-of-type {\n",
       "        vertical-align: middle;\n",
       "    }\n",
       "\n",
       "    .dataframe tbody tr th {\n",
       "        vertical-align: top;\n",
       "    }\n",
       "\n",
       "    .dataframe thead th {\n",
       "        text-align: right;\n",
       "    }\n",
       "</style>\n",
       "<table border=\"1\" class=\"dataframe\">\n",
       "  <thead>\n",
       "    <tr style=\"text-align: right;\">\n",
       "      <th></th>\n",
       "      <th>听力</th>\n",
       "      <th>阅读</th>\n",
       "      <th>写作</th>\n",
       "      <th>口试</th>\n",
       "    </tr>\n",
       "  </thead>\n",
       "  <tbody>\n",
       "    <tr>\n",
       "      <th>小亮</th>\n",
       "      <td>20.26</td>\n",
       "      <td>71.58</td>\n",
       "      <td>27.06</td>\n",
       "      <td>97.51</td>\n",
       "    </tr>\n",
       "    <tr>\n",
       "      <th>小明</th>\n",
       "      <td>40.61</td>\n",
       "      <td>72.32</td>\n",
       "      <td>56.54</td>\n",
       "      <td>5.45</td>\n",
       "    </tr>\n",
       "    <tr>\n",
       "      <th>小E</th>\n",
       "      <td>72.44</td>\n",
       "      <td>68.89</td>\n",
       "      <td>6.65</td>\n",
       "      <td>75.54</td>\n",
       "    </tr>\n",
       "    <tr>\n",
       "      <th>小李</th>\n",
       "      <td>30.04</td>\n",
       "      <td>33.00</td>\n",
       "      <td>33.00</td>\n",
       "      <td>33.00</td>\n",
       "    </tr>\n",
       "    <tr>\n",
       "      <th>小王</th>\n",
       "      <td>33.00</td>\n",
       "      <td>91.00</td>\n",
       "      <td>72.34</td>\n",
       "      <td>33.00</td>\n",
       "    </tr>\n",
       "  </tbody>\n",
       "</table>\n",
       "</div>"
      ],
      "text/plain": [
       "       听力     阅读     写作     口试\n",
       "小亮  20.26  71.58  27.06  97.51\n",
       "小明  40.61  72.32  56.54   5.45\n",
       "小E  72.44  68.89   6.65  75.54\n",
       "小李  30.04  33.00  33.00  33.00\n",
       "小王  33.00  91.00  72.34  33.00"
      ]
     },
     "execution_count": 7,
     "metadata": {},
     "output_type": "execute_result"
    }
   ],
   "source": [
    "# 全表固定值替换【用 33.0 这个数字来替换掉全部的缺失值。】\n",
    "df_scores.fillna(33.0)"
   ]
  },
  {
   "cell_type": "code",
   "execution_count": 10,
   "metadata": {},
   "outputs": [
    {
     "data": {
      "text/html": [
       "<div>\n",
       "<style scoped>\n",
       "    .dataframe tbody tr th:only-of-type {\n",
       "        vertical-align: middle;\n",
       "    }\n",
       "\n",
       "    .dataframe tbody tr th {\n",
       "        vertical-align: top;\n",
       "    }\n",
       "\n",
       "    .dataframe thead th {\n",
       "        text-align: right;\n",
       "    }\n",
       "</style>\n",
       "<table border=\"1\" class=\"dataframe\">\n",
       "  <thead>\n",
       "    <tr style=\"text-align: right;\">\n",
       "      <th></th>\n",
       "      <th>听力</th>\n",
       "      <th>阅读</th>\n",
       "      <th>写作</th>\n",
       "      <th>口试</th>\n",
       "    </tr>\n",
       "  </thead>\n",
       "  <tbody>\n",
       "    <tr>\n",
       "      <th>小亮</th>\n",
       "      <td>20.26</td>\n",
       "      <td>71.58</td>\n",
       "      <td>27.06</td>\n",
       "      <td>97.51</td>\n",
       "    </tr>\n",
       "    <tr>\n",
       "      <th>小明</th>\n",
       "      <td>40.61</td>\n",
       "      <td>72.32</td>\n",
       "      <td>56.54</td>\n",
       "      <td>5.45</td>\n",
       "    </tr>\n",
       "    <tr>\n",
       "      <th>小E</th>\n",
       "      <td>72.44</td>\n",
       "      <td>68.89</td>\n",
       "      <td>6.65</td>\n",
       "      <td>75.54</td>\n",
       "    </tr>\n",
       "    <tr>\n",
       "      <th>小李</th>\n",
       "      <td>30.04</td>\n",
       "      <td>NaN</td>\n",
       "      <td>NaN</td>\n",
       "      <td>NaN</td>\n",
       "    </tr>\n",
       "    <tr>\n",
       "      <th>小王</th>\n",
       "      <td>60.00</td>\n",
       "      <td>91.00</td>\n",
       "      <td>72.34</td>\n",
       "      <td>NaN</td>\n",
       "    </tr>\n",
       "  </tbody>\n",
       "</table>\n",
       "</div>"
      ],
      "text/plain": [
       "       听力     阅读     写作     口试\n",
       "小亮  20.26  71.58  27.06  97.51\n",
       "小明  40.61  72.32  56.54   5.45\n",
       "小E  72.44  68.89   6.65  75.54\n",
       "小李  30.04    NaN    NaN    NaN\n",
       "小王  60.00  91.00  72.34    NaN"
      ]
     },
     "execution_count": 10,
     "metadata": {},
     "output_type": "execute_result"
    }
   ],
   "source": [
    "# 按列固定值替换\n",
    "df_scores_test = df_scores.copy(deep=True)\n",
    "df_scores_test[\"听力\"] = df_scores_test[\"听力\"].fillna(60.0)\n",
    "df_scores_test"
   ]
  },
  {
   "cell_type": "code",
   "execution_count": 12,
   "metadata": {},
   "outputs": [
    {
     "data": {
      "text/html": [
       "<div>\n",
       "<style scoped>\n",
       "    .dataframe tbody tr th:only-of-type {\n",
       "        vertical-align: middle;\n",
       "    }\n",
       "\n",
       "    .dataframe tbody tr th {\n",
       "        vertical-align: top;\n",
       "    }\n",
       "\n",
       "    .dataframe thead th {\n",
       "        text-align: right;\n",
       "    }\n",
       "</style>\n",
       "<table border=\"1\" class=\"dataframe\">\n",
       "  <thead>\n",
       "    <tr style=\"text-align: right;\">\n",
       "      <th></th>\n",
       "      <th>听力</th>\n",
       "      <th>阅读</th>\n",
       "      <th>写作</th>\n",
       "      <th>口试</th>\n",
       "    </tr>\n",
       "  </thead>\n",
       "  <tbody>\n",
       "    <tr>\n",
       "      <th>小亮</th>\n",
       "      <td>20.26</td>\n",
       "      <td>71.58</td>\n",
       "      <td>27.06</td>\n",
       "      <td>97.51</td>\n",
       "    </tr>\n",
       "    <tr>\n",
       "      <th>小明</th>\n",
       "      <td>40.61</td>\n",
       "      <td>72.32</td>\n",
       "      <td>56.54</td>\n",
       "      <td>5.45</td>\n",
       "    </tr>\n",
       "    <tr>\n",
       "      <th>小E</th>\n",
       "      <td>72.44</td>\n",
       "      <td>68.89</td>\n",
       "      <td>6.65</td>\n",
       "      <td>75.54</td>\n",
       "    </tr>\n",
       "    <tr>\n",
       "      <th>小李</th>\n",
       "      <td>30.04</td>\n",
       "      <td>50.0</td>\n",
       "      <td>50.0</td>\n",
       "      <td>50.0</td>\n",
       "    </tr>\n",
       "    <tr>\n",
       "      <th>小王</th>\n",
       "      <td>60.00</td>\n",
       "      <td>91.0</td>\n",
       "      <td>72.34</td>\n",
       "      <td>NaN</td>\n",
       "    </tr>\n",
       "  </tbody>\n",
       "</table>\n",
       "</div>"
      ],
      "text/plain": [
       "       听力     阅读     写作     口试\n",
       "小亮  20.26  71.58  27.06  97.51\n",
       "小明  40.61  72.32  56.54   5.45\n",
       "小E  72.44  68.89   6.65  75.54\n",
       "小李  30.04   50.0   50.0   50.0\n",
       "小王  60.00   91.0  72.34    NaN"
      ]
     },
     "execution_count": 12,
     "metadata": {},
     "output_type": "execute_result"
    }
   ],
   "source": [
    "# 按行固定值替换\n",
    "df_scores_test.loc[\"小李\", :] = df_scores_test.loc[\"小李\", :].fillna(\"50.0\")\n",
    "df_scores_test"
   ]
  },
  {
   "cell_type": "code",
   "execution_count": 13,
   "metadata": {},
   "outputs": [
    {
     "data": {
      "text/html": [
       "<div>\n",
       "<style scoped>\n",
       "    .dataframe tbody tr th:only-of-type {\n",
       "        vertical-align: middle;\n",
       "    }\n",
       "\n",
       "    .dataframe tbody tr th {\n",
       "        vertical-align: top;\n",
       "    }\n",
       "\n",
       "    .dataframe thead th {\n",
       "        text-align: right;\n",
       "    }\n",
       "</style>\n",
       "<table border=\"1\" class=\"dataframe\">\n",
       "  <thead>\n",
       "    <tr style=\"text-align: right;\">\n",
       "      <th></th>\n",
       "      <th>听力</th>\n",
       "      <th>阅读</th>\n",
       "      <th>写作</th>\n",
       "      <th>口试</th>\n",
       "    </tr>\n",
       "  </thead>\n",
       "  <tbody>\n",
       "    <tr>\n",
       "      <th>小亮</th>\n",
       "      <td>20.26</td>\n",
       "      <td>71.58</td>\n",
       "      <td>27.06</td>\n",
       "      <td>97.51</td>\n",
       "    </tr>\n",
       "    <tr>\n",
       "      <th>小明</th>\n",
       "      <td>40.61</td>\n",
       "      <td>72.32</td>\n",
       "      <td>56.54</td>\n",
       "      <td>5.45</td>\n",
       "    </tr>\n",
       "    <tr>\n",
       "      <th>小E</th>\n",
       "      <td>72.44</td>\n",
       "      <td>68.89</td>\n",
       "      <td>6.65</td>\n",
       "      <td>75.54</td>\n",
       "    </tr>\n",
       "    <tr>\n",
       "      <th>小李</th>\n",
       "      <td>30.04</td>\n",
       "      <td>68.89</td>\n",
       "      <td>6.65</td>\n",
       "      <td>75.54</td>\n",
       "    </tr>\n",
       "    <tr>\n",
       "      <th>小王</th>\n",
       "      <td>30.04</td>\n",
       "      <td>91.00</td>\n",
       "      <td>72.34</td>\n",
       "      <td>75.54</td>\n",
       "    </tr>\n",
       "  </tbody>\n",
       "</table>\n",
       "</div>"
      ],
      "text/plain": [
       "       听力     阅读     写作     口试\n",
       "小亮  20.26  71.58  27.06  97.51\n",
       "小明  40.61  72.32  56.54   5.45\n",
       "小E  72.44  68.89   6.65  75.54\n",
       "小李  30.04  68.89   6.65  75.54\n",
       "小王  30.04  91.00  72.34  75.54"
      ]
     },
     "execution_count": 13,
     "metadata": {},
     "output_type": "execute_result"
    }
   ],
   "source": [
    "# 最近有效值替换：什么叫最近有效值呢？就是在列的维度，当某一个单元格的数据是缺失值时，在该列往上搜索，碰到第一个有效值（非缺失值），就是最近有效值。\n",
    "df_scores.fillna(method=\"ffill\")"
   ]
  },
  {
   "cell_type": "code",
   "execution_count": 14,
   "metadata": {},
   "outputs": [
    {
     "data": {
      "text/html": [
       "<div>\n",
       "<style scoped>\n",
       "    .dataframe tbody tr th:only-of-type {\n",
       "        vertical-align: middle;\n",
       "    }\n",
       "\n",
       "    .dataframe tbody tr th {\n",
       "        vertical-align: top;\n",
       "    }\n",
       "\n",
       "    .dataframe thead th {\n",
       "        text-align: right;\n",
       "    }\n",
       "</style>\n",
       "<table border=\"1\" class=\"dataframe\">\n",
       "  <thead>\n",
       "    <tr style=\"text-align: right;\">\n",
       "      <th></th>\n",
       "      <th>听力</th>\n",
       "      <th>阅读</th>\n",
       "      <th>写作</th>\n",
       "      <th>口试</th>\n",
       "    </tr>\n",
       "  </thead>\n",
       "  <tbody>\n",
       "    <tr>\n",
       "      <th>小亮</th>\n",
       "      <td>20.26</td>\n",
       "      <td>71.58</td>\n",
       "      <td>27.06</td>\n",
       "      <td>97.51</td>\n",
       "    </tr>\n",
       "    <tr>\n",
       "      <th>小明</th>\n",
       "      <td>40.61</td>\n",
       "      <td>72.32</td>\n",
       "      <td>56.54</td>\n",
       "      <td>5.45</td>\n",
       "    </tr>\n",
       "    <tr>\n",
       "      <th>小E</th>\n",
       "      <td>72.44</td>\n",
       "      <td>68.89</td>\n",
       "      <td>6.65</td>\n",
       "      <td>75.54</td>\n",
       "    </tr>\n",
       "    <tr>\n",
       "      <th>小李</th>\n",
       "      <td>30.04</td>\n",
       "      <td>91.00</td>\n",
       "      <td>72.34</td>\n",
       "      <td>NaN</td>\n",
       "    </tr>\n",
       "    <tr>\n",
       "      <th>小王</th>\n",
       "      <td>NaN</td>\n",
       "      <td>91.00</td>\n",
       "      <td>72.34</td>\n",
       "      <td>NaN</td>\n",
       "    </tr>\n",
       "  </tbody>\n",
       "</table>\n",
       "</div>"
      ],
      "text/plain": [
       "       听力     阅读     写作     口试\n",
       "小亮  20.26  71.58  27.06  97.51\n",
       "小明  40.61  72.32  56.54   5.45\n",
       "小E  72.44  68.89   6.65  75.54\n",
       "小李  30.04  91.00  72.34    NaN\n",
       "小王    NaN  91.00  72.34    NaN"
      ]
     },
     "execution_count": 14,
     "metadata": {},
     "output_type": "execute_result"
    }
   ],
   "source": [
    "# 当我们设置 method=\"bfill\" 的时候，pandas 就会用缺失值对应列，往下搜索的第一个有效值来填充\n",
    "df_scores.fillna(method=\"bfill\")"
   ]
  },
  {
   "cell_type": "markdown",
   "metadata": {},
   "source": [
    "### 缺失值插值\n",
    "\n",
    "在有的场景下，只使用最近有效值依然不能很好地满足分析的诉求。比如一些时间序列分析的场景，缺失值可能和前面或者后面的数据都有一定的关系。\n",
    "\n",
    "如果可以结合缺失值前后的有效值的信息来推测缺失值，那准确性相比直接用最近有效值要高很多。pandas 提供了插值方法来实现这一目的。\n",
    "\n",
    "插值简单来说就是通过已经有的点来拟合出一个函数关系（f），然后根据缺失值的位置（x）来去拟合出来的函数中拿到对应的 f(x) 值，然后用这个值去替换掉缺失值。这样我们认为这个 f(x) 是最有可能贴近真实的值的。\n",
    "\n",
    "插值的方法有很多，最简单的有线性插值、临近点插值、立方插值等。这里以简单的线性插值为例来介绍 pandas 插值的用法。"
   ]
  },
  {
   "cell_type": "code",
   "execution_count": 16,
   "metadata": {},
   "outputs": [
    {
     "data": {
      "text/plain": [
       "0    100.0\n",
       "1      3.0\n",
       "2      NaN\n",
       "3      NaN\n",
       "4      9.0\n",
       "dtype: float64"
      ]
     },
     "execution_count": 16,
     "metadata": {},
     "output_type": "execute_result"
    }
   ],
   "source": [
    "ser_test = pd.Series([100, 3, None, None, 9])\n",
    "ser_test"
   ]
  },
  {
   "cell_type": "code",
   "execution_count": 17,
   "metadata": {},
   "outputs": [
    {
     "data": {
      "text/plain": [
       "0    100.0\n",
       "1      3.0\n",
       "2      5.0\n",
       "3      7.0\n",
       "4      9.0\n",
       "dtype: float64"
      ]
     },
     "execution_count": 17,
     "metadata": {},
     "output_type": "execute_result"
    }
   ],
   "source": [
    "# 目前 ser_test 中有两个缺失值，想要通过线性插值来计算出这两个缺失值的话，我们可以拿到缺失值前后的两个数据点(1,3.0), (4, 9.0)，根据两点直线方程有：\n",
    "ser_test.interpolate()"
   ]
  },
  {
   "cell_type": "code",
   "execution_count": 18,
   "metadata": {},
   "outputs": [
    {
     "data": {
      "text/html": [
       "<div>\n",
       "<style scoped>\n",
       "    .dataframe tbody tr th:only-of-type {\n",
       "        vertical-align: middle;\n",
       "    }\n",
       "\n",
       "    .dataframe tbody tr th {\n",
       "        vertical-align: top;\n",
       "    }\n",
       "\n",
       "    .dataframe thead th {\n",
       "        text-align: right;\n",
       "    }\n",
       "</style>\n",
       "<table border=\"1\" class=\"dataframe\">\n",
       "  <thead>\n",
       "    <tr style=\"text-align: right;\">\n",
       "      <th></th>\n",
       "      <th>听力</th>\n",
       "      <th>阅读</th>\n",
       "      <th>写作</th>\n",
       "      <th>口试</th>\n",
       "    </tr>\n",
       "  </thead>\n",
       "  <tbody>\n",
       "    <tr>\n",
       "      <th>小亮</th>\n",
       "      <td>20.26</td>\n",
       "      <td>71.580</td>\n",
       "      <td>27.060</td>\n",
       "      <td>97.51</td>\n",
       "    </tr>\n",
       "    <tr>\n",
       "      <th>小明</th>\n",
       "      <td>40.61</td>\n",
       "      <td>72.320</td>\n",
       "      <td>56.540</td>\n",
       "      <td>5.45</td>\n",
       "    </tr>\n",
       "    <tr>\n",
       "      <th>小E</th>\n",
       "      <td>72.44</td>\n",
       "      <td>68.890</td>\n",
       "      <td>6.650</td>\n",
       "      <td>75.54</td>\n",
       "    </tr>\n",
       "    <tr>\n",
       "      <th>小李</th>\n",
       "      <td>30.04</td>\n",
       "      <td>79.945</td>\n",
       "      <td>39.495</td>\n",
       "      <td>75.54</td>\n",
       "    </tr>\n",
       "    <tr>\n",
       "      <th>小王</th>\n",
       "      <td>30.04</td>\n",
       "      <td>91.000</td>\n",
       "      <td>72.340</td>\n",
       "      <td>75.54</td>\n",
       "    </tr>\n",
       "  </tbody>\n",
       "</table>\n",
       "</div>"
      ],
      "text/plain": [
       "       听力      阅读      写作     口试\n",
       "小亮  20.26  71.580  27.060  97.51\n",
       "小明  40.61  72.320  56.540   5.45\n",
       "小E  72.44  68.890   6.650  75.54\n",
       "小李  30.04  79.945  39.495  75.54\n",
       "小王  30.04  91.000  72.340  75.54"
      ]
     },
     "execution_count": 18,
     "metadata": {},
     "output_type": "execute_result"
    }
   ],
   "source": [
    "df_scores.interpolate()"
   ]
  },
  {
   "cell_type": "markdown",
   "metadata": {},
   "source": [
    "可以看到小王的阅读和写作两个缺失值成功替换为了线性插值的版本，而其他缺失部分却仍然是用的最近有效值，这是为何呢？其实很简单，线性插值需要缺失值前后有效值的信息来拟合方程，而红框部分都缺少后面的有效值，所以无法拟合。当线性插值无法拟合的时候，会默认采用最近有效值来填充。"
   ]
  },
  {
   "cell_type": "markdown",
   "metadata": {},
   "source": [
    "### 处理重复值\n",
    "\n",
    "除了常见的缺失值之外，实际项目中还经常遇到的异常数据问题就是重复值。企业的数据日志记录系统出现问题时，有时候会导致丢失数据，这就产生了缺失值的问题。有的时候会重复写入数据，这也产生了重复值的问题。\n",
    "\n",
    "重复值指的是 DataFrame 中的两行全部或部分一样。"
   ]
  },
  {
   "cell_type": "code",
   "execution_count": 19,
   "metadata": {},
   "outputs": [
    {
     "name": "stderr",
     "output_type": "stream",
     "text": [
      "C:\\Users\\lenovo\\AppData\\Local\\Temp\\ipykernel_5700\\3685348130.py:5: FutureWarning: The frame.append method is deprecated and will be removed from pandas in a future version. Use pandas.concat instead.\n",
      "  df_scores = df_scores.append(ser_xw)\n"
     ]
    },
    {
     "data": {
      "text/html": [
       "<div>\n",
       "<style scoped>\n",
       "    .dataframe tbody tr th:only-of-type {\n",
       "        vertical-align: middle;\n",
       "    }\n",
       "\n",
       "    .dataframe tbody tr th {\n",
       "        vertical-align: top;\n",
       "    }\n",
       "\n",
       "    .dataframe thead th {\n",
       "        text-align: right;\n",
       "    }\n",
       "</style>\n",
       "<table border=\"1\" class=\"dataframe\">\n",
       "  <thead>\n",
       "    <tr style=\"text-align: right;\">\n",
       "      <th></th>\n",
       "      <th>听力</th>\n",
       "      <th>阅读</th>\n",
       "      <th>写作</th>\n",
       "      <th>口试</th>\n",
       "    </tr>\n",
       "  </thead>\n",
       "  <tbody>\n",
       "    <tr>\n",
       "      <th>小亮</th>\n",
       "      <td>20.26</td>\n",
       "      <td>71.58</td>\n",
       "      <td>27.06</td>\n",
       "      <td>97.51</td>\n",
       "    </tr>\n",
       "    <tr>\n",
       "      <th>小明</th>\n",
       "      <td>40.61</td>\n",
       "      <td>72.32</td>\n",
       "      <td>56.54</td>\n",
       "      <td>5.45</td>\n",
       "    </tr>\n",
       "    <tr>\n",
       "      <th>小E</th>\n",
       "      <td>72.44</td>\n",
       "      <td>68.89</td>\n",
       "      <td>6.65</td>\n",
       "      <td>75.54</td>\n",
       "    </tr>\n",
       "    <tr>\n",
       "      <th>小李</th>\n",
       "      <td>30.04</td>\n",
       "      <td>NaN</td>\n",
       "      <td>NaN</td>\n",
       "      <td>NaN</td>\n",
       "    </tr>\n",
       "    <tr>\n",
       "      <th>小王</th>\n",
       "      <td>NaN</td>\n",
       "      <td>91.00</td>\n",
       "      <td>72.34</td>\n",
       "      <td>NaN</td>\n",
       "    </tr>\n",
       "    <tr>\n",
       "      <th>小王</th>\n",
       "      <td>NaN</td>\n",
       "      <td>91.00</td>\n",
       "      <td>72.34</td>\n",
       "      <td>NaN</td>\n",
       "    </tr>\n",
       "  </tbody>\n",
       "</table>\n",
       "</div>"
      ],
      "text/plain": [
       "       听力     阅读     写作     口试\n",
       "小亮  20.26  71.58  27.06  97.51\n",
       "小明  40.61  72.32  56.54   5.45\n",
       "小E  72.44  68.89   6.65  75.54\n",
       "小李  30.04    NaN    NaN    NaN\n",
       "小王    NaN  91.00  72.34    NaN\n",
       "小王    NaN  91.00  72.34    NaN"
      ]
     },
     "execution_count": 19,
     "metadata": {},
     "output_type": "execute_result"
    }
   ],
   "source": [
    "# 生成一条一模一样的小王的记录\n",
    "ser_xw = pd.Series([None, 91.00, 72.34, None], index=index_arr, name=\"小王\")\n",
    "\n",
    "# 将新增加的两 Series 添加到 df_scores 中\n",
    "df_scores = df_scores.append(ser_xw)\n",
    "\n",
    "# 查看 df_scores\n",
    "df_scores"
   ]
  },
  {
   "cell_type": "code",
   "execution_count": 25,
   "metadata": {},
   "outputs": [
    {
     "data": {
      "text/html": [
       "<div>\n",
       "<style scoped>\n",
       "    .dataframe tbody tr th:only-of-type {\n",
       "        vertical-align: middle;\n",
       "    }\n",
       "\n",
       "    .dataframe tbody tr th {\n",
       "        vertical-align: top;\n",
       "    }\n",
       "\n",
       "    .dataframe thead th {\n",
       "        text-align: right;\n",
       "    }\n",
       "</style>\n",
       "<table border=\"1\" class=\"dataframe\">\n",
       "  <thead>\n",
       "    <tr style=\"text-align: right;\">\n",
       "      <th></th>\n",
       "      <th>听力</th>\n",
       "      <th>阅读</th>\n",
       "      <th>写作</th>\n",
       "      <th>口试</th>\n",
       "    </tr>\n",
       "  </thead>\n",
       "  <tbody>\n",
       "    <tr>\n",
       "      <th>小亮</th>\n",
       "      <td>20.26</td>\n",
       "      <td>71.58</td>\n",
       "      <td>27.06</td>\n",
       "      <td>97.51</td>\n",
       "    </tr>\n",
       "    <tr>\n",
       "      <th>小明</th>\n",
       "      <td>40.61</td>\n",
       "      <td>72.32</td>\n",
       "      <td>56.54</td>\n",
       "      <td>5.45</td>\n",
       "    </tr>\n",
       "    <tr>\n",
       "      <th>小E</th>\n",
       "      <td>72.44</td>\n",
       "      <td>68.89</td>\n",
       "      <td>6.65</td>\n",
       "      <td>75.54</td>\n",
       "    </tr>\n",
       "    <tr>\n",
       "      <th>小李</th>\n",
       "      <td>30.04</td>\n",
       "      <td>NaN</td>\n",
       "      <td>NaN</td>\n",
       "      <td>NaN</td>\n",
       "    </tr>\n",
       "    <tr>\n",
       "      <th>小王</th>\n",
       "      <td>NaN</td>\n",
       "      <td>91.00</td>\n",
       "      <td>72.34</td>\n",
       "      <td>NaN</td>\n",
       "    </tr>\n",
       "  </tbody>\n",
       "</table>\n",
       "</div>"
      ],
      "text/plain": [
       "       听力     阅读     写作     口试\n",
       "小亮  20.26  71.58  27.06  97.51\n",
       "小明  40.61  72.32  56.54   5.45\n",
       "小E  72.44  68.89   6.65  75.54\n",
       "小李  30.04    NaN    NaN    NaN\n",
       "小王    NaN  91.00  72.34    NaN"
      ]
     },
     "execution_count": 25,
     "metadata": {},
     "output_type": "execute_result"
    }
   ],
   "source": [
    "# 只需要调用 pandas 提供的 drop_duplicates 方法即可删除重复值。\n",
    "df_scores = df_scores.drop_duplicates()\n",
    "df_scores"
   ]
  },
  {
   "cell_type": "markdown",
   "metadata": {},
   "source": [
    "## 4 内容总结\n",
    "\n",
    "缺失值的概念：DataFrame 中缺少的部分数据，数字的显示为 NaN，字符串显示为 None，时间类型则显示为 NaT。\n",
    "\n",
    "查看缺失值：\n",
    "\n",
    "```\n",
    "按单元格查看：df.isna()\n",
    "按列查看：df.isna().sum()\n",
    "按行查看：df.isna().sum(1)\n",
    "有缺失值的列：df.loc[:, df.isna().any()]\n",
    "有缺失值的行：df_scores.loc[df_scores.isna().any(1),:]\n",
    "缺失值总个数：df.isna().sum().sum()\n",
    "```\n",
    "\n",
    "处理缺失值：\n",
    "\n",
    "```\n",
    "删除缺失值：df.dropna()\n",
    "缺失值替换：df.fillna()\n",
    "缺失值插值：df.interpolate()\n",
    "```\n",
    "\n",
    "处理重复值：\n",
    "\n",
    "```\n",
    "查看重复行：df.duplicated()\n",
    "删除重复行：df.drop_duplicates()\n",
    "```"
   ]
  }
 ],
 "metadata": {
  "kernelspec": {
   "display_name": "Python 3 (ipykernel)",
   "language": "python",
   "name": "python3"
  },
  "language_info": {
   "codemirror_mode": {
    "name": "ipython",
    "version": 3
   },
   "file_extension": ".py",
   "mimetype": "text/x-python",
   "name": "python",
   "nbconvert_exporter": "python",
   "pygments_lexer": "ipython3",
   "version": "3.9.2"
  }
 },
 "nbformat": 4,
 "nbformat_minor": 1
}
