{
 "cells": [
  {
   "cell_type": "markdown",
   "source": [
    "# 过滤与查看 pandas 表格中的局部数据\n",
    "\n",
    "这一篇来学习DataFrame 强大的数据查询与过滤能力。首先准备数据："
   ],
   "metadata": {
    "collapsed": false
   }
  },
  {
   "cell_type": "code",
   "execution_count": 2,
   "outputs": [
    {
     "data": {
      "text/plain": "   姓名  年龄  籍贯   部门\n0  小明  22  河北  IT部\n1  小亮  25  广东  IT部\n2  小E  23  四川  财务部\n3  小李  22  云南  设计部\n4  小王  20  福建  设计部",
      "text/html": "<div>\n<style scoped>\n    .dataframe tbody tr th:only-of-type {\n        vertical-align: middle;\n    }\n\n    .dataframe tbody tr th {\n        vertical-align: top;\n    }\n\n    .dataframe thead th {\n        text-align: right;\n    }\n</style>\n<table border=\"1\" class=\"dataframe\">\n  <thead>\n    <tr style=\"text-align: right;\">\n      <th></th>\n      <th>姓名</th>\n      <th>年龄</th>\n      <th>籍贯</th>\n      <th>部门</th>\n    </tr>\n  </thead>\n  <tbody>\n    <tr>\n      <th>0</th>\n      <td>小明</td>\n      <td>22</td>\n      <td>河北</td>\n      <td>IT部</td>\n    </tr>\n    <tr>\n      <th>1</th>\n      <td>小亮</td>\n      <td>25</td>\n      <td>广东</td>\n      <td>IT部</td>\n    </tr>\n    <tr>\n      <th>2</th>\n      <td>小E</td>\n      <td>23</td>\n      <td>四川</td>\n      <td>财务部</td>\n    </tr>\n    <tr>\n      <th>3</th>\n      <td>小李</td>\n      <td>22</td>\n      <td>云南</td>\n      <td>设计部</td>\n    </tr>\n    <tr>\n      <th>4</th>\n      <td>小王</td>\n      <td>20</td>\n      <td>福建</td>\n      <td>设计部</td>\n    </tr>\n  </tbody>\n</table>\n</div>"
     },
     "execution_count": 2,
     "metadata": {},
     "output_type": "execute_result"
    }
   ],
   "source": [
    "import pandas as pd\n",
    "\n",
    "# 将列索引保存在 index_arr 变量中\n",
    "index_arr = [\"姓名\", \"年龄\", \"籍贯\", \"部门\"]\n",
    "# 构建小明、小亮、小E的行 Series，并使用我们创建好的 index_arr 作为 Series 的index\n",
    "ser_xm = pd.Series([\"小明\", 22, \"河北\", \"IT部\"], index=index_arr)\n",
    "ser_xl = pd.Series([\"小亮\", 25, \"广东\", \"IT部\"], index=index_arr)\n",
    "ser_xe = pd.Series([\"小E\", 23, \"四川\", \"财务部\"], index=index_arr)\n",
    "ser_xli = pd.Series([\"小李\", 22, \"云南\", \"设计部\"], index=index_arr)\n",
    "ser_xw = pd.Series([\"小王\", 20, \"福建\", \"设计部\"], index=index_arr)\n",
    "# 直接将三个 Series 以列表的形式作为 DataFrame 的参数，创建 DataFrame\n",
    "df_info = pd.DataFrame([ser_xm, ser_xl, ser_xe, ser_xli, ser_xw])\n",
    "# 使用 notebook 打印 DataFrame\n",
    "df_info"
   ],
   "metadata": {
    "collapsed": false
   }
  },
  {
   "cell_type": "markdown",
   "source": [
    "## 1 使用 `[]` 查询元素"
   ],
   "metadata": {
    "collapsed": false
   }
  },
  {
   "cell_type": "code",
   "execution_count": 3,
   "outputs": [
    {
     "data": {
      "text/plain": "0    小明\n1    小亮\n2    小E\n3    小李\n4    小王\nName: 姓名, dtype: object"
     },
     "execution_count": 3,
     "metadata": {},
     "output_type": "execute_result"
    }
   ],
   "source": [
    "# 对 DataFrame 使用 [] ，返回列名 = 传入的索引值的 Series\n",
    "ser_name = df_info[\"姓名\"]\n",
    "ser_name"
   ],
   "metadata": {
    "collapsed": false
   }
  },
  {
   "cell_type": "code",
   "execution_count": 4,
   "outputs": [
    {
     "data": {
      "text/plain": "'小亮'"
     },
     "execution_count": 4,
     "metadata": {},
     "output_type": "execute_result"
    }
   ],
   "source": [
    "# 对 Series 使用 [] ，取回索引值\n",
    "name_of_xl = ser_name[1]\n",
    "name_of_xl"
   ],
   "metadata": {
    "collapsed": false
   }
  },
  {
   "cell_type": "markdown",
   "source": [
    "\n",
    "## 2 多重索引\n",
    "\n",
    "`[]` 除了可以传入单一索引实现数据选择，还支持传入一个**索引列表**来获得原始数据集的一个子集。规则如下：\n",
    "\n",
    "- 当对 DataFrame 的 `[]` 索引器传入一个索引列表时，返回一个新的 DataFrame，这个 DataFrame 只包含索引列表中的列，相当于是原 DataFrame 的子 DataFrame；\n",
    "- 同理对于 Series，传入索引列表时，返回一个子 Series，包含索引列表对应的数据。"
   ],
   "metadata": {
    "collapsed": false
   }
  },
  {
   "cell_type": "code",
   "execution_count": 5,
   "outputs": [
    {
     "data": {
      "text/plain": "   姓名  年龄\n0  小明  22\n1  小亮  25\n2  小E  23\n3  小李  22\n4  小王  20",
      "text/html": "<div>\n<style scoped>\n    .dataframe tbody tr th:only-of-type {\n        vertical-align: middle;\n    }\n\n    .dataframe tbody tr th {\n        vertical-align: top;\n    }\n\n    .dataframe thead th {\n        text-align: right;\n    }\n</style>\n<table border=\"1\" class=\"dataframe\">\n  <thead>\n    <tr style=\"text-align: right;\">\n      <th></th>\n      <th>姓名</th>\n      <th>年龄</th>\n    </tr>\n  </thead>\n  <tbody>\n    <tr>\n      <th>0</th>\n      <td>小明</td>\n      <td>22</td>\n    </tr>\n    <tr>\n      <th>1</th>\n      <td>小亮</td>\n      <td>25</td>\n    </tr>\n    <tr>\n      <th>2</th>\n      <td>小E</td>\n      <td>23</td>\n    </tr>\n    <tr>\n      <th>3</th>\n      <td>小李</td>\n      <td>22</td>\n    </tr>\n    <tr>\n      <th>4</th>\n      <td>小王</td>\n      <td>20</td>\n    </tr>\n  </tbody>\n</table>\n</div>"
     },
     "execution_count": 5,
     "metadata": {},
     "output_type": "execute_result"
    }
   ],
   "source": [
    "# 返回一个新的 DataFrame\n",
    "sub_df_info = df_info[[\"姓名\", \"年龄\"]]\n",
    "sub_df_info"
   ],
   "metadata": {
    "collapsed": false
   }
  },
  {
   "cell_type": "code",
   "execution_count": 6,
   "outputs": [
    {
     "data": {
      "text/plain": "0    小明\n2    小E\nName: 姓名, dtype: object"
     },
     "execution_count": 6,
     "metadata": {},
     "output_type": "execute_result"
    }
   ],
   "source": [
    "# 返回一个新的 Series\n",
    "sub_ser_name = ser_name[[0, 2]]\n",
    "sub_ser_name"
   ],
   "metadata": {
    "collapsed": false
   }
  },
  {
   "cell_type": "markdown",
   "source": [
    "## 3 范围选择"
   ],
   "metadata": {
    "collapsed": false
   }
  },
  {
   "cell_type": "code",
   "execution_count": 7,
   "outputs": [
    {
     "data": {
      "text/plain": "   姓名  年龄  籍贯   部门\n2  小E  23  四川  财务部\n3  小李  22  云南  设计部",
      "text/html": "<div>\n<style scoped>\n    .dataframe tbody tr th:only-of-type {\n        vertical-align: middle;\n    }\n\n    .dataframe tbody tr th {\n        vertical-align: top;\n    }\n\n    .dataframe thead th {\n        text-align: right;\n    }\n</style>\n<table border=\"1\" class=\"dataframe\">\n  <thead>\n    <tr style=\"text-align: right;\">\n      <th></th>\n      <th>姓名</th>\n      <th>年龄</th>\n      <th>籍贯</th>\n      <th>部门</th>\n    </tr>\n  </thead>\n  <tbody>\n    <tr>\n      <th>2</th>\n      <td>小E</td>\n      <td>23</td>\n      <td>四川</td>\n      <td>财务部</td>\n    </tr>\n    <tr>\n      <th>3</th>\n      <td>小李</td>\n      <td>22</td>\n      <td>云南</td>\n      <td>设计部</td>\n    </tr>\n  </tbody>\n</table>\n</div>"
     },
     "execution_count": 7,
     "metadata": {},
     "output_type": "execute_result"
    }
   ],
   "source": [
    "# df[n:m], 选择第 n 条到第 m 条之间的记录。\n",
    "df_info[2:4]"
   ],
   "metadata": {
    "collapsed": false
   }
  },
  {
   "cell_type": "code",
   "execution_count": 8,
   "outputs": [
    {
     "data": {
      "text/plain": "   姓名  年龄  籍贯   部门\n0  小明  22  河北  IT部\n1  小亮  25  广东  IT部",
      "text/html": "<div>\n<style scoped>\n    .dataframe tbody tr th:only-of-type {\n        vertical-align: middle;\n    }\n\n    .dataframe tbody tr th {\n        vertical-align: top;\n    }\n\n    .dataframe thead th {\n        text-align: right;\n    }\n</style>\n<table border=\"1\" class=\"dataframe\">\n  <thead>\n    <tr style=\"text-align: right;\">\n      <th></th>\n      <th>姓名</th>\n      <th>年龄</th>\n      <th>籍贯</th>\n      <th>部门</th>\n    </tr>\n  </thead>\n  <tbody>\n    <tr>\n      <th>0</th>\n      <td>小明</td>\n      <td>22</td>\n      <td>河北</td>\n      <td>IT部</td>\n    </tr>\n    <tr>\n      <th>1</th>\n      <td>小亮</td>\n      <td>25</td>\n      <td>广东</td>\n      <td>IT部</td>\n    </tr>\n  </tbody>\n</table>\n</div>"
     },
     "execution_count": 8,
     "metadata": {},
     "output_type": "execute_result"
    }
   ],
   "source": [
    "# df[:m], 选择前 m 条记录。示例代码：\n",
    "df_info[:2]"
   ],
   "metadata": {
    "collapsed": false
   }
  },
  {
   "cell_type": "code",
   "execution_count": 9,
   "outputs": [
    {
     "data": {
      "text/plain": "   姓名  年龄  籍贯   部门\n0  小明  22  河北  IT部\n2  小E  23  四川  财务部\n4  小王  20  福建  设计部",
      "text/html": "<div>\n<style scoped>\n    .dataframe tbody tr th:only-of-type {\n        vertical-align: middle;\n    }\n\n    .dataframe tbody tr th {\n        vertical-align: top;\n    }\n\n    .dataframe thead th {\n        text-align: right;\n    }\n</style>\n<table border=\"1\" class=\"dataframe\">\n  <thead>\n    <tr style=\"text-align: right;\">\n      <th></th>\n      <th>姓名</th>\n      <th>年龄</th>\n      <th>籍贯</th>\n      <th>部门</th>\n    </tr>\n  </thead>\n  <tbody>\n    <tr>\n      <th>0</th>\n      <td>小明</td>\n      <td>22</td>\n      <td>河北</td>\n      <td>IT部</td>\n    </tr>\n    <tr>\n      <th>2</th>\n      <td>小E</td>\n      <td>23</td>\n      <td>四川</td>\n      <td>财务部</td>\n    </tr>\n    <tr>\n      <th>4</th>\n      <td>小王</td>\n      <td>20</td>\n      <td>福建</td>\n      <td>设计部</td>\n    </tr>\n  </tbody>\n</table>\n</div>"
     },
     "execution_count": 9,
     "metadata": {},
     "output_type": "execute_result"
    }
   ],
   "source": [
    "# df[::n], 间隔 n 条选择。\n",
    "df_info[::2]"
   ],
   "metadata": {
    "collapsed": false
   }
  },
  {
   "cell_type": "code",
   "execution_count": 10,
   "outputs": [
    {
     "data": {
      "text/plain": "   姓名  年龄  籍贯   部门\n4  小王  20  福建  设计部\n3  小李  22  云南  设计部\n2  小E  23  四川  财务部\n1  小亮  25  广东  IT部\n0  小明  22  河北  IT部",
      "text/html": "<div>\n<style scoped>\n    .dataframe tbody tr th:only-of-type {\n        vertical-align: middle;\n    }\n\n    .dataframe tbody tr th {\n        vertical-align: top;\n    }\n\n    .dataframe thead th {\n        text-align: right;\n    }\n</style>\n<table border=\"1\" class=\"dataframe\">\n  <thead>\n    <tr style=\"text-align: right;\">\n      <th></th>\n      <th>姓名</th>\n      <th>年龄</th>\n      <th>籍贯</th>\n      <th>部门</th>\n    </tr>\n  </thead>\n  <tbody>\n    <tr>\n      <th>4</th>\n      <td>小王</td>\n      <td>20</td>\n      <td>福建</td>\n      <td>设计部</td>\n    </tr>\n    <tr>\n      <th>3</th>\n      <td>小李</td>\n      <td>22</td>\n      <td>云南</td>\n      <td>设计部</td>\n    </tr>\n    <tr>\n      <th>2</th>\n      <td>小E</td>\n      <td>23</td>\n      <td>四川</td>\n      <td>财务部</td>\n    </tr>\n    <tr>\n      <th>1</th>\n      <td>小亮</td>\n      <td>25</td>\n      <td>广东</td>\n      <td>IT部</td>\n    </tr>\n    <tr>\n      <th>0</th>\n      <td>小明</td>\n      <td>22</td>\n      <td>河北</td>\n      <td>IT部</td>\n    </tr>\n  </tbody>\n</table>\n</div>"
     },
     "execution_count": 10,
     "metadata": {},
     "output_type": "execute_result"
    }
   ],
   "source": [
    "# df[::-1], 从最后一条开始逐一选择。\n",
    "df_info[::-1]"
   ],
   "metadata": {
    "collapsed": false
   }
  },
  {
   "cell_type": "markdown",
   "source": [
    "## 4 `loc` 与 `iloc`\n",
    "\n",
    "上面，如果我们想查询 DataFrame 中某个单元格的数据，那往往都需要分三步走：\n",
    "\n",
    "1. 查看单元格所在行的索引；\n",
    "2. 拿到单元格所在列的列 Series；\n",
    "3. 用步骤 1 拿到的索引去步骤 2 拿到的 Series 中查询出具体的数据。\n",
    "\n",
    "这种方式比较繁琐，而 pandas 除了 `[]` 索引器之外，还提供了一套非常强大的数据查询方式：`loc` 和 `iloc`。\n",
    "\n",
    "loc 和 iloc 是 pandas 的一种特殊的对象，专门用于查询 DataFrame 中的数据。\n",
    "\n",
    "- loc 的用法：`df.loc[行索引名称, 列索引名称]`；\n",
    "- iloc 与 loc 的用法相同，但是只能传入整数索引。"
   ],
   "metadata": {
    "collapsed": false
   }
  },
  {
   "cell_type": "code",
   "execution_count": 11,
   "outputs": [
    {
     "name": "stdout",
     "output_type": "stream",
     "text": [
      "小亮的部门： IT部\n",
      "-------------------------------\n",
      "   姓名  年龄\n",
      "4  小王  20\n",
      "3  小李  22\n",
      "2  小E  23\n",
      "1  小亮  25\n",
      "0  小明  22\n",
      "-------------------------------\n",
      "小亮的部门： IT部\n"
     ]
    }
   ],
   "source": [
    "# loc 示例\n",
    "print(\"小亮的部门：\", df_info.loc[1, \"部门\"])\n",
    "\n",
    "print(\"-------------------------------\")\n",
    "\n",
    "# loc 对象的 [] 索引器支持所有 DataFrame 的 [] 索引器的能力。具体来说就是 loc 对象的行索引部分和列索引部分都可以分别上面介绍的多种索引、范围选择的语法。\n",
    "\n",
    "print(df_info.loc[::-1,[\"姓名\",\"年龄\"]])\n",
    "\n",
    "print(\"-------------------------------\")\n",
    "\n",
    "# 从输出来看，效果和使用 loc 对象是一样的。但是从易用性的层面，loc 显然比 iloc 更加容易使用且不容易出错。使用 iloc 每次都需要去数我们所要的数据在第几行、第几列，非常容易出错。所以一般情况下，我们都推荐直接使用 loc。但也有一些场景，不知道行索引，但明确要拿第一个元素的场合就需要使用 iloc。\n",
    "# 总体来说 iloc 是和 loc 打配合使用的， loc 最常用。\n",
    "print(\"小亮的部门：\", df_info.iloc[1, 3])"
   ],
   "metadata": {
    "collapsed": false
   }
  },
  {
   "cell_type": "markdown",
   "source": [
    "## 5 条件查询\n",
    "\n",
    "loc 的条件索引的具体用法如下所示，它和普通的 loc 用法区别最大的就是将行索引部分替换为条件表达式。\n",
    "\n",
    "```python\n",
    "df.loc[条件表达式, 列索引名称]\n",
    "```"
   ],
   "metadata": {
    "collapsed": false
   }
  },
  {
   "cell_type": "code",
   "execution_count": 12,
   "outputs": [
    {
     "name": "stdout",
     "output_type": "stream",
     "text": [
      "<class 'pandas.core.frame.DataFrame'>\n"
     ]
    },
    {
     "data": {
      "text/plain": "   姓名  年龄  籍贯   部门\n1  小亮  25  广东  IT部\n2  小E  23  四川  财务部",
      "text/html": "<div>\n<style scoped>\n    .dataframe tbody tr th:only-of-type {\n        vertical-align: middle;\n    }\n\n    .dataframe tbody tr th {\n        vertical-align: top;\n    }\n\n    .dataframe thead th {\n        text-align: right;\n    }\n</style>\n<table border=\"1\" class=\"dataframe\">\n  <thead>\n    <tr style=\"text-align: right;\">\n      <th></th>\n      <th>姓名</th>\n      <th>年龄</th>\n      <th>籍贯</th>\n      <th>部门</th>\n    </tr>\n  </thead>\n  <tbody>\n    <tr>\n      <th>1</th>\n      <td>小亮</td>\n      <td>25</td>\n      <td>广东</td>\n      <td>IT部</td>\n    </tr>\n    <tr>\n      <th>2</th>\n      <td>小E</td>\n      <td>23</td>\n      <td>四川</td>\n      <td>财务部</td>\n    </tr>\n  </tbody>\n</table>\n</div>"
     },
     "execution_count": 12,
     "metadata": {},
     "output_type": "execute_result"
    }
   ],
   "source": [
    "# 条件表达式：df_info[\"年龄\"] >= 23， 然后因为我们希望获得所有列，所以列索引直接写:\n",
    "age_parted_df = df_info.loc[df_info[\"年龄\"] >= 23,:]\n",
    "print(type(age_parted_df))\n",
    "age_parted_df"
   ],
   "metadata": {
    "collapsed": false
   }
  },
  {
   "cell_type": "code",
   "execution_count": 13,
   "outputs": [
    {
     "name": "stdout",
     "output_type": "stream",
     "text": [
      "<class 'pandas.core.series.Series'>\n"
     ]
    },
    {
     "data": {
      "text/plain": "1    IT部\nName: 部门, dtype: object"
     },
     "execution_count": 13,
     "metadata": {},
     "output_type": "execute_result"
    }
   ],
   "source": [
    "# 使用条件表达式: df[\"姓名\"] == \"小亮\", 并取 部门 这个列\n",
    "department_of_xl = df_info.loc[df_info[\"姓名\"] == \"小亮\", \"部门\"]\n",
    "print(type(department_of_xl))\n",
    "department_of_xl"
   ],
   "metadata": {
    "collapsed": false
   }
  },
  {
   "cell_type": "code",
   "execution_count": 14,
   "outputs": [
    {
     "name": "stdout",
     "output_type": "stream",
     "text": [
      "小亮的部门：IT部\n"
     ]
    }
   ],
   "source": [
    "# iloc[0] 的意思就是第 0 行\n",
    "print(\"小亮的部门：\" + df_info.loc[df_info[\"姓名\"] == \"小亮\", \"部门\"].iloc[0])"
   ],
   "metadata": {
    "collapsed": false
   }
  },
  {
   "cell_type": "markdown",
   "source": [
    "## 6 高级条件查询\n",
    "\n",
    "当我们筛选数据的时候，一个条件不能满足要求，就需要组合多个条件来筛选出我们想要的数据。组合多个条件时，最常见的两个逻辑关系就是：逻辑与和逻辑或。"
   ],
   "metadata": {
    "collapsed": false
   }
  },
  {
   "cell_type": "code",
   "execution_count": 15,
   "outputs": [
    {
     "data": {
      "text/plain": "   姓名  年龄  籍贯   部门\n0  小明  22  河北  IT部",
      "text/html": "<div>\n<style scoped>\n    .dataframe tbody tr th:only-of-type {\n        vertical-align: middle;\n    }\n\n    .dataframe tbody tr th {\n        vertical-align: top;\n    }\n\n    .dataframe thead th {\n        text-align: right;\n    }\n</style>\n<table border=\"1\" class=\"dataframe\">\n  <thead>\n    <tr style=\"text-align: right;\">\n      <th></th>\n      <th>姓名</th>\n      <th>年龄</th>\n      <th>籍贯</th>\n      <th>部门</th>\n    </tr>\n  </thead>\n  <tbody>\n    <tr>\n      <th>0</th>\n      <td>小明</td>\n      <td>22</td>\n      <td>河北</td>\n      <td>IT部</td>\n    </tr>\n  </tbody>\n</table>\n</div>"
     },
     "execution_count": 15,
     "metadata": {},
     "output_type": "execute_result"
    }
   ],
   "source": [
    "# loc 条件表达式的逻辑与操作。每个子条件都需要用括号括起来\n",
    "df_info.loc[(df_info[\"部门\"] == \"IT部\") & (df_info[\"年龄\"] <25), :]"
   ],
   "metadata": {
    "collapsed": false
   }
  },
  {
   "cell_type": "code",
   "execution_count": 16,
   "outputs": [
    {
     "data": {
      "text/plain": "   姓名  年龄  籍贯   部门\n2  小E  23  四川  财务部\n3  小李  22  云南  设计部\n4  小王  20  福建  设计部",
      "text/html": "<div>\n<style scoped>\n    .dataframe tbody tr th:only-of-type {\n        vertical-align: middle;\n    }\n\n    .dataframe tbody tr th {\n        vertical-align: top;\n    }\n\n    .dataframe thead th {\n        text-align: right;\n    }\n</style>\n<table border=\"1\" class=\"dataframe\">\n  <thead>\n    <tr style=\"text-align: right;\">\n      <th></th>\n      <th>姓名</th>\n      <th>年龄</th>\n      <th>籍贯</th>\n      <th>部门</th>\n    </tr>\n  </thead>\n  <tbody>\n    <tr>\n      <th>2</th>\n      <td>小E</td>\n      <td>23</td>\n      <td>四川</td>\n      <td>财务部</td>\n    </tr>\n    <tr>\n      <th>3</th>\n      <td>小李</td>\n      <td>22</td>\n      <td>云南</td>\n      <td>设计部</td>\n    </tr>\n    <tr>\n      <th>4</th>\n      <td>小王</td>\n      <td>20</td>\n      <td>福建</td>\n      <td>设计部</td>\n    </tr>\n  </tbody>\n</table>\n</div>"
     },
     "execution_count": 16,
     "metadata": {},
     "output_type": "execute_result"
    }
   ],
   "source": [
    "df_info.loc[(df_info[\"部门\"] == \"财务部\") | (df_info[\"部门\"] == \"设计部\"), :]"
   ],
   "metadata": {
    "collapsed": false
   }
  }
 ],
 "metadata": {
  "kernelspec": {
   "display_name": "Python 3",
   "language": "python",
   "name": "python3"
  },
  "language_info": {
   "codemirror_mode": {
    "name": "ipython",
    "version": 2
   },
   "file_extension": ".py",
   "mimetype": "text/x-python",
   "name": "python",
   "nbconvert_exporter": "python",
   "pygments_lexer": "ipython2",
   "version": "2.7.6"
  }
 },
 "nbformat": 4,
 "nbformat_minor": 0
}
