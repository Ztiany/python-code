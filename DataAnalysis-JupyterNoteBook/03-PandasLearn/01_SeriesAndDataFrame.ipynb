{
 "cells": [
  {
   "cell_type": "markdown",
   "source": [
    "# pandas 的核心数据结构：Series 和 DataFrame\n",
    "\n",
    "pandas 中的三个最常见的概念：index、Series 和 DataFrame。其中 Series 和 DataFrame 是 pandas 中的**两个核心的数据结构**。\n",
    "\n",
    "## 1 数据的目录 index\n",
    "\n",
    "数据的“目录” index：index 也叫索引，索引是计算机科学中非常常见的概念，你可能听起来会有点陌生，但其实应该很早之前就打过交道了。比如看一本书，书的目录就是书本内容的索引。所以通俗意义上，索引可以理解为就是存储了如何访问某块数据方式的数据。比如我们通过列表的下标访问列表的某个元素，比如 `a[5]` ，这个 5 也叫列表的索引。字典的场景中，我们通过 key 来访问字典中的某个元素，比如: `student[\"name\"]`，这个 \"name\" 的字符串，也属于字典的索引。"
   ],
   "metadata": {
    "collapsed": false
   }
  },
  {
   "cell_type": "markdown",
   "source": [
    "## 2 一维数据序列 Series\n",
    "\n",
    "一维数据序列 Series：Series 本身是一种数据类型，很像我们之前打过交道的列表，是存储多个数据元素的容器。事实上，我们也可以直接使用一个列表来创建一个 Series。但与列表不同的是，Series 一般由两部分组成：index 和 values。\n",
    "\n",
    "- values 容易理解，顾名思义就是存储了 Series 里面的所有元素的值，所以 values 部分可以认为就是和列表是等价的。\n",
    "- index 部分代表代表 Series 的索引。根据上面对于索引的定义，index 部分的数据就是为了能方便地定位到 values 里面的数据。\n",
    "\n",
    "Series 有一个单独的索引项，这就使得它既支持类似列表一样的数字索引，也支持类似字典一样的用字符串或者其他 Python 对象来做索引。对于 Series，可以简单理解成是一个列表和字典的集合体。\n",
    "\n",
    "下面演示 Series 的相关操作："
   ],
   "metadata": {
    "collapsed": false
   }
  },
  {
   "cell_type": "code",
   "execution_count": 1,
   "outputs": [
    {
     "data": {
      "text/plain": "0    1\n1    3\n2    5\n3    7\ndtype: int64"
     },
     "execution_count": 1,
     "metadata": {},
     "output_type": "execute_result"
    }
   ],
   "source": [
    "import pandas as pd\n",
    "\n",
    "series_1 = pd.Series([1, 3, 5, 7])\n",
    "series_1"
   ],
   "metadata": {
    "collapsed": false
   }
  },
  {
   "cell_type": "markdown",
   "source": [
    "输出有两列，第一列是 index，第二列是 values， values 就是我们传入的列表，而 index 则是对应的序号。当我们只使用列表来创建 Series 对象时，会生成默认的索引。即类似列表那样，每一个元素的位置作为索引。Series 对象也具备 index 和 values 属性，这样我们可以单独访问这两个部分。"
   ],
   "metadata": {
    "collapsed": false
   }
  },
  {
   "cell_type": "code",
   "execution_count": 2,
   "outputs": [
    {
     "name": "stdout",
     "output_type": "stream",
     "text": [
      "values: [1 3 5 7]\n",
      "index: RangeIndex(start=0, stop=4, step=1)\n"
     ]
    }
   ],
   "source": [
    "print(\"values:\", series_1.values)\n",
    "print(\"index:\", series_1.index)"
   ],
   "metadata": {
    "collapsed": false
   }
  },
  {
   "cell_type": "markdown",
   "source": [
    "Series 还支持我们在创建的时候指定对应的索引。"
   ],
   "metadata": {
    "collapsed": false
   }
  },
  {
   "cell_type": "code",
   "execution_count": 4,
   "outputs": [
    {
     "data": {
      "text/plain": "a    1\nb    3\nc    5\nd    7\ndtype: int64"
     },
     "execution_count": 4,
     "metadata": {},
     "output_type": "execute_result"
    }
   ],
   "source": [
    "import pandas as pd\n",
    "\n",
    "series_1 = pd.Series([1, 3, 5, 7], index=[\"a\", \"b\", \"c\", \"d\"])\n",
    "series_1"
   ],
   "metadata": {
    "collapsed": false
   }
  },
  {
   "cell_type": "markdown",
   "source": [
    "Series 通过将 index 和 values 分别存储的机制，实现了列表和字典的结合。"
   ],
   "metadata": {
    "collapsed": false
   }
  },
  {
   "cell_type": "markdown",
   "source": [
    "## 3 二维数据表：DataFrame\n",
    "\n",
    "DataFrame 是一个由行和列组成的二维表格。它由 Series 组成，DataFrame 的某一行，或者某一列都是一个 Series。"
   ],
   "metadata": {
    "collapsed": false
   }
  },
  {
   "cell_type": "code",
   "execution_count": 3,
   "outputs": [
    {
     "name": "stdout",
     "output_type": "stream",
     "text": [
      "0       7.9分\n",
      "1       8.8分\n",
      "2       9.2分\n",
      "3       9.3分\n",
      "4       7.9分\n",
      "        ... \n",
      "3795    5.9分\n",
      "3796    7.0分\n",
      "3797    6.0分\n",
      "3798    7.7分\n",
      "3799    7.0分\n",
      "Name: rating, Length: 3800, dtype: object\n",
      "type of ser_rating: <class 'pandas.core.series.Series'>\n",
      "---------------------------------------------------\n",
      "title               家有儿女\n",
      "rating              8.8分\n",
      "stars     宋丹丹,高亚麟,张一山,杨紫\n",
      "Name: 1, dtype: object\n",
      "type of row1: <class 'pandas.core.series.Series'>\n"
     ]
    }
   ],
   "source": [
    "import pandas as pd\n",
    "\n",
    "df_rating = pd.read_csv(\"../02-ExtractContent/kj.csv\")\n",
    "\n",
    "# 输出 rating 列\n",
    "ser_rating = df_rating[\"rating\"]\n",
    "print(ser_rating)\n",
    "print(\"type of ser_rating:\", type(ser_rating))\n",
    "\n",
    "print(\"---------------------------------------------------\")\n",
    "\n",
    "# 除了输出某一列，我们还可以用行索引，来单独输出某一行。\n",
    "row1 = df_rating.loc[1]\n",
    "print(row1)\n",
    "print(\"type of row1:\", type(row1))"
   ],
   "metadata": {
    "collapsed": false
   }
  },
  {
   "cell_type": "markdown",
   "source": [
    "### DataFrame 的创建\n",
    "\n",
    "既然 DataFrame 是一个个 Series 组成的，那自然我们可以用 Series 来构造出 DataFrame。构造 DataFrame 最常见的方式是用多个行 Series 的形式来创建，不同的行 Series 的长度应该是一致的（因为表格中每一行的元素个数都需要相等）。"
   ],
   "metadata": {
    "collapsed": false
   }
  },
  {
   "cell_type": "code",
   "execution_count": 4,
   "outputs": [
    {
     "data": {
      "text/plain": "   姓名  年龄  籍贯   部门\n0  小明  22  河北  IT部\n1  小亮  25  广东  IT部\n2  小王  23  四川  财务部",
      "text/html": "<div>\n<style scoped>\n    .dataframe tbody tr th:only-of-type {\n        vertical-align: middle;\n    }\n\n    .dataframe tbody tr th {\n        vertical-align: top;\n    }\n\n    .dataframe thead th {\n        text-align: right;\n    }\n</style>\n<table border=\"1\" class=\"dataframe\">\n  <thead>\n    <tr style=\"text-align: right;\">\n      <th></th>\n      <th>姓名</th>\n      <th>年龄</th>\n      <th>籍贯</th>\n      <th>部门</th>\n    </tr>\n  </thead>\n  <tbody>\n    <tr>\n      <th>0</th>\n      <td>小明</td>\n      <td>22</td>\n      <td>河北</td>\n      <td>IT部</td>\n    </tr>\n    <tr>\n      <th>1</th>\n      <td>小亮</td>\n      <td>25</td>\n      <td>广东</td>\n      <td>IT部</td>\n    </tr>\n    <tr>\n      <th>2</th>\n      <td>小王</td>\n      <td>23</td>\n      <td>四川</td>\n      <td>财务部</td>\n    </tr>\n  </tbody>\n</table>\n</div>"
     },
     "execution_count": 4,
     "metadata": {},
     "output_type": "execute_result"
    }
   ],
   "source": [
    "import pandas as pd\n",
    "\n",
    "index_array = [\"姓名\", \"年龄\", \"籍贯\", \"部门\"]\n",
    "series_xm = pd.Series([\"小明\", \"22\", \"河北\", \"IT部\"], index=index_array)\n",
    "series_xl = pd.Series([\"小亮\", \"25\", \"广东\", \"IT部\"], index=index_array)\n",
    "series_xw = pd.Series([\"小王\", \"23\", \"四川\", \"财务部\"], index=index_array)\n",
    "\n",
    "df = pd.DataFrame([series_xm, series_xl, series_xw])\n",
    "df"
   ],
   "metadata": {
    "collapsed": false
   }
  },
  {
   "cell_type": "markdown",
   "source": [
    "### DataFrame 的基本操作"
   ],
   "metadata": {
    "collapsed": false
   }
  },
  {
   "cell_type": "code",
   "execution_count": 5,
   "outputs": [
    {
     "name": "stderr",
     "output_type": "stream",
     "text": [
      "C:\\Users\\lenovo\\AppData\\Local\\Temp\\ipykernel_20708\\2902089903.py:4: FutureWarning: The frame.append method is deprecated and will be removed from pandas in a future version. Use pandas.concat instead.\n",
      "  df = df.append(series_xh, ignore_index=True)\n"
     ]
    },
    {
     "data": {
      "text/plain": "   姓名  年龄  籍贯   部门\n0  小明  22  河北  IT部\n1  小亮  25  广东  IT部\n2  小王  23  四川  财务部\n3  小红  28  福建  财务部",
      "text/html": "<div>\n<style scoped>\n    .dataframe tbody tr th:only-of-type {\n        vertical-align: middle;\n    }\n\n    .dataframe tbody tr th {\n        vertical-align: top;\n    }\n\n    .dataframe thead th {\n        text-align: right;\n    }\n</style>\n<table border=\"1\" class=\"dataframe\">\n  <thead>\n    <tr style=\"text-align: right;\">\n      <th></th>\n      <th>姓名</th>\n      <th>年龄</th>\n      <th>籍贯</th>\n      <th>部门</th>\n    </tr>\n  </thead>\n  <tbody>\n    <tr>\n      <th>0</th>\n      <td>小明</td>\n      <td>22</td>\n      <td>河北</td>\n      <td>IT部</td>\n    </tr>\n    <tr>\n      <th>1</th>\n      <td>小亮</td>\n      <td>25</td>\n      <td>广东</td>\n      <td>IT部</td>\n    </tr>\n    <tr>\n      <th>2</th>\n      <td>小王</td>\n      <td>23</td>\n      <td>四川</td>\n      <td>财务部</td>\n    </tr>\n    <tr>\n      <th>3</th>\n      <td>小红</td>\n      <td>28</td>\n      <td>福建</td>\n      <td>财务部</td>\n    </tr>\n  </tbody>\n</table>\n</div>"
     },
     "execution_count": 5,
     "metadata": {},
     "output_type": "execute_result"
    }
   ],
   "source": [
    "# 添加一个新的 Series\n",
    "series_xh = pd.Series([\"小红\", 28, \"福建\", \"财务部\"], index=index_array)\n",
    "# 设置 ignore_index 的含义是让 DataFrame 自动生成行索引，append 的返回值就是新生成的 DataFrame。\n",
    "df = df.append(series_xh, ignore_index=True)\n",
    "df"
   ],
   "metadata": {
    "collapsed": false
   }
  },
  {
   "cell_type": "code",
   "execution_count": 6,
   "outputs": [
    {
     "data": {
      "text/plain": "   姓名  年龄  籍贯   部门 考核结果\n0  小明  22  河北  IT部   合格\n1  小亮  25  广东  IT部   合格\n2  小王  23  四川  财务部   合格\n3  小红  28  福建  财务部   合格",
      "text/html": "<div>\n<style scoped>\n    .dataframe tbody tr th:only-of-type {\n        vertical-align: middle;\n    }\n\n    .dataframe tbody tr th {\n        vertical-align: top;\n    }\n\n    .dataframe thead th {\n        text-align: right;\n    }\n</style>\n<table border=\"1\" class=\"dataframe\">\n  <thead>\n    <tr style=\"text-align: right;\">\n      <th></th>\n      <th>姓名</th>\n      <th>年龄</th>\n      <th>籍贯</th>\n      <th>部门</th>\n      <th>考核结果</th>\n    </tr>\n  </thead>\n  <tbody>\n    <tr>\n      <th>0</th>\n      <td>小明</td>\n      <td>22</td>\n      <td>河北</td>\n      <td>IT部</td>\n      <td>合格</td>\n    </tr>\n    <tr>\n      <th>1</th>\n      <td>小亮</td>\n      <td>25</td>\n      <td>广东</td>\n      <td>IT部</td>\n      <td>合格</td>\n    </tr>\n    <tr>\n      <th>2</th>\n      <td>小王</td>\n      <td>23</td>\n      <td>四川</td>\n      <td>财务部</td>\n      <td>合格</td>\n    </tr>\n    <tr>\n      <th>3</th>\n      <td>小红</td>\n      <td>28</td>\n      <td>福建</td>\n      <td>财务部</td>\n      <td>合格</td>\n    </tr>\n  </tbody>\n</table>\n</div>"
     },
     "execution_count": 6,
     "metadata": {},
     "output_type": "execute_result"
    }
   ],
   "source": [
    "# 添加一列一般有两种情况，如果我们要添加的列，所有行的值都相同的话，我们可以直接以单个值赋值给新添加的列 Series 即可。如下所示：\n",
    "df[\"考核结果\"] = \"合格\"\n",
    "df"
   ],
   "metadata": {
    "collapsed": false
   }
  },
  {
   "cell_type": "code",
   "execution_count": 7,
   "outputs": [
    {
     "data": {
      "text/plain": "   姓名  年龄  籍贯   部门 考核结果   奖金\n0  小明  22  河北  IT部   合格  三个月\n1  小亮  25  广东  IT部   合格  四个月\n2  小王  23  四川  财务部   合格  一个月\n3  小红  28  福建  财务部   合格  一个月",
      "text/html": "<div>\n<style scoped>\n    .dataframe tbody tr th:only-of-type {\n        vertical-align: middle;\n    }\n\n    .dataframe tbody tr th {\n        vertical-align: top;\n    }\n\n    .dataframe thead th {\n        text-align: right;\n    }\n</style>\n<table border=\"1\" class=\"dataframe\">\n  <thead>\n    <tr style=\"text-align: right;\">\n      <th></th>\n      <th>姓名</th>\n      <th>年龄</th>\n      <th>籍贯</th>\n      <th>部门</th>\n      <th>考核结果</th>\n      <th>奖金</th>\n    </tr>\n  </thead>\n  <tbody>\n    <tr>\n      <th>0</th>\n      <td>小明</td>\n      <td>22</td>\n      <td>河北</td>\n      <td>IT部</td>\n      <td>合格</td>\n      <td>三个月</td>\n    </tr>\n    <tr>\n      <th>1</th>\n      <td>小亮</td>\n      <td>25</td>\n      <td>广东</td>\n      <td>IT部</td>\n      <td>合格</td>\n      <td>四个月</td>\n    </tr>\n    <tr>\n      <th>2</th>\n      <td>小王</td>\n      <td>23</td>\n      <td>四川</td>\n      <td>财务部</td>\n      <td>合格</td>\n      <td>一个月</td>\n    </tr>\n    <tr>\n      <th>3</th>\n      <td>小红</td>\n      <td>28</td>\n      <td>福建</td>\n      <td>财务部</td>\n      <td>合格</td>\n      <td>一个月</td>\n    </tr>\n  </tbody>\n</table>\n</div>"
     },
     "execution_count": 7,
     "metadata": {},
     "output_type": "execute_result"
    }
   ],
   "source": [
    "# 如果新添加的列，每一行的内容不是完全一样时，就需要我们将一个新的 Series 赋值给 DataFrame 针对新列名的列 Series。\n",
    "df[\"奖金\"] = pd.Series([\"三个月\", \"四个月\", \"一个月\", \"一个月\"])\n",
    "df"
   ],
   "metadata": {
    "collapsed": false
   }
  },
  {
   "cell_type": "code",
   "execution_count": 8,
   "outputs": [
    {
     "data": {
      "text/plain": "   姓名  年龄  籍贯   部门   奖金\n0  小明  22  河北  IT部  三个月\n1  小亮  25  广东  IT部  四个月\n2  小王  23  四川  财务部  一个月\n3  小红  28  福建  财务部  一个月",
      "text/html": "<div>\n<style scoped>\n    .dataframe tbody tr th:only-of-type {\n        vertical-align: middle;\n    }\n\n    .dataframe tbody tr th {\n        vertical-align: top;\n    }\n\n    .dataframe thead th {\n        text-align: right;\n    }\n</style>\n<table border=\"1\" class=\"dataframe\">\n  <thead>\n    <tr style=\"text-align: right;\">\n      <th></th>\n      <th>姓名</th>\n      <th>年龄</th>\n      <th>籍贯</th>\n      <th>部门</th>\n      <th>奖金</th>\n    </tr>\n  </thead>\n  <tbody>\n    <tr>\n      <th>0</th>\n      <td>小明</td>\n      <td>22</td>\n      <td>河北</td>\n      <td>IT部</td>\n      <td>三个月</td>\n    </tr>\n    <tr>\n      <th>1</th>\n      <td>小亮</td>\n      <td>25</td>\n      <td>广东</td>\n      <td>IT部</td>\n      <td>四个月</td>\n    </tr>\n    <tr>\n      <th>2</th>\n      <td>小王</td>\n      <td>23</td>\n      <td>四川</td>\n      <td>财务部</td>\n      <td>一个月</td>\n    </tr>\n    <tr>\n      <th>3</th>\n      <td>小红</td>\n      <td>28</td>\n      <td>福建</td>\n      <td>财务部</td>\n      <td>一个月</td>\n    </tr>\n  </tbody>\n</table>\n</div>"
     },
     "execution_count": 8,
     "metadata": {},
     "output_type": "execute_result"
    }
   ],
   "source": [
    "# 删除”考核结果“：axis = 1 代表要删除的是列，inplace = True 代表删除直接在 df_info 中生效。\n",
    "df.drop(labels=\"考核结果\", axis=1, inplace=True)\n",
    "df"
   ],
   "metadata": {
    "collapsed": false
   }
  },
  {
   "cell_type": "code",
   "execution_count": 9,
   "outputs": [
    {
     "data": {
      "text/plain": "   姓名  年龄  籍贯   部门   奖金\n0  小明  22  河北  IT部  三个月\n1  小亮  25  广东  IT部  四个月\n3  小红  28  福建  财务部  一个月",
      "text/html": "<div>\n<style scoped>\n    .dataframe tbody tr th:only-of-type {\n        vertical-align: middle;\n    }\n\n    .dataframe tbody tr th {\n        vertical-align: top;\n    }\n\n    .dataframe thead th {\n        text-align: right;\n    }\n</style>\n<table border=\"1\" class=\"dataframe\">\n  <thead>\n    <tr style=\"text-align: right;\">\n      <th></th>\n      <th>姓名</th>\n      <th>年龄</th>\n      <th>籍贯</th>\n      <th>部门</th>\n      <th>奖金</th>\n    </tr>\n  </thead>\n  <tbody>\n    <tr>\n      <th>0</th>\n      <td>小明</td>\n      <td>22</td>\n      <td>河北</td>\n      <td>IT部</td>\n      <td>三个月</td>\n    </tr>\n    <tr>\n      <th>1</th>\n      <td>小亮</td>\n      <td>25</td>\n      <td>广东</td>\n      <td>IT部</td>\n      <td>四个月</td>\n    </tr>\n    <tr>\n      <th>3</th>\n      <td>小红</td>\n      <td>28</td>\n      <td>福建</td>\n      <td>财务部</td>\n      <td>一个月</td>\n    </tr>\n  </tbody>\n</table>\n</div>"
     },
     "execution_count": 9,
     "metadata": {},
     "output_type": "execute_result"
    }
   ],
   "source": [
    "# 删除某一个行\n",
    "# 删除”考核结果“：axis = 0 代表要删除的是行，inplace = True 代表删除直接在 df_info 中生效。\n",
    "df.drop(labels=2, axis=0, inplace=True)\n",
    "df"
   ],
   "metadata": {
    "collapsed": false
   }
  },
  {
   "cell_type": "code",
   "execution_count": 10,
   "outputs": [
    {
     "data": {
      "text/plain": "'广东'"
     },
     "execution_count": 10,
     "metadata": {},
     "output_type": "execute_result"
    }
   ],
   "source": [
    "# 查看单元格：loc 属性后面跟着中括号，中括号里面第一个元素是行索引，第二个元素是列索引\n",
    "df.loc[1, \"籍贯\"]"
   ],
   "metadata": {
    "collapsed": false
   }
  },
  {
   "cell_type": "code",
   "execution_count": 11,
   "outputs": [
    {
     "data": {
      "text/plain": "'湖南'"
     },
     "execution_count": 11,
     "metadata": {},
     "output_type": "execute_result"
    }
   ],
   "source": [
    "# 修改就是直接赋值\n",
    "df.loc[1, \"籍贯\"] = \"湖南\"\n",
    "df.loc[1, \"籍贯\"]"
   ],
   "metadata": {
    "collapsed": false
   }
  },
  {
   "cell_type": "markdown",
   "source": [
    "### 对 DataFrame 进行排序和获取部分数据"
   ],
   "metadata": {
    "collapsed": false
   }
  },
  {
   "cell_type": "code",
   "execution_count": 12,
   "outputs": [
    {
     "data": {
      "text/plain": "          title rating                                              stars\n1210   一起同过窗第一季     9分  武雨泽,徐晓璐,庞瀚辰,李若嘉,于翔,桑砚,应岱臻,丁翔南,李川,陈汛,李栋,刘轩,俞思远,...\n1273        大盛魁     9分                           于震,乔振宇,吴连生,周显欣,午马,王绘春,郑玉\n879        大明宫词     9分  陈红,归亚蕾,周迅,赵文瑄,傅彪,申军谊,贾妮,刘栋,吴军忱,孙斌,李昊翰,高冬平,李冰冰,杨雨婷\n653        龙年档案     9分                                 张丰毅,潘雨辰,戈治均,谭希和,朱恒\n65          与卿书   9.8分                          黄羿,王弘毅,柯颖,刘胤君,周子悦,张浩哲,潘毅鸿\n...         ...    ...                                                ...\n1226     飞虎队大营救   2.5分                    李梦男,海顿,郑晓宁,宋笠娜,杨峰,习雪,杜旭东,赵恒煊,李琦\n1589       重耳传奇   2.5分  王龙华,张含韵,麦迪娜,谭凯,王艳,翁虹,龚蓓苾,买红妹,贺刚,郭晓然,蒲巴甲,张一山,沈梦...\n954        游击英雄   2.5分                                             林江国,王珂\n3117       家庭秘密   2.4分                                          荣蓉,陈锐,姜析源\n1452  曹老板的十八个秘书   0.0分                                       任程伟,张恒,句号,苏岩\n\n[3800 rows x 3 columns]",
      "text/html": "<div>\n<style scoped>\n    .dataframe tbody tr th:only-of-type {\n        vertical-align: middle;\n    }\n\n    .dataframe tbody tr th {\n        vertical-align: top;\n    }\n\n    .dataframe thead th {\n        text-align: right;\n    }\n</style>\n<table border=\"1\" class=\"dataframe\">\n  <thead>\n    <tr style=\"text-align: right;\">\n      <th></th>\n      <th>title</th>\n      <th>rating</th>\n      <th>stars</th>\n    </tr>\n  </thead>\n  <tbody>\n    <tr>\n      <th>1210</th>\n      <td>一起同过窗第一季</td>\n      <td>9分</td>\n      <td>武雨泽,徐晓璐,庞瀚辰,李若嘉,于翔,桑砚,应岱臻,丁翔南,李川,陈汛,李栋,刘轩,俞思远,...</td>\n    </tr>\n    <tr>\n      <th>1273</th>\n      <td>大盛魁</td>\n      <td>9分</td>\n      <td>于震,乔振宇,吴连生,周显欣,午马,王绘春,郑玉</td>\n    </tr>\n    <tr>\n      <th>879</th>\n      <td>大明宫词</td>\n      <td>9分</td>\n      <td>陈红,归亚蕾,周迅,赵文瑄,傅彪,申军谊,贾妮,刘栋,吴军忱,孙斌,李昊翰,高冬平,李冰冰,杨雨婷</td>\n    </tr>\n    <tr>\n      <th>653</th>\n      <td>龙年档案</td>\n      <td>9分</td>\n      <td>张丰毅,潘雨辰,戈治均,谭希和,朱恒</td>\n    </tr>\n    <tr>\n      <th>65</th>\n      <td>与卿书</td>\n      <td>9.8分</td>\n      <td>黄羿,王弘毅,柯颖,刘胤君,周子悦,张浩哲,潘毅鸿</td>\n    </tr>\n    <tr>\n      <th>...</th>\n      <td>...</td>\n      <td>...</td>\n      <td>...</td>\n    </tr>\n    <tr>\n      <th>1226</th>\n      <td>飞虎队大营救</td>\n      <td>2.5分</td>\n      <td>李梦男,海顿,郑晓宁,宋笠娜,杨峰,习雪,杜旭东,赵恒煊,李琦</td>\n    </tr>\n    <tr>\n      <th>1589</th>\n      <td>重耳传奇</td>\n      <td>2.5分</td>\n      <td>王龙华,张含韵,麦迪娜,谭凯,王艳,翁虹,龚蓓苾,买红妹,贺刚,郭晓然,蒲巴甲,张一山,沈梦...</td>\n    </tr>\n    <tr>\n      <th>954</th>\n      <td>游击英雄</td>\n      <td>2.5分</td>\n      <td>林江国,王珂</td>\n    </tr>\n    <tr>\n      <th>3117</th>\n      <td>家庭秘密</td>\n      <td>2.4分</td>\n      <td>荣蓉,陈锐,姜析源</td>\n    </tr>\n    <tr>\n      <th>1452</th>\n      <td>曹老板的十八个秘书</td>\n      <td>0.0分</td>\n      <td>任程伟,张恒,句号,苏岩</td>\n    </tr>\n  </tbody>\n</table>\n<p>3800 rows × 3 columns</p>\n</div>"
     },
     "execution_count": 12,
     "metadata": {},
     "output_type": "execute_result"
    }
   ],
   "source": [
    "import pandas as pd\n",
    "\n",
    "df_rating = pd.read_csv(\"../02-ExtractContent/kj.csv\")\n",
    "df_rating.sort_values(by=\"rating\", inplace=True, ascending=False)\n",
    "df_rating"
   ],
   "metadata": {
    "collapsed": false
   }
  },
  {
   "cell_type": "code",
   "execution_count": 13,
   "outputs": [
    {
     "data": {
      "text/plain": "         title rating                                              stars\n1210  一起同过窗第一季     9分  武雨泽,徐晓璐,庞瀚辰,李若嘉,于翔,桑砚,应岱臻,丁翔南,李川,陈汛,李栋,刘轩,俞思远,...\n1273       大盛魁     9分                           于震,乔振宇,吴连生,周显欣,午马,王绘春,郑玉\n879       大明宫词     9分  陈红,归亚蕾,周迅,赵文瑄,傅彪,申军谊,贾妮,刘栋,吴军忱,孙斌,李昊翰,高冬平,李冰冰,杨雨婷\n653       龙年档案     9分                                 张丰毅,潘雨辰,戈治均,谭希和,朱恒\n65         与卿书   9.8分                          黄羿,王弘毅,柯颖,刘胤君,周子悦,张浩哲,潘毅鸿\n1946     毛骗终结篇   9.7分                                       杨羽,邵庄,安宁,邢冬冬\n1509  大明王朝1566   9.7分  陈宝国,黄志忠,王庆祥,倪大红,祝希娟,徐光明,张志坚,郭广平,闫妮,郭东文,郑玉,张子健,...\n2111   请回答1988   9.7分  成东日,李一花,罗美兰,金成钧,崔武成,金善映,柳慧英,李惠利,柳俊烈,高庚杓,朴宝剑,安宰...\n1582   两个人的小森林   9.6分               虞书欣,张彬彬,厉嘉琪,丁冠森,吴迪飞,安戈,崔奕,李晔,刘杰毅,李文玲\n64       女士的品格   9.6分     万茜,刘敏涛,邢菲,白客,高一仁,王勉,温峥嵘,师铭泽,海一天,蒲巴甲,徐立,刘金山,姚安濂\n3457     天才基本法   9.6分                雷佳音,张子枫,张新成,刘琳,王圣迪,耿乐,王骁,王宥钧,胡连馨,是安\n1648      武林外传   9.5分  闫妮,姚晨,沙溢,喻恩泰,姜超,倪虹洁,王莎莎,范明,肖剑,于娟,张歆艺,张青,吴明鸿,张少...\n3568      武林外传   9.5分  闫妮,姚晨,沙溢,喻恩泰,姜超,倪虹洁,王莎莎,范明,肖剑,于娟,张歆艺,张青,吴明鸿,张少...\n1168      武林外传   9.5分  闫妮,姚晨,沙溢,喻恩泰,姜超,倪虹洁,王莎莎,范明,肖剑,于娟,张歆艺,张青,吴明鸿,张少...\n3408      武林外传   9.5分  闫妮,姚晨,沙溢,喻恩泰,姜超,倪虹洁,王莎莎,范明,肖剑,于娟,张歆艺,张青,吴明鸿,张少...\n888       武林外传   9.5分  闫妮,姚晨,沙溢,喻恩泰,姜超,倪虹洁,王莎莎,范明,肖剑,于娟,张歆艺,张青,吴明鸿,张少...\n2728      武林外传   9.5分  闫妮,姚晨,沙溢,喻恩泰,姜超,倪虹洁,王莎莎,范明,肖剑,于娟,张歆艺,张青,吴明鸿,张少...\n1928      武林外传   9.5分  闫妮,姚晨,沙溢,喻恩泰,姜超,倪虹洁,王莎莎,范明,肖剑,于娟,张歆艺,张青,吴明鸿,张少...\n488       武林外传   9.5分  闫妮,姚晨,沙溢,喻恩泰,姜超,倪虹洁,王莎莎,范明,肖剑,于娟,张歆艺,张青,吴明鸿,张少...\n1408      武林外传   9.5分  闫妮,姚晨,沙溢,喻恩泰,姜超,倪虹洁,王莎莎,范明,肖剑,于娟,张歆艺,张青,吴明鸿,张少...",
      "text/html": "<div>\n<style scoped>\n    .dataframe tbody tr th:only-of-type {\n        vertical-align: middle;\n    }\n\n    .dataframe tbody tr th {\n        vertical-align: top;\n    }\n\n    .dataframe thead th {\n        text-align: right;\n    }\n</style>\n<table border=\"1\" class=\"dataframe\">\n  <thead>\n    <tr style=\"text-align: right;\">\n      <th></th>\n      <th>title</th>\n      <th>rating</th>\n      <th>stars</th>\n    </tr>\n  </thead>\n  <tbody>\n    <tr>\n      <th>1210</th>\n      <td>一起同过窗第一季</td>\n      <td>9分</td>\n      <td>武雨泽,徐晓璐,庞瀚辰,李若嘉,于翔,桑砚,应岱臻,丁翔南,李川,陈汛,李栋,刘轩,俞思远,...</td>\n    </tr>\n    <tr>\n      <th>1273</th>\n      <td>大盛魁</td>\n      <td>9分</td>\n      <td>于震,乔振宇,吴连生,周显欣,午马,王绘春,郑玉</td>\n    </tr>\n    <tr>\n      <th>879</th>\n      <td>大明宫词</td>\n      <td>9分</td>\n      <td>陈红,归亚蕾,周迅,赵文瑄,傅彪,申军谊,贾妮,刘栋,吴军忱,孙斌,李昊翰,高冬平,李冰冰,杨雨婷</td>\n    </tr>\n    <tr>\n      <th>653</th>\n      <td>龙年档案</td>\n      <td>9分</td>\n      <td>张丰毅,潘雨辰,戈治均,谭希和,朱恒</td>\n    </tr>\n    <tr>\n      <th>65</th>\n      <td>与卿书</td>\n      <td>9.8分</td>\n      <td>黄羿,王弘毅,柯颖,刘胤君,周子悦,张浩哲,潘毅鸿</td>\n    </tr>\n    <tr>\n      <th>1946</th>\n      <td>毛骗终结篇</td>\n      <td>9.7分</td>\n      <td>杨羽,邵庄,安宁,邢冬冬</td>\n    </tr>\n    <tr>\n      <th>1509</th>\n      <td>大明王朝1566</td>\n      <td>9.7分</td>\n      <td>陈宝国,黄志忠,王庆祥,倪大红,祝希娟,徐光明,张志坚,郭广平,闫妮,郭东文,郑玉,张子健,...</td>\n    </tr>\n    <tr>\n      <th>2111</th>\n      <td>请回答1988</td>\n      <td>9.7分</td>\n      <td>成东日,李一花,罗美兰,金成钧,崔武成,金善映,柳慧英,李惠利,柳俊烈,高庚杓,朴宝剑,安宰...</td>\n    </tr>\n    <tr>\n      <th>1582</th>\n      <td>两个人的小森林</td>\n      <td>9.6分</td>\n      <td>虞书欣,张彬彬,厉嘉琪,丁冠森,吴迪飞,安戈,崔奕,李晔,刘杰毅,李文玲</td>\n    </tr>\n    <tr>\n      <th>64</th>\n      <td>女士的品格</td>\n      <td>9.6分</td>\n      <td>万茜,刘敏涛,邢菲,白客,高一仁,王勉,温峥嵘,师铭泽,海一天,蒲巴甲,徐立,刘金山,姚安濂</td>\n    </tr>\n    <tr>\n      <th>3457</th>\n      <td>天才基本法</td>\n      <td>9.6分</td>\n      <td>雷佳音,张子枫,张新成,刘琳,王圣迪,耿乐,王骁,王宥钧,胡连馨,是安</td>\n    </tr>\n    <tr>\n      <th>1648</th>\n      <td>武林外传</td>\n      <td>9.5分</td>\n      <td>闫妮,姚晨,沙溢,喻恩泰,姜超,倪虹洁,王莎莎,范明,肖剑,于娟,张歆艺,张青,吴明鸿,张少...</td>\n    </tr>\n    <tr>\n      <th>3568</th>\n      <td>武林外传</td>\n      <td>9.5分</td>\n      <td>闫妮,姚晨,沙溢,喻恩泰,姜超,倪虹洁,王莎莎,范明,肖剑,于娟,张歆艺,张青,吴明鸿,张少...</td>\n    </tr>\n    <tr>\n      <th>1168</th>\n      <td>武林外传</td>\n      <td>9.5分</td>\n      <td>闫妮,姚晨,沙溢,喻恩泰,姜超,倪虹洁,王莎莎,范明,肖剑,于娟,张歆艺,张青,吴明鸿,张少...</td>\n    </tr>\n    <tr>\n      <th>3408</th>\n      <td>武林外传</td>\n      <td>9.5分</td>\n      <td>闫妮,姚晨,沙溢,喻恩泰,姜超,倪虹洁,王莎莎,范明,肖剑,于娟,张歆艺,张青,吴明鸿,张少...</td>\n    </tr>\n    <tr>\n      <th>888</th>\n      <td>武林外传</td>\n      <td>9.5分</td>\n      <td>闫妮,姚晨,沙溢,喻恩泰,姜超,倪虹洁,王莎莎,范明,肖剑,于娟,张歆艺,张青,吴明鸿,张少...</td>\n    </tr>\n    <tr>\n      <th>2728</th>\n      <td>武林外传</td>\n      <td>9.5分</td>\n      <td>闫妮,姚晨,沙溢,喻恩泰,姜超,倪虹洁,王莎莎,范明,肖剑,于娟,张歆艺,张青,吴明鸿,张少...</td>\n    </tr>\n    <tr>\n      <th>1928</th>\n      <td>武林外传</td>\n      <td>9.5分</td>\n      <td>闫妮,姚晨,沙溢,喻恩泰,姜超,倪虹洁,王莎莎,范明,肖剑,于娟,张歆艺,张青,吴明鸿,张少...</td>\n    </tr>\n    <tr>\n      <th>488</th>\n      <td>武林外传</td>\n      <td>9.5分</td>\n      <td>闫妮,姚晨,沙溢,喻恩泰,姜超,倪虹洁,王莎莎,范明,肖剑,于娟,张歆艺,张青,吴明鸿,张少...</td>\n    </tr>\n    <tr>\n      <th>1408</th>\n      <td>武林外传</td>\n      <td>9.5分</td>\n      <td>闫妮,姚晨,沙溢,喻恩泰,姜超,倪虹洁,王莎莎,范明,肖剑,于娟,张歆艺,张青,吴明鸿,张少...</td>\n    </tr>\n  </tbody>\n</table>\n</div>"
     },
     "execution_count": 13,
     "metadata": {},
     "output_type": "execute_result"
    }
   ],
   "source": [
    "# 取前 N 个\n",
    "df_rating.head(20)"
   ],
   "metadata": {
    "collapsed": false
   }
  },
  {
   "cell_type": "code",
   "execution_count": 14,
   "outputs": [
    {
     "data": {
      "text/plain": "          title rating                                              stars\n970       地雷英雄传   3.1分                                      王新军,宁静,韩张,郑媛元\n581          擒狼   3.1分              蒲巴甲,刘萌萌,孙大川,刘波（演员）,徐鹏凯,王佳宁,王九胜,邵桐,吕卓燃\n578        上古情歌   3.1分  黄晓明,宋茜,盛一伦,张俪,翟天临,罗云熙,吴倩,沈泰,张双利,席与立,侯长荣,李进荣,林静...\n1638      后妈的春天   3.1分                              李彩桦,贺刚,张永刚,小刘佳,曾龙,陶思源\n172          推手   3.1分                   贾乃亮,王鸥,刘欢,边潇潇,王劲松,李天柱,吴昕,万思维,戴春荣\n974       俺娘田小草   2.9分  闫学晶,胡亚捷,王丽云,韩童生,金巧巧,舒耀瑄,雷恪生,张明健,何翯,王天泽,王沐霖,杜鹤,...\n3665       木兰妈妈   2.8分                          陈小艺,范雷,刘之冰,刘琳,徐黄丽,王天泽,于莉红\n171       我怕来不及   2.8分                              唐曾,徐小飒,王丽云,梅婷,王沐霖,李云飞\n2707       殊死七日   2.8分                                     吴健,田璐菡,严俊里,彭梓洋\n1387      猛犸敢死队   2.8分                                            姚居德,刘思梦\n574        魔都风云   2.8分                    经超,周冬雨,任达华,潘禹彤,小李琳,张旭,李明臣,白雨,刘敏\n570        梅花儿香   2.7分                                   原雨,荣蓉,李竹,刘娜萍,李修蒙\n418        战地狮吼   2.6分                                 王建新,申军谊,陈廷嘉,刘子赫,何花\n314        甜蜜暴击   2.6分                              鹿晗,关晓彤,裴子添,邵雨薇,李萌萌,赵越\n312          刺蝶   2.6分                                     陶宇佳,袁志博,孟醒,徐洪浩\n1226     飞虎队大营救   2.5分                    李梦男,海顿,郑晓宁,宋笠娜,杨峰,习雪,杜旭东,赵恒煊,李琦\n1589       重耳传奇   2.5分  王龙华,张含韵,麦迪娜,谭凯,王艳,翁虹,龚蓓苾,买红妹,贺刚,郭晓然,蒲巴甲,张一山,沈梦...\n954        游击英雄   2.5分                                             林江国,王珂\n3117       家庭秘密   2.4分                                          荣蓉,陈锐,姜析源\n1452  曹老板的十八个秘书   0.0分                                       任程伟,张恒,句号,苏岩",
      "text/html": "<div>\n<style scoped>\n    .dataframe tbody tr th:only-of-type {\n        vertical-align: middle;\n    }\n\n    .dataframe tbody tr th {\n        vertical-align: top;\n    }\n\n    .dataframe thead th {\n        text-align: right;\n    }\n</style>\n<table border=\"1\" class=\"dataframe\">\n  <thead>\n    <tr style=\"text-align: right;\">\n      <th></th>\n      <th>title</th>\n      <th>rating</th>\n      <th>stars</th>\n    </tr>\n  </thead>\n  <tbody>\n    <tr>\n      <th>970</th>\n      <td>地雷英雄传</td>\n      <td>3.1分</td>\n      <td>王新军,宁静,韩张,郑媛元</td>\n    </tr>\n    <tr>\n      <th>581</th>\n      <td>擒狼</td>\n      <td>3.1分</td>\n      <td>蒲巴甲,刘萌萌,孙大川,刘波（演员）,徐鹏凯,王佳宁,王九胜,邵桐,吕卓燃</td>\n    </tr>\n    <tr>\n      <th>578</th>\n      <td>上古情歌</td>\n      <td>3.1分</td>\n      <td>黄晓明,宋茜,盛一伦,张俪,翟天临,罗云熙,吴倩,沈泰,张双利,席与立,侯长荣,李进荣,林静...</td>\n    </tr>\n    <tr>\n      <th>1638</th>\n      <td>后妈的春天</td>\n      <td>3.1分</td>\n      <td>李彩桦,贺刚,张永刚,小刘佳,曾龙,陶思源</td>\n    </tr>\n    <tr>\n      <th>172</th>\n      <td>推手</td>\n      <td>3.1分</td>\n      <td>贾乃亮,王鸥,刘欢,边潇潇,王劲松,李天柱,吴昕,万思维,戴春荣</td>\n    </tr>\n    <tr>\n      <th>974</th>\n      <td>俺娘田小草</td>\n      <td>2.9分</td>\n      <td>闫学晶,胡亚捷,王丽云,韩童生,金巧巧,舒耀瑄,雷恪生,张明健,何翯,王天泽,王沐霖,杜鹤,...</td>\n    </tr>\n    <tr>\n      <th>3665</th>\n      <td>木兰妈妈</td>\n      <td>2.8分</td>\n      <td>陈小艺,范雷,刘之冰,刘琳,徐黄丽,王天泽,于莉红</td>\n    </tr>\n    <tr>\n      <th>171</th>\n      <td>我怕来不及</td>\n      <td>2.8分</td>\n      <td>唐曾,徐小飒,王丽云,梅婷,王沐霖,李云飞</td>\n    </tr>\n    <tr>\n      <th>2707</th>\n      <td>殊死七日</td>\n      <td>2.8分</td>\n      <td>吴健,田璐菡,严俊里,彭梓洋</td>\n    </tr>\n    <tr>\n      <th>1387</th>\n      <td>猛犸敢死队</td>\n      <td>2.8分</td>\n      <td>姚居德,刘思梦</td>\n    </tr>\n    <tr>\n      <th>574</th>\n      <td>魔都风云</td>\n      <td>2.8分</td>\n      <td>经超,周冬雨,任达华,潘禹彤,小李琳,张旭,李明臣,白雨,刘敏</td>\n    </tr>\n    <tr>\n      <th>570</th>\n      <td>梅花儿香</td>\n      <td>2.7分</td>\n      <td>原雨,荣蓉,李竹,刘娜萍,李修蒙</td>\n    </tr>\n    <tr>\n      <th>418</th>\n      <td>战地狮吼</td>\n      <td>2.6分</td>\n      <td>王建新,申军谊,陈廷嘉,刘子赫,何花</td>\n    </tr>\n    <tr>\n      <th>314</th>\n      <td>甜蜜暴击</td>\n      <td>2.6分</td>\n      <td>鹿晗,关晓彤,裴子添,邵雨薇,李萌萌,赵越</td>\n    </tr>\n    <tr>\n      <th>312</th>\n      <td>刺蝶</td>\n      <td>2.6分</td>\n      <td>陶宇佳,袁志博,孟醒,徐洪浩</td>\n    </tr>\n    <tr>\n      <th>1226</th>\n      <td>飞虎队大营救</td>\n      <td>2.5分</td>\n      <td>李梦男,海顿,郑晓宁,宋笠娜,杨峰,习雪,杜旭东,赵恒煊,李琦</td>\n    </tr>\n    <tr>\n      <th>1589</th>\n      <td>重耳传奇</td>\n      <td>2.5分</td>\n      <td>王龙华,张含韵,麦迪娜,谭凯,王艳,翁虹,龚蓓苾,买红妹,贺刚,郭晓然,蒲巴甲,张一山,沈梦...</td>\n    </tr>\n    <tr>\n      <th>954</th>\n      <td>游击英雄</td>\n      <td>2.5分</td>\n      <td>林江国,王珂</td>\n    </tr>\n    <tr>\n      <th>3117</th>\n      <td>家庭秘密</td>\n      <td>2.4分</td>\n      <td>荣蓉,陈锐,姜析源</td>\n    </tr>\n    <tr>\n      <th>1452</th>\n      <td>曹老板的十八个秘书</td>\n      <td>0.0分</td>\n      <td>任程伟,张恒,句号,苏岩</td>\n    </tr>\n  </tbody>\n</table>\n</div>"
     },
     "execution_count": 14,
     "metadata": {},
     "output_type": "execute_result"
    }
   ],
   "source": [
    "# 取后 N 个\n",
    "df_rating.tail(20)"
   ],
   "metadata": {
    "collapsed": false
   }
  },
  {
   "cell_type": "code",
   "execution_count": 15,
   "outputs": [
    {
     "name": "stdout",
     "output_type": "stream",
     "text": [
      "行数： 3800\n",
      "列数： 3\n"
     ]
    }
   ],
   "source": [
    "# 获取 DataFrame 的行数和列数\n",
    "shape = df_rating.shape\n",
    "print(\"行数：\", shape[0])\n",
    "print(\"列数：\", shape[1])"
   ],
   "metadata": {
    "collapsed": false
   }
  }
 ],
 "metadata": {
  "kernelspec": {
   "display_name": "Python 3",
   "language": "python",
   "name": "python3"
  },
  "language_info": {
   "codemirror_mode": {
    "name": "ipython",
    "version": 2
   },
   "file_extension": ".py",
   "mimetype": "text/x-python",
   "name": "python",
   "nbconvert_exporter": "python",
   "pygments_lexer": "ipython2",
   "version": "2.7.6"
  }
 },
 "nbformat": 4,
 "nbformat_minor": 0
}
