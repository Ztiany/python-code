{
 "cells": [
  {
   "cell_type": "markdown",
   "source": [
    "# 时间序列：时间数据的解析与应用\n",
    "\n",
    "在很多数据分析任务中，经常会遇到处理时间相关的数据。比如电商网站经常需要根据下单记录来分析不同时间段的商品偏好，以此来决定网站不同时间段的促销信息；又或者是通过对过去十年的金融市场的数据进行分析，来预测某个细分版本的未来走势。在这些任务中，时间信息的处理都是重中之重。\n",
    "\n",
    "时间数据的处理不同于对常见的数字、字符串等数据的处理方式，时间数据处理起来往往会比较复杂。\n",
    "\n",
    "比如数据表中有一个表示时间的字符串：\"2018/02/01\"，我们希望提取其年、月、日，就需要去解析，分割该字符串。而往往我们会遇到各种不同格式的表示，比如\"01/02/2018\"，或者 \"2018-2-1\"， 等等。如果要完全实现针对不同格式的兼容，往往需要书写大量琐碎的代码。而这还只是最简单的提取年月日。其他比如时间的加减，都不是简单就能够完成的。\n",
    "\n",
    "pandas 作为数据分析最强大的工具集，自然也提供了一套非常强大的处理时间数据的工具。这一篇就来学习 pandas 提供的时间数据的工具。"
   ],
   "metadata": {
    "collapsed": false
   }
  },
  {
   "cell_type": "markdown",
   "source": [
    "## 1 核心概念：时间和时间序列\n",
    "\n",
    "pandas 提供了丰富的处理时间的工具和类，其中最常用的有以下几种。\n",
    "\n",
    "- Timestamp：代表某一个时间点。比如用户某个购物订单下单的时间，或者某次网页点击的时间。\n",
    "- DatetimeIndex：代表一个时间点的序列，换句话说就是多个 Timestamp 构成的列表。DatetimeIndex 可以作为 Series 和 DataFrame 的索引。\n",
    "- Timedelta：单个时长。比如 2 个小时，4 分钟等都算时长，时长具有不同的单位，常见的单位有天、时、分、秒等等。本质上，时长代表两点时间点（Timestamp）的距离。\n",
    "- TimedeltaIndex：多个时长数据的序列。类似 DatetimeIndex 和 Timestamp 的关系。TimedeltaIndex 就是多个 Timedelat 组成的列表，也可以作为 Series 和 DataFrame 的索引。\n",
    "- DataOffset：时间在日历维度的偏移。比如 2018 年 2 月 1 日早上 6 点，在日历上偏移一点就是 2018 年 1 月 31 日早上 6 点。DataOffset 提供了各种方便的偏移方式，比如按照工作日偏移。星期五早上 10 点，偏移一个工作日，可以自动返回下周一早上 10 点。\n",
    "\n",
    "在使用 pandas 做时间处理的时候，最常见的场景就是：\n",
    "\n",
    "- 将来自数据源的时间描述（比如字符串或者整型）等表示，转化为 Timestamp类型；\n",
    "- 使用 Timestamp 类型来访问时间的各种属性，比如年月日、星期几等；\n",
    "- 使用 Timestamp 配合 Timedelta 来做时间相关的计算和加减等，如果是在日历维度的计算，则配合 DataOffset 一起使用；\n",
    "- 如果需要从时间的维度来筛选 DataFrame 里的记录，则需要先将时间列设置为 DatetimeIndex， 然后按照普通索引的用法通过时间来筛选。"
   ],
   "metadata": {
    "collapsed": false
   }
  },
  {
   "cell_type": "markdown",
   "source": [
    "## 2 时间数据的解析\n",
    "\n",
    "时间数据的解析本质就是将各种不同类型的时间表示都统一转换为 pandas 的 Timestamp 类型。pandas 提供了 to_datetime 方法，来将各种不同类型的时间数据转换为 Timestamp 类型。"
   ],
   "metadata": {
    "collapsed": false
   }
  },
  {
   "cell_type": "markdown",
   "source": [
    "### 解析字符串"
   ],
   "metadata": {
    "collapsed": false
   }
  },
  {
   "cell_type": "code",
   "execution_count": 1,
   "outputs": [
    {
     "name": "stdout",
     "output_type": "stream",
     "text": [
      "<class 'pandas._libs.tslibs.timestamps.Timestamp'> 2018-08-29 17:17:22\n",
      "<class 'pandas._libs.tslibs.timestamps.Timestamp'> 2018-08-29 17:17:00\n",
      "<class 'pandas._libs.tslibs.timestamps.Timestamp'> 2018-08-29 00:00:00\n",
      "<class 'pandas._libs.tslibs.timestamps.Timestamp'> 2018-08-29 00:00:00\n"
     ]
    }
   ],
   "source": [
    "import pandas as pd\n",
    "\n",
    "# 常见的日期 + 时间的表示方法\n",
    "pd_time = pd.to_datetime(\"2018-08-29 17:17:22\")\n",
    "print(type(pd_time), pd_time)\n",
    "\n",
    "# 时间简写，并用 12 小时制的表示方法\n",
    "pd_time1 = pd.to_datetime(\"2018-08-29 5:17pm\")\n",
    "print(type(pd_time1), pd_time1)\n",
    "\n",
    "# / 表示法\n",
    "pd_time2 = pd.to_datetime(\"08/29/2018\")\n",
    "print(type(pd_time2), pd_time2)\n",
    "\n",
    "# 结合英文月份的表示方法\n",
    "pd_time3 = pd.to_datetime(\"Aug 29, 2018\")\n",
    "print(type(pd_time3), pd_time3)"
   ],
   "metadata": {
    "collapsed": false
   }
  },
  {
   "cell_type": "markdown",
   "source": [
    "`to_datetime` 函数返回的是 Timestamp 类型。并且该函数默认就支持从常见的用字符串表示的时间格式中解析出 Timestamp 结构。如果我们想解析的时间字符串不是常见的类型呢？比如中文环境中，类似“2018 年 8 月 29 日”这样的表示方法还是会经常遇到的。也没有问题，`to_datetime` 支持我们自定义时间格式字符串来进行解析。在时间格式字符串中，%Y 表示年份，%m 代表月，%d 代表日。"
   ],
   "metadata": {
    "collapsed": false
   }
  },
  {
   "cell_type": "code",
   "execution_count": 2,
   "outputs": [
    {
     "name": "stdout",
     "output_type": "stream",
     "text": [
      "<class 'pandas._libs.tslibs.timestamps.Timestamp'> 2018-08-29 00:00:00\n"
     ]
    }
   ],
   "source": [
    "# 使用自定义格式字符串解析任意时间字符串\n",
    "pd_time4 = pd.to_datetime(\"2018年8月29日\", format=\"%Y年%m月%d日\")\n",
    "print(type(pd_time4), pd_time4)"
   ],
   "metadata": {
    "collapsed": false
   }
  },
  {
   "cell_type": "markdown",
   "source": [
    "### 解析整型/浮点型时间戳\n",
    "\n",
    "在很多数据系统中，时间也经常以时间戳的形式存在。时间戳一般指的是 1970 年 1 月 1 日到某个时间点的秒数。比如一个特定的时间点：北京时间的 2021-05-09 21:06:44， 对应的时间戳就是：1620565604，代表从 1970 年 1 月 1 日零时零分零秒到 2021 年 5 月 29 日下午 9 点 6 分 44 秒一共有 1620565604 秒。"
   ],
   "metadata": {
    "collapsed": false
   }
  },
  {
   "cell_type": "code",
   "execution_count": 3,
   "outputs": [
    {
     "name": "stdout",
     "output_type": "stream",
     "text": [
      "<class 'pandas._libs.tslibs.timestamps.Timestamp'> 2021-05-09 13:06:44\n"
     ]
    }
   ],
   "source": [
    "# to_datetime 同样支持直接将时间戳转换为 Timestamp 类型，用法如下：\n",
    "time_value = 1620565604\n",
    "pd_time5 = pd.to_datetime(time_value, unit=\"s\")\n",
    "print(type(pd_time5), pd_time5)"
   ],
   "metadata": {
    "collapsed": false
   }
  },
  {
   "cell_type": "markdown",
   "source": [
    "上面的输出可以看出，Timestamp 对象已经正确构建，但是为什么是 13 点 06 分，而不是刚才的 21 点 06 分？ 原因是通过 `to_datetime` 默认是格林威治时间，也就是零时区，落后北京时间 8 小时。如果算上 8 小时的偏移，13+8 就正好是 21 点 06 分了。如果我们希望在构造 Timestamp 对象时就指定时区，可以调用 `tz_localize` 指定。"
   ],
   "metadata": {
    "collapsed": false
   }
  },
  {
   "cell_type": "code",
   "execution_count": 4,
   "outputs": [
    {
     "name": "stdout",
     "output_type": "stream",
     "text": [
      "<class 'pandas._libs.tslibs.timestamps.Timestamp'> 2021-05-09 13:06:44+08:00\n"
     ]
    }
   ],
   "source": [
    "# 转换时间戳并指定时区\n",
    "pd_time6 = pd.to_datetime(time_value, unit=\"s\").tz_localize(\"Asia/Shanghai\")\n",
    "print(type(pd_time6), pd_time6)"
   ],
   "metadata": {
    "collapsed": false
   }
  },
  {
   "cell_type": "markdown",
   "source": [
    "### 直接构造 Timestamp 对象"
   ],
   "metadata": {
    "collapsed": false
   }
  },
  {
   "cell_type": "code",
   "execution_count": 6,
   "outputs": [
    {
     "name": "stdout",
     "output_type": "stream",
     "text": [
      "<class 'pandas._libs.tslibs.timestamps.Timestamp'> 2018-08-29 21:00:00\n",
      "<class 'pandas._libs.tslibs.timestamps.Timestamp'> 2023-03-25 11:49:08.885474\n"
     ]
    }
   ],
   "source": [
    "# 通过单独指定年月日等信息来创建 Timestamp 对象\n",
    "pd_time7 = pd.Timestamp(year=2018, month=8, day=29, hour=21)\n",
    "print(type(pd_time7), pd_time7)\n",
    "\n",
    "# 获取当前的时间\n",
    "pd_time8 = pd.Timestamp(\"now\")\n",
    "print(type(pd_time8), pd_time8)"
   ],
   "metadata": {
    "collapsed": false
   }
  },
  {
   "cell_type": "markdown",
   "source": [
    "### 时间属性的提取\n",
    "\n",
    "通过 Timestamp 对象提供的方法来轻松获取各种时间的属性。"
   ],
   "metadata": {
    "collapsed": false
   }
  },
  {
   "cell_type": "code",
   "execution_count": 7,
   "outputs": [
    {
     "name": "stdout",
     "output_type": "stream",
     "text": [
      "当前时间对象： 2023-03-25 11:49:08.885474\n",
      "星期几，星期一为0： 5\n",
      "星期几，字符串表示： Saturday\n",
      "一年中的第几天： 84\n",
      "这个月的有几天： 31\n",
      "今年是否是闰年 False\n",
      "当前日期是否是本月最后一天 False\n",
      "当前日期是否是本月第一天 False\n",
      "当前日期是否是本季度最后一天 False\n",
      "当前日期是否是本季第一天 False\n",
      "当前日期是否是本年度最后一天 False\n",
      "当前日期是否是本年度第一天 False\n",
      "当前第几季度： 1\n",
      "当前的时区： None\n",
      "本年第几周： 12\n",
      "年： 2023\n",
      "月： 3\n",
      "日： 25\n",
      "小时： 11\n",
      "分钟： 49\n",
      "秒： 8\n"
     ]
    }
   ],
   "source": [
    "print(\"当前时间对象：\", pd_time8)\n",
    "print(\"星期几，星期一为0：\", pd_time8.dayofweek)\n",
    "print(\"星期几，字符串表示：\", pd_time8.day_name())\n",
    "print(\"一年中的第几天：\", pd_time8.dayofyear)\n",
    "print(\"这个月的有几天：\", pd_time8.daysinmonth)\n",
    "print(\"今年是否是闰年\", pd_time8.is_leap_year)\n",
    "print(\"当前日期是否是本月最后一天\", pd_time8.is_month_end)\n",
    "print(\"当前日期是否是本月第一天\", pd_time8.is_month_start)\n",
    "print(\"当前日期是否是本季度最后一天\", pd_time8.is_quarter_end)\n",
    "print(\"当前日期是否是本季第一天\", pd_time8.is_quarter_start)\n",
    "print(\"当前日期是否是本年度最后一天\", pd_time8.is_year_end)\n",
    "print(\"当前日期是否是本年度第一天\", pd_time8.is_year_start)\n",
    "print(\"当前第几季度：\", pd_time8.quarter)\n",
    "print(\"当前的时区：\", pd_time8.tz)\n",
    "print(\"本年第几周：\", pd_time8.week)\n",
    "print(\"年：\", pd_time8.year)\n",
    "print(\"月：\", pd_time8.month)\n",
    "print(\"日：\", pd_time8.day)\n",
    "print(\"小时：\", pd_time8.hour)\n",
    "print(\"分钟：\", pd_time8.minute)\n",
    "print(\"秒：\", pd_time8.second)"
   ],
   "metadata": {
    "collapsed": false
   }
  },
  {
   "cell_type": "markdown",
   "source": [
    "## 3 时间数据的计算\n",
    "\n",
    "pandas 中，时间数据的计算值的是时间数据的加减，比如在一个时间点上增加几小时、几分钟、或者几天，几个月来得到加了之后的时间。因为时间并不像数字运算一样简单，而是有很多潜在的规则在里面，比如一分钟 60 秒，一小时 60 分钟，一天 24 小时，一个月可能有 28 天，也可能有 30、31 天，等等，如果我们手写计算逻辑将会非常复杂。\n",
    "\n",
    "pandas 提供了一套强大的时间计算机制来让我们不用关心背后的规则就能完成时间的计算。pandas 的时间计算是通过 Timestamp 对象和 Timedelta 对象混合运算来实现。Timedelta 可以理解成一个时间段，或者说，时间长度。最常见的运算有以下两种类型：\n",
    "\n",
    "- 两个 Timestamp 对象相减，可以得到一个 Timedetla 对象；\n",
    "- 一个 Timestamp 对象 加上或者减去一个 Timedelta 对象，可以获得一个新的 Timestamp 对象。\n",
    "\n",
    "所以要实现时间的运算，我们首先要创建 Timedelta 对象。"
   ],
   "metadata": {
    "collapsed": false
   }
  },
  {
   "cell_type": "markdown",
   "source": [
    "### Timedelta 对象的创建"
   ],
   "metadata": {
    "collapsed": false
   }
  },
  {
   "cell_type": "code",
   "execution_count": 8,
   "outputs": [
    {
     "name": "stdout",
     "output_type": "stream",
     "text": [
      "<class 'pandas._libs.tslibs.timestamps.Timestamp'> 2018-08-29 21:00:00\n",
      "<class 'pandas._libs.tslibs.timestamps.Timestamp'> 2023-03-25 11:52:40.269240\n",
      "1天半： 1 days 12:00:00\n",
      "十天零九小时： 10 days 09:00:00\n",
      "两周零三天： 17 days 00:00:00\n",
      "6小时30分钟12秒： 0 days 06:30:12\n"
     ]
    },
    {
     "name": "stderr",
     "output_type": "stream",
     "text": [
      "C:\\Users\\lenovo\\AppData\\Local\\Temp\\ipykernel_12352\\3908503858.py:18: FutureWarning: Units 'M', 'Y' and 'y' do not represent unambiguous timedelta values and will be removed in a future version.\n",
      "  delta7 = pd.Timedelta(\"6H30M12S\")\n"
     ]
    }
   ],
   "source": [
    "# 从字符串来创建\n",
    "# 通过单独指定年月日等信息来创建 Timestamp 对象\n",
    "pd_time7 = pd.Timestamp(year=2018, month=8, day=29, hour=21)\n",
    "print(type(pd_time7), pd_time7)\n",
    "\n",
    "# 获取当前的时间\n",
    "pd_time8 = pd.Timestamp(\"now\")\n",
    "print(type(pd_time8), pd_time8)\n",
    "\n",
    "# 从单元时间创建\n",
    "delta4 = pd.Timedelta(days=1.5)\n",
    "print(\"1天半：\", delta4)\n",
    "delta5 = pd.Timedelta(days=10, hours=9)\n",
    "print(\"十天零九小时：\", delta5)\n",
    "\n",
    "# 从时间缩写创建：W：代表周、星期；D：代表天；H：代表小时；M：代表分钟；S：代表秒\n",
    "delta6 = pd.Timedelta(\"2W3D\")\n",
    "print(\"两周零三天：\", delta6)\n",
    "delta7 = pd.Timedelta(\"6H30M12S\")\n",
    "print(\"6小时30分钟12秒：\", delta7)"
   ],
   "metadata": {
    "collapsed": false
   }
  },
  {
   "cell_type": "markdown",
   "source": [
    "### 执行时间的计算"
   ],
   "metadata": {
    "collapsed": false
   }
  },
  {
   "cell_type": "code",
   "execution_count": 10,
   "outputs": [
    {
     "name": "stdout",
     "output_type": "stream",
     "text": [
      "当前时间： 2023-03-25 11:57:37.506789\n",
      "两周前： 2023-03-11 11:57:37.506789\n",
      "30天零7小时之后的时间： 2023-04-24 18:57:37.506789\n",
      "距离去年国庆已经过了： 905 days 03:57:37.506789\n"
     ]
    }
   ],
   "source": [
    "# 获得当前的时间\n",
    "current_time = pd.Timestamp(\"now\")\n",
    "print(\"当前时间：\", current_time)\n",
    "\n",
    "# 获得当前时间减去两周的时间\n",
    "two_week_ago = current_time - pd.Timedelta(\"2W\")\n",
    "print(\"两周前：\", two_week_ago)\n",
    "\n",
    "# 获得当前时间30天零7小时之后的时间\n",
    "future_time = current_time + pd.Timedelta(\"30D7H\")\n",
    "print(\"30天零7小时之后的时间：\", future_time)\n",
    "\n",
    "# 除了计算 Timedelta 和 Timestamp 外，两个 Timestamp 也能相减，得出一个时长（也就是 Timedelta）。\n",
    "\n",
    "# 创建去年国庆节上午八点的时间\n",
    "national_day = pd.to_datetime(\"2020-10-01 08:00:00\")\n",
    "# 计算当前时间和国庆时间的 Timedelta\n",
    "delta8 = current_time - national_day\n",
    "print(\"距离去年国庆已经过了：\", delta8)"
   ],
   "metadata": {
    "collapsed": false
   }
  },
  {
   "cell_type": "markdown",
   "source": [
    "## 4 时间数据作为索引\n",
    "\n",
    "除了两个时间点的各种操作之外， pandas 还支持将时间数据作为索引，这样就能够支持各种时间维度的选择。而且为什么这个特性非常重要。\n",
    "\n",
    "参考下面示例："
   ],
   "metadata": {
    "collapsed": false
   }
  },
  {
   "cell_type": "code",
   "execution_count": 11,
   "outputs": [
    {
     "data": {
      "text/plain": "     user_id  item_id  cat_id  seller_id  brand_id  action_type  \\\n0     328862   323294     833       2882    2661.0            0   \n1     328862   623866    1271       2882    2661.0            0   \n2     328862   239288     602        420    4953.0            0   \n3     328862   197239     602        420    4953.0            0   \n4     328862   524981     664       2382    1272.0            0   \n..       ...      ...     ...        ...       ...          ...   \n995   219316   950987     662       4044      82.0            0   \n996   219316   103338    1142       4509    4365.0            0   \n997   219316  1002315    1142       4509    4365.0            0   \n998   219316   840951    1142       4509    4365.0            0   \n999   219316   868089     384        606     376.0            0   \n\n                              time  \n0    2018-08-29 17:17:22.300959410  \n1    2018-08-29 20:59:58.841378430  \n2    2018-08-01 19:20:06.479644547  \n3    2018-08-01 17:25:58.912202131  \n4    2018-06-02 11:00:51.123221777  \n..                             ...  \n995  2018-11-08 11:10:13.586269568  \n996  2018-11-08 19:10:55.214335543  \n997  2018-11-08 16:54:37.687285776  \n998  2018-11-08 17:46:17.253211617  \n999  2018-06-26 20:38:07.950590072  \n\n[1000 rows x 7 columns]",
      "text/html": "<div>\n<style scoped>\n    .dataframe tbody tr th:only-of-type {\n        vertical-align: middle;\n    }\n\n    .dataframe tbody tr th {\n        vertical-align: top;\n    }\n\n    .dataframe thead th {\n        text-align: right;\n    }\n</style>\n<table border=\"1\" class=\"dataframe\">\n  <thead>\n    <tr style=\"text-align: right;\">\n      <th></th>\n      <th>user_id</th>\n      <th>item_id</th>\n      <th>cat_id</th>\n      <th>seller_id</th>\n      <th>brand_id</th>\n      <th>action_type</th>\n      <th>time</th>\n    </tr>\n  </thead>\n  <tbody>\n    <tr>\n      <th>0</th>\n      <td>328862</td>\n      <td>323294</td>\n      <td>833</td>\n      <td>2882</td>\n      <td>2661.0</td>\n      <td>0</td>\n      <td>2018-08-29 17:17:22.300959410</td>\n    </tr>\n    <tr>\n      <th>1</th>\n      <td>328862</td>\n      <td>623866</td>\n      <td>1271</td>\n      <td>2882</td>\n      <td>2661.0</td>\n      <td>0</td>\n      <td>2018-08-29 20:59:58.841378430</td>\n    </tr>\n    <tr>\n      <th>2</th>\n      <td>328862</td>\n      <td>239288</td>\n      <td>602</td>\n      <td>420</td>\n      <td>4953.0</td>\n      <td>0</td>\n      <td>2018-08-01 19:20:06.479644547</td>\n    </tr>\n    <tr>\n      <th>3</th>\n      <td>328862</td>\n      <td>197239</td>\n      <td>602</td>\n      <td>420</td>\n      <td>4953.0</td>\n      <td>0</td>\n      <td>2018-08-01 17:25:58.912202131</td>\n    </tr>\n    <tr>\n      <th>4</th>\n      <td>328862</td>\n      <td>524981</td>\n      <td>664</td>\n      <td>2382</td>\n      <td>1272.0</td>\n      <td>0</td>\n      <td>2018-06-02 11:00:51.123221777</td>\n    </tr>\n    <tr>\n      <th>...</th>\n      <td>...</td>\n      <td>...</td>\n      <td>...</td>\n      <td>...</td>\n      <td>...</td>\n      <td>...</td>\n      <td>...</td>\n    </tr>\n    <tr>\n      <th>995</th>\n      <td>219316</td>\n      <td>950987</td>\n      <td>662</td>\n      <td>4044</td>\n      <td>82.0</td>\n      <td>0</td>\n      <td>2018-11-08 11:10:13.586269568</td>\n    </tr>\n    <tr>\n      <th>996</th>\n      <td>219316</td>\n      <td>103338</td>\n      <td>1142</td>\n      <td>4509</td>\n      <td>4365.0</td>\n      <td>0</td>\n      <td>2018-11-08 19:10:55.214335543</td>\n    </tr>\n    <tr>\n      <th>997</th>\n      <td>219316</td>\n      <td>1002315</td>\n      <td>1142</td>\n      <td>4509</td>\n      <td>4365.0</td>\n      <td>0</td>\n      <td>2018-11-08 16:54:37.687285776</td>\n    </tr>\n    <tr>\n      <th>998</th>\n      <td>219316</td>\n      <td>840951</td>\n      <td>1142</td>\n      <td>4509</td>\n      <td>4365.0</td>\n      <td>0</td>\n      <td>2018-11-08 17:46:17.253211617</td>\n    </tr>\n    <tr>\n      <th>999</th>\n      <td>219316</td>\n      <td>868089</td>\n      <td>384</td>\n      <td>606</td>\n      <td>376.0</td>\n      <td>0</td>\n      <td>2018-06-26 20:38:07.950590072</td>\n    </tr>\n  </tbody>\n</table>\n<p>1000 rows × 7 columns</p>\n</div>"
     },
     "execution_count": 11,
     "metadata": {},
     "output_type": "execute_result"
    }
   ],
   "source": [
    "df_log = pd.read_csv(\"order_record.csv\")\n",
    "df_log"
   ],
   "metadata": {
    "collapsed": false
   }
  },
  {
   "cell_type": "markdown",
   "source": [
    "上面是一个电商网站用户购买的记录数据，一共有一千条内容。从最后一列时间列来看，时间跨度在 2018 年 6 月到 11 月都有。如果我们希望能够方便地进行时间维度的分析，比如查看 9 月 1 日到 9 月 15 日的记录，或者 8 月到 9 月的记录。那可以考虑将 time 一列转化为 DatetimeIndex。这样我们就能够直接对时间进行索引。"
   ],
   "metadata": {
    "collapsed": false
   }
  },
  {
   "cell_type": "markdown",
   "source": [
    "### 设置 DatetimeIndex\n",
    "\n",
    "将字符串的时间一列转化为 DatetimeIndex， 一般分为两步：\n",
    "\n",
    "1. 第一步首先将时间一列转化为 Timestamp 对象。\n",
    "2. 第二步就是将新的 time 这一列设置成索引。"
   ],
   "metadata": {
    "collapsed": false
   }
  },
  {
   "cell_type": "code",
   "execution_count": 12,
   "outputs": [
    {
     "data": {
      "text/plain": "0     2018-08-29 17:17:22.300959410\n1     2018-08-29 20:59:58.841378430\n2     2018-08-01 19:20:06.479644547\n3     2018-08-01 17:25:58.912202131\n4     2018-06-02 11:00:51.123221777\n                   ...             \n995   2018-11-08 11:10:13.586269568\n996   2018-11-08 19:10:55.214335543\n997   2018-11-08 16:54:37.687285776\n998   2018-11-08 17:46:17.253211617\n999   2018-06-26 20:38:07.950590072\nName: time, Length: 1000, dtype: datetime64[ns]"
     },
     "execution_count": 12,
     "metadata": {},
     "output_type": "execute_result"
    }
   ],
   "source": [
    "# 将 time 列转化为 Timestamp对象\n",
    "df_log[\"time\"] = pd.to_datetime(df_log[\"time\"])\n",
    "# 查看 time 列\n",
    "df_log[\"time\"]"
   ],
   "metadata": {
    "collapsed": false
   }
  },
  {
   "cell_type": "code",
   "execution_count": 13,
   "outputs": [
    {
     "data": {
      "text/plain": "                               user_id  item_id  cat_id  seller_id  brand_id  \\\ntime                                                                           \n2018-08-29 17:17:22.300959410   328862   323294     833       2882    2661.0   \n2018-08-29 20:59:58.841378430   328862   623866    1271       2882    2661.0   \n2018-08-01 19:20:06.479644547   328862   239288     602        420    4953.0   \n2018-08-01 17:25:58.912202131   328862   197239     602        420    4953.0   \n2018-06-02 11:00:51.123221777   328862   524981     664       2382    1272.0   \n...                                ...      ...     ...        ...       ...   \n2018-11-08 11:10:13.586269568   219316   950987     662       4044      82.0   \n2018-11-08 19:10:55.214335543   219316   103338    1142       4509    4365.0   \n2018-11-08 16:54:37.687285776   219316  1002315    1142       4509    4365.0   \n2018-11-08 17:46:17.253211617   219316   840951    1142       4509    4365.0   \n2018-06-26 20:38:07.950590072   219316   868089     384        606     376.0   \n\n                               action_type  \ntime                                        \n2018-08-29 17:17:22.300959410            0  \n2018-08-29 20:59:58.841378430            0  \n2018-08-01 19:20:06.479644547            0  \n2018-08-01 17:25:58.912202131            0  \n2018-06-02 11:00:51.123221777            0  \n...                                    ...  \n2018-11-08 11:10:13.586269568            0  \n2018-11-08 19:10:55.214335543            0  \n2018-11-08 16:54:37.687285776            0  \n2018-11-08 17:46:17.253211617            0  \n2018-06-26 20:38:07.950590072            0  \n\n[1000 rows x 6 columns]",
      "text/html": "<div>\n<style scoped>\n    .dataframe tbody tr th:only-of-type {\n        vertical-align: middle;\n    }\n\n    .dataframe tbody tr th {\n        vertical-align: top;\n    }\n\n    .dataframe thead th {\n        text-align: right;\n    }\n</style>\n<table border=\"1\" class=\"dataframe\">\n  <thead>\n    <tr style=\"text-align: right;\">\n      <th></th>\n      <th>user_id</th>\n      <th>item_id</th>\n      <th>cat_id</th>\n      <th>seller_id</th>\n      <th>brand_id</th>\n      <th>action_type</th>\n    </tr>\n    <tr>\n      <th>time</th>\n      <th></th>\n      <th></th>\n      <th></th>\n      <th></th>\n      <th></th>\n      <th></th>\n    </tr>\n  </thead>\n  <tbody>\n    <tr>\n      <th>2018-08-29 17:17:22.300959410</th>\n      <td>328862</td>\n      <td>323294</td>\n      <td>833</td>\n      <td>2882</td>\n      <td>2661.0</td>\n      <td>0</td>\n    </tr>\n    <tr>\n      <th>2018-08-29 20:59:58.841378430</th>\n      <td>328862</td>\n      <td>623866</td>\n      <td>1271</td>\n      <td>2882</td>\n      <td>2661.0</td>\n      <td>0</td>\n    </tr>\n    <tr>\n      <th>2018-08-01 19:20:06.479644547</th>\n      <td>328862</td>\n      <td>239288</td>\n      <td>602</td>\n      <td>420</td>\n      <td>4953.0</td>\n      <td>0</td>\n    </tr>\n    <tr>\n      <th>2018-08-01 17:25:58.912202131</th>\n      <td>328862</td>\n      <td>197239</td>\n      <td>602</td>\n      <td>420</td>\n      <td>4953.0</td>\n      <td>0</td>\n    </tr>\n    <tr>\n      <th>2018-06-02 11:00:51.123221777</th>\n      <td>328862</td>\n      <td>524981</td>\n      <td>664</td>\n      <td>2382</td>\n      <td>1272.0</td>\n      <td>0</td>\n    </tr>\n    <tr>\n      <th>...</th>\n      <td>...</td>\n      <td>...</td>\n      <td>...</td>\n      <td>...</td>\n      <td>...</td>\n      <td>...</td>\n    </tr>\n    <tr>\n      <th>2018-11-08 11:10:13.586269568</th>\n      <td>219316</td>\n      <td>950987</td>\n      <td>662</td>\n      <td>4044</td>\n      <td>82.0</td>\n      <td>0</td>\n    </tr>\n    <tr>\n      <th>2018-11-08 19:10:55.214335543</th>\n      <td>219316</td>\n      <td>103338</td>\n      <td>1142</td>\n      <td>4509</td>\n      <td>4365.0</td>\n      <td>0</td>\n    </tr>\n    <tr>\n      <th>2018-11-08 16:54:37.687285776</th>\n      <td>219316</td>\n      <td>1002315</td>\n      <td>1142</td>\n      <td>4509</td>\n      <td>4365.0</td>\n      <td>0</td>\n    </tr>\n    <tr>\n      <th>2018-11-08 17:46:17.253211617</th>\n      <td>219316</td>\n      <td>840951</td>\n      <td>1142</td>\n      <td>4509</td>\n      <td>4365.0</td>\n      <td>0</td>\n    </tr>\n    <tr>\n      <th>2018-06-26 20:38:07.950590072</th>\n      <td>219316</td>\n      <td>868089</td>\n      <td>384</td>\n      <td>606</td>\n      <td>376.0</td>\n      <td>0</td>\n    </tr>\n  </tbody>\n</table>\n<p>1000 rows × 6 columns</p>\n</div>"
     },
     "execution_count": 13,
     "metadata": {},
     "output_type": "execute_result"
    }
   ],
   "source": [
    "df_log.set_index(\"time\", inplace=True)\n",
    "df_log"
   ],
   "metadata": {
    "collapsed": false
   }
  },
  {
   "cell_type": "markdown",
   "source": [
    "可以看到，现在时间列已经替代了之前默认的数字序号，成为 DataFrame 新的行索引。现在我们可以查看一下 DataFrame 的索引类型。"
   ],
   "metadata": {
    "collapsed": false
   }
  },
  {
   "cell_type": "code",
   "execution_count": 14,
   "outputs": [
    {
     "data": {
      "text/plain": "DatetimeIndex(['2018-08-29 17:17:22.300959410',\n               '2018-08-29 20:59:58.841378430',\n               '2018-08-01 19:20:06.479644547',\n               '2018-08-01 17:25:58.912202131',\n               '2018-06-02 11:00:51.123221777',\n               '2018-08-05 20:05:11.133293715',\n               '2018-05-26 19:28:14.277231067',\n               '2018-08-01 09:27:13.308466863',\n               '2018-08-01 20:10:49.750381298',\n               '2018-08-29 10:32:02.810711209',\n               ...\n               '2018-06-26 05:38:10.665002733',\n               '2018-11-08 20:14:24.095278801',\n               '2018-06-26 11:58:05.882424965',\n               '2018-06-26 14:51:20.324176599',\n               '2018-11-08 10:23:33.481605756',\n               '2018-11-08 11:10:13.586269568',\n               '2018-11-08 19:10:55.214335543',\n               '2018-11-08 16:54:37.687285776',\n               '2018-11-08 17:46:17.253211617',\n               '2018-06-26 20:38:07.950590072'],\n              dtype='datetime64[ns]', name='time', length=1000, freq=None)"
     },
     "execution_count": 14,
     "metadata": {},
     "output_type": "execute_result"
    }
   ],
   "source": [
    "df_log.index"
   ],
   "metadata": {
    "collapsed": false
   }
  },
  {
   "cell_type": "markdown",
   "source": [
    "### 基于时间筛选和过滤数据\n",
    "\n",
    "在设置完 DatetimeIndex 之后，那么根据时间维度筛选就小菜一碟了。我们直接可以使用之前学习的 loc 索引器， 然后在行索引部分以字符串的形式写时间范围（开始时间和结束时间之间以冒号链接），具体用法见代码："
   ],
   "metadata": {
    "collapsed": false
   }
  },
  {
   "cell_type": "code",
   "execution_count": 15,
   "outputs": [
    {
     "name": "stderr",
     "output_type": "stream",
     "text": [
      "C:\\Users\\lenovo\\AppData\\Local\\Temp\\ipykernel_12352\\1705797920.py:2: FutureWarning: Value based partial slicing on non-monotonic DatetimeIndexes with non-existing keys is deprecated and will raise a KeyError in a future Version.\n",
      "  df_log.loc[\"2018-09-01\" : \"2018-09-15\",:]\n"
     ]
    },
    {
     "data": {
      "text/plain": "                               user_id  item_id  cat_id  seller_id  brand_id  \\\ntime                                                                           \n2018-09-08 12:44:02.636418481   328862   267067    1208       1200    2276.0   \n2018-09-06 19:41:35.691989108   328862   267067    1208       1200    2276.0   \n2018-09-05 19:13:23.634243950   356311   819981    1431       4707    1176.0   \n2018-09-11 23:43:22.551200163   186568   853621    1362       1831    7521.0   \n2018-09-11 08:42:47.042776673   186568   853621    1362       1831    7521.0   \n2018-09-15 12:29:07.155490692   149002   437598     407        215    3969.0   \n2018-09-12 18:06:58.537975007     2859     1599     180       1679    7931.0   \n2018-09-13 06:38:29.162168837     2859   720990     812       1849    5577.0   \n2018-09-09 07:13:09.197878294     2859     1599     180       1679    7931.0   \n2018-09-04 02:13:43.568810605   153790   215089    1174       2677    1579.0   \n2018-09-07 19:00:52.982985323   366342   934017    1357       3144    4026.0   \n2018-09-12 22:12:32.981659694   171799   259995    1349        802    4279.0   \n2018-09-12 13:23:46.897866161   171799   259995    1349        802    4279.0   \n2018-09-09 09:58:18.810760832   106629   764470    1661       2537    6066.0   \n2018-09-11 08:57:56.722017843   109881   108933    1438       4695     277.0   \n2018-09-09 13:08:49.911314005   109881   179830    1208        546    2276.0   \n2018-09-11 15:44:57.955692133   300681   515405    1174       1344    2003.0   \n2018-09-02 19:03:10.361985443   300681   384041    1648       3454    3725.0   \n2018-09-14 13:10:34.757124343   300681   149045     154        373    4743.0   \n2018-09-14 21:03:28.716640205   300681   469320     812       2639    7063.0   \n2018-09-14 03:11:34.483138000   300681   917709     154        373    4743.0   \n2018-09-02 23:39:59.508904177    62392   846956    1389       1393    4705.0   \n2018-09-05 17:26:57.943691397   409280    41776    1213       1707    6896.0   \n2018-09-05 23:37:15.194639128   409280   397593     177       2715    5517.0   \n2018-09-05 16:17:32.464148177   409280   752913     407       1751    2507.0   \n2018-09-05 11:37:38.286944083   409280   536459    1213       1707    6896.0   \n2018-09-05 19:13:44.824086874   409280   800924    1213       1751    2507.0   \n2018-09-05 15:17:02.159296024   409280   170113    1213       1751    2507.0   \n2018-09-11 10:42:17.629797363   401805   309859    1413       1805    6374.0   \n2018-09-11 23:37:01.578122271   401805   840467    1470       1805    1866.0   \n2018-09-08 21:08:19.655710271   401805   930737    1174       4467    2840.0   \n2018-09-06 14:55:12.300207246   401805  1070421     629       1617    4073.0   \n2018-09-11 12:39:35.916591734   142526   381465     138       2010    1805.0   \n2018-09-04 22:45:33.028955016   142526  1073193     602       1244    1128.0   \n2018-09-04 01:41:50.051737176   142526   244821    1653       1167    7211.0   \n2018-09-13 15:48:14.292223608   198759   815072    1028       1986    2158.0   \n2018-09-12 23:08:46.679913027   190674   523962    1467        759     338.0   \n2018-09-11 22:32:58.285910388   206021   909550    1566       1056    1439.0   \n2018-09-11 08:24:54.254330314   206021   333601    1520       1056    1439.0   \n2018-09-11 19:45:17.550181179   206021  1061960    1520       1056    1439.0   \n2018-09-06 20:14:54.160026401   277052   152455    1553       3315    1605.0   \n2018-09-13 20:09:40.014894914   277052   681239     821       2884    7239.0   \n2018-09-06 05:39:16.514268483   333065   102518     662       1704    5581.0   \n2018-09-06 20:49:40.310362371   333065   102518     662       1704    5581.0   \n\n                               action_type  \ntime                                        \n2018-09-08 12:44:02.636418481            0  \n2018-09-06 19:41:35.691989108            0  \n2018-09-05 19:13:23.634243950            0  \n2018-09-11 23:43:22.551200163            0  \n2018-09-11 08:42:47.042776673            0  \n2018-09-15 12:29:07.155490692            2  \n2018-09-12 18:06:58.537975007            0  \n2018-09-13 06:38:29.162168837            2  \n2018-09-09 07:13:09.197878294            0  \n2018-09-04 02:13:43.568810605            0  \n2018-09-07 19:00:52.982985323            0  \n2018-09-12 22:12:32.981659694            0  \n2018-09-12 13:23:46.897866161            0  \n2018-09-09 09:58:18.810760832            0  \n2018-09-11 08:57:56.722017843            0  \n2018-09-09 13:08:49.911314005            0  \n2018-09-11 15:44:57.955692133            0  \n2018-09-02 19:03:10.361985443            3  \n2018-09-14 13:10:34.757124343            3  \n2018-09-14 21:03:28.716640205            3  \n2018-09-14 03:11:34.483138000            0  \n2018-09-02 23:39:59.508904177            0  \n2018-09-05 17:26:57.943691397            0  \n2018-09-05 23:37:15.194639128            0  \n2018-09-05 16:17:32.464148177            0  \n2018-09-05 11:37:38.286944083            0  \n2018-09-05 19:13:44.824086874            0  \n2018-09-05 15:17:02.159296024            0  \n2018-09-11 10:42:17.629797363            0  \n2018-09-11 23:37:01.578122271            2  \n2018-09-08 21:08:19.655710271            0  \n2018-09-06 14:55:12.300207246            0  \n2018-09-11 12:39:35.916591734            0  \n2018-09-04 22:45:33.028955016            0  \n2018-09-04 01:41:50.051737176            0  \n2018-09-13 15:48:14.292223608            0  \n2018-09-12 23:08:46.679913027            0  \n2018-09-11 22:32:58.285910388            0  \n2018-09-11 08:24:54.254330314            0  \n2018-09-11 19:45:17.550181179            0  \n2018-09-06 20:14:54.160026401            3  \n2018-09-13 20:09:40.014894914            0  \n2018-09-06 05:39:16.514268483            0  \n2018-09-06 20:49:40.310362371            0  ",
      "text/html": "<div>\n<style scoped>\n    .dataframe tbody tr th:only-of-type {\n        vertical-align: middle;\n    }\n\n    .dataframe tbody tr th {\n        vertical-align: top;\n    }\n\n    .dataframe thead th {\n        text-align: right;\n    }\n</style>\n<table border=\"1\" class=\"dataframe\">\n  <thead>\n    <tr style=\"text-align: right;\">\n      <th></th>\n      <th>user_id</th>\n      <th>item_id</th>\n      <th>cat_id</th>\n      <th>seller_id</th>\n      <th>brand_id</th>\n      <th>action_type</th>\n    </tr>\n    <tr>\n      <th>time</th>\n      <th></th>\n      <th></th>\n      <th></th>\n      <th></th>\n      <th></th>\n      <th></th>\n    </tr>\n  </thead>\n  <tbody>\n    <tr>\n      <th>2018-09-08 12:44:02.636418481</th>\n      <td>328862</td>\n      <td>267067</td>\n      <td>1208</td>\n      <td>1200</td>\n      <td>2276.0</td>\n      <td>0</td>\n    </tr>\n    <tr>\n      <th>2018-09-06 19:41:35.691989108</th>\n      <td>328862</td>\n      <td>267067</td>\n      <td>1208</td>\n      <td>1200</td>\n      <td>2276.0</td>\n      <td>0</td>\n    </tr>\n    <tr>\n      <th>2018-09-05 19:13:23.634243950</th>\n      <td>356311</td>\n      <td>819981</td>\n      <td>1431</td>\n      <td>4707</td>\n      <td>1176.0</td>\n      <td>0</td>\n    </tr>\n    <tr>\n      <th>2018-09-11 23:43:22.551200163</th>\n      <td>186568</td>\n      <td>853621</td>\n      <td>1362</td>\n      <td>1831</td>\n      <td>7521.0</td>\n      <td>0</td>\n    </tr>\n    <tr>\n      <th>2018-09-11 08:42:47.042776673</th>\n      <td>186568</td>\n      <td>853621</td>\n      <td>1362</td>\n      <td>1831</td>\n      <td>7521.0</td>\n      <td>0</td>\n    </tr>\n    <tr>\n      <th>2018-09-15 12:29:07.155490692</th>\n      <td>149002</td>\n      <td>437598</td>\n      <td>407</td>\n      <td>215</td>\n      <td>3969.0</td>\n      <td>2</td>\n    </tr>\n    <tr>\n      <th>2018-09-12 18:06:58.537975007</th>\n      <td>2859</td>\n      <td>1599</td>\n      <td>180</td>\n      <td>1679</td>\n      <td>7931.0</td>\n      <td>0</td>\n    </tr>\n    <tr>\n      <th>2018-09-13 06:38:29.162168837</th>\n      <td>2859</td>\n      <td>720990</td>\n      <td>812</td>\n      <td>1849</td>\n      <td>5577.0</td>\n      <td>2</td>\n    </tr>\n    <tr>\n      <th>2018-09-09 07:13:09.197878294</th>\n      <td>2859</td>\n      <td>1599</td>\n      <td>180</td>\n      <td>1679</td>\n      <td>7931.0</td>\n      <td>0</td>\n    </tr>\n    <tr>\n      <th>2018-09-04 02:13:43.568810605</th>\n      <td>153790</td>\n      <td>215089</td>\n      <td>1174</td>\n      <td>2677</td>\n      <td>1579.0</td>\n      <td>0</td>\n    </tr>\n    <tr>\n      <th>2018-09-07 19:00:52.982985323</th>\n      <td>366342</td>\n      <td>934017</td>\n      <td>1357</td>\n      <td>3144</td>\n      <td>4026.0</td>\n      <td>0</td>\n    </tr>\n    <tr>\n      <th>2018-09-12 22:12:32.981659694</th>\n      <td>171799</td>\n      <td>259995</td>\n      <td>1349</td>\n      <td>802</td>\n      <td>4279.0</td>\n      <td>0</td>\n    </tr>\n    <tr>\n      <th>2018-09-12 13:23:46.897866161</th>\n      <td>171799</td>\n      <td>259995</td>\n      <td>1349</td>\n      <td>802</td>\n      <td>4279.0</td>\n      <td>0</td>\n    </tr>\n    <tr>\n      <th>2018-09-09 09:58:18.810760832</th>\n      <td>106629</td>\n      <td>764470</td>\n      <td>1661</td>\n      <td>2537</td>\n      <td>6066.0</td>\n      <td>0</td>\n    </tr>\n    <tr>\n      <th>2018-09-11 08:57:56.722017843</th>\n      <td>109881</td>\n      <td>108933</td>\n      <td>1438</td>\n      <td>4695</td>\n      <td>277.0</td>\n      <td>0</td>\n    </tr>\n    <tr>\n      <th>2018-09-09 13:08:49.911314005</th>\n      <td>109881</td>\n      <td>179830</td>\n      <td>1208</td>\n      <td>546</td>\n      <td>2276.0</td>\n      <td>0</td>\n    </tr>\n    <tr>\n      <th>2018-09-11 15:44:57.955692133</th>\n      <td>300681</td>\n      <td>515405</td>\n      <td>1174</td>\n      <td>1344</td>\n      <td>2003.0</td>\n      <td>0</td>\n    </tr>\n    <tr>\n      <th>2018-09-02 19:03:10.361985443</th>\n      <td>300681</td>\n      <td>384041</td>\n      <td>1648</td>\n      <td>3454</td>\n      <td>3725.0</td>\n      <td>3</td>\n    </tr>\n    <tr>\n      <th>2018-09-14 13:10:34.757124343</th>\n      <td>300681</td>\n      <td>149045</td>\n      <td>154</td>\n      <td>373</td>\n      <td>4743.0</td>\n      <td>3</td>\n    </tr>\n    <tr>\n      <th>2018-09-14 21:03:28.716640205</th>\n      <td>300681</td>\n      <td>469320</td>\n      <td>812</td>\n      <td>2639</td>\n      <td>7063.0</td>\n      <td>3</td>\n    </tr>\n    <tr>\n      <th>2018-09-14 03:11:34.483138000</th>\n      <td>300681</td>\n      <td>917709</td>\n      <td>154</td>\n      <td>373</td>\n      <td>4743.0</td>\n      <td>0</td>\n    </tr>\n    <tr>\n      <th>2018-09-02 23:39:59.508904177</th>\n      <td>62392</td>\n      <td>846956</td>\n      <td>1389</td>\n      <td>1393</td>\n      <td>4705.0</td>\n      <td>0</td>\n    </tr>\n    <tr>\n      <th>2018-09-05 17:26:57.943691397</th>\n      <td>409280</td>\n      <td>41776</td>\n      <td>1213</td>\n      <td>1707</td>\n      <td>6896.0</td>\n      <td>0</td>\n    </tr>\n    <tr>\n      <th>2018-09-05 23:37:15.194639128</th>\n      <td>409280</td>\n      <td>397593</td>\n      <td>177</td>\n      <td>2715</td>\n      <td>5517.0</td>\n      <td>0</td>\n    </tr>\n    <tr>\n      <th>2018-09-05 16:17:32.464148177</th>\n      <td>409280</td>\n      <td>752913</td>\n      <td>407</td>\n      <td>1751</td>\n      <td>2507.0</td>\n      <td>0</td>\n    </tr>\n    <tr>\n      <th>2018-09-05 11:37:38.286944083</th>\n      <td>409280</td>\n      <td>536459</td>\n      <td>1213</td>\n      <td>1707</td>\n      <td>6896.0</td>\n      <td>0</td>\n    </tr>\n    <tr>\n      <th>2018-09-05 19:13:44.824086874</th>\n      <td>409280</td>\n      <td>800924</td>\n      <td>1213</td>\n      <td>1751</td>\n      <td>2507.0</td>\n      <td>0</td>\n    </tr>\n    <tr>\n      <th>2018-09-05 15:17:02.159296024</th>\n      <td>409280</td>\n      <td>170113</td>\n      <td>1213</td>\n      <td>1751</td>\n      <td>2507.0</td>\n      <td>0</td>\n    </tr>\n    <tr>\n      <th>2018-09-11 10:42:17.629797363</th>\n      <td>401805</td>\n      <td>309859</td>\n      <td>1413</td>\n      <td>1805</td>\n      <td>6374.0</td>\n      <td>0</td>\n    </tr>\n    <tr>\n      <th>2018-09-11 23:37:01.578122271</th>\n      <td>401805</td>\n      <td>840467</td>\n      <td>1470</td>\n      <td>1805</td>\n      <td>1866.0</td>\n      <td>2</td>\n    </tr>\n    <tr>\n      <th>2018-09-08 21:08:19.655710271</th>\n      <td>401805</td>\n      <td>930737</td>\n      <td>1174</td>\n      <td>4467</td>\n      <td>2840.0</td>\n      <td>0</td>\n    </tr>\n    <tr>\n      <th>2018-09-06 14:55:12.300207246</th>\n      <td>401805</td>\n      <td>1070421</td>\n      <td>629</td>\n      <td>1617</td>\n      <td>4073.0</td>\n      <td>0</td>\n    </tr>\n    <tr>\n      <th>2018-09-11 12:39:35.916591734</th>\n      <td>142526</td>\n      <td>381465</td>\n      <td>138</td>\n      <td>2010</td>\n      <td>1805.0</td>\n      <td>0</td>\n    </tr>\n    <tr>\n      <th>2018-09-04 22:45:33.028955016</th>\n      <td>142526</td>\n      <td>1073193</td>\n      <td>602</td>\n      <td>1244</td>\n      <td>1128.0</td>\n      <td>0</td>\n    </tr>\n    <tr>\n      <th>2018-09-04 01:41:50.051737176</th>\n      <td>142526</td>\n      <td>244821</td>\n      <td>1653</td>\n      <td>1167</td>\n      <td>7211.0</td>\n      <td>0</td>\n    </tr>\n    <tr>\n      <th>2018-09-13 15:48:14.292223608</th>\n      <td>198759</td>\n      <td>815072</td>\n      <td>1028</td>\n      <td>1986</td>\n      <td>2158.0</td>\n      <td>0</td>\n    </tr>\n    <tr>\n      <th>2018-09-12 23:08:46.679913027</th>\n      <td>190674</td>\n      <td>523962</td>\n      <td>1467</td>\n      <td>759</td>\n      <td>338.0</td>\n      <td>0</td>\n    </tr>\n    <tr>\n      <th>2018-09-11 22:32:58.285910388</th>\n      <td>206021</td>\n      <td>909550</td>\n      <td>1566</td>\n      <td>1056</td>\n      <td>1439.0</td>\n      <td>0</td>\n    </tr>\n    <tr>\n      <th>2018-09-11 08:24:54.254330314</th>\n      <td>206021</td>\n      <td>333601</td>\n      <td>1520</td>\n      <td>1056</td>\n      <td>1439.0</td>\n      <td>0</td>\n    </tr>\n    <tr>\n      <th>2018-09-11 19:45:17.550181179</th>\n      <td>206021</td>\n      <td>1061960</td>\n      <td>1520</td>\n      <td>1056</td>\n      <td>1439.0</td>\n      <td>0</td>\n    </tr>\n    <tr>\n      <th>2018-09-06 20:14:54.160026401</th>\n      <td>277052</td>\n      <td>152455</td>\n      <td>1553</td>\n      <td>3315</td>\n      <td>1605.0</td>\n      <td>3</td>\n    </tr>\n    <tr>\n      <th>2018-09-13 20:09:40.014894914</th>\n      <td>277052</td>\n      <td>681239</td>\n      <td>821</td>\n      <td>2884</td>\n      <td>7239.0</td>\n      <td>0</td>\n    </tr>\n    <tr>\n      <th>2018-09-06 05:39:16.514268483</th>\n      <td>333065</td>\n      <td>102518</td>\n      <td>662</td>\n      <td>1704</td>\n      <td>5581.0</td>\n      <td>0</td>\n    </tr>\n    <tr>\n      <th>2018-09-06 20:49:40.310362371</th>\n      <td>333065</td>\n      <td>102518</td>\n      <td>662</td>\n      <td>1704</td>\n      <td>5581.0</td>\n      <td>0</td>\n    </tr>\n  </tbody>\n</table>\n</div>"
     },
     "execution_count": 15,
     "metadata": {},
     "output_type": "execute_result"
    }
   ],
   "source": [
    "# 选择从 9 月 1 日到 9 月 15 日的数据\n",
    "df_log.loc[\"2018-09-01\": \"2018-09-15\", :]"
   ],
   "metadata": {
    "collapsed": false
   }
  },
  {
   "cell_type": "code",
   "execution_count": 16,
   "outputs": [
    {
     "name": "stderr",
     "output_type": "stream",
     "text": [
      "C:\\Users\\lenovo\\AppData\\Local\\Temp\\ipykernel_12352\\4089689059.py:2: FutureWarning: Value based partial slicing on non-monotonic DatetimeIndexes with non-existing keys is deprecated and will raise a KeyError in a future Version.\n",
      "  df_log.loc[\"2018-08\" : \"2018-09\",:]\n"
     ]
    },
    {
     "data": {
      "text/plain": "                               user_id  item_id  cat_id  seller_id  brand_id  \\\ntime                                                                           \n2018-08-29 17:17:22.300959410   328862   323294     833       2882    2661.0   \n2018-08-29 20:59:58.841378430   328862   623866    1271       2882    2661.0   \n2018-08-01 19:20:06.479644547   328862   239288     602        420    4953.0   \n2018-08-01 17:25:58.912202131   328862   197239     602        420    4953.0   \n2018-08-05 20:05:11.133293715   328862   963870     267       3073    8126.0   \n...                                ...      ...     ...        ...       ...   \n2018-09-06 20:49:40.310362371   333065   102518     662       1704    5581.0   \n2018-08-12 20:45:41.935926509   333065   598686    1228       3172    8031.0   \n2018-08-25 18:30:57.506558800   219316   688843     962       3859    1552.0   \n2018-08-25 14:18:22.238801656   219316   927308    1142       4869    2902.0   \n2018-08-25 14:33:44.319339977   219316  1075576     420       3663    5773.0   \n\n                               action_type  \ntime                                        \n2018-08-29 17:17:22.300959410            0  \n2018-08-29 20:59:58.841378430            0  \n2018-08-01 19:20:06.479644547            0  \n2018-08-01 17:25:58.912202131            0  \n2018-08-05 20:05:11.133293715            2  \n...                                    ...  \n2018-09-06 20:49:40.310362371            0  \n2018-08-12 20:45:41.935926509            3  \n2018-08-25 18:30:57.506558800            0  \n2018-08-25 14:18:22.238801656            0  \n2018-08-25 14:33:44.319339977            0  \n\n[220 rows x 6 columns]",
      "text/html": "<div>\n<style scoped>\n    .dataframe tbody tr th:only-of-type {\n        vertical-align: middle;\n    }\n\n    .dataframe tbody tr th {\n        vertical-align: top;\n    }\n\n    .dataframe thead th {\n        text-align: right;\n    }\n</style>\n<table border=\"1\" class=\"dataframe\">\n  <thead>\n    <tr style=\"text-align: right;\">\n      <th></th>\n      <th>user_id</th>\n      <th>item_id</th>\n      <th>cat_id</th>\n      <th>seller_id</th>\n      <th>brand_id</th>\n      <th>action_type</th>\n    </tr>\n    <tr>\n      <th>time</th>\n      <th></th>\n      <th></th>\n      <th></th>\n      <th></th>\n      <th></th>\n      <th></th>\n    </tr>\n  </thead>\n  <tbody>\n    <tr>\n      <th>2018-08-29 17:17:22.300959410</th>\n      <td>328862</td>\n      <td>323294</td>\n      <td>833</td>\n      <td>2882</td>\n      <td>2661.0</td>\n      <td>0</td>\n    </tr>\n    <tr>\n      <th>2018-08-29 20:59:58.841378430</th>\n      <td>328862</td>\n      <td>623866</td>\n      <td>1271</td>\n      <td>2882</td>\n      <td>2661.0</td>\n      <td>0</td>\n    </tr>\n    <tr>\n      <th>2018-08-01 19:20:06.479644547</th>\n      <td>328862</td>\n      <td>239288</td>\n      <td>602</td>\n      <td>420</td>\n      <td>4953.0</td>\n      <td>0</td>\n    </tr>\n    <tr>\n      <th>2018-08-01 17:25:58.912202131</th>\n      <td>328862</td>\n      <td>197239</td>\n      <td>602</td>\n      <td>420</td>\n      <td>4953.0</td>\n      <td>0</td>\n    </tr>\n    <tr>\n      <th>2018-08-05 20:05:11.133293715</th>\n      <td>328862</td>\n      <td>963870</td>\n      <td>267</td>\n      <td>3073</td>\n      <td>8126.0</td>\n      <td>2</td>\n    </tr>\n    <tr>\n      <th>...</th>\n      <td>...</td>\n      <td>...</td>\n      <td>...</td>\n      <td>...</td>\n      <td>...</td>\n      <td>...</td>\n    </tr>\n    <tr>\n      <th>2018-09-06 20:49:40.310362371</th>\n      <td>333065</td>\n      <td>102518</td>\n      <td>662</td>\n      <td>1704</td>\n      <td>5581.0</td>\n      <td>0</td>\n    </tr>\n    <tr>\n      <th>2018-08-12 20:45:41.935926509</th>\n      <td>333065</td>\n      <td>598686</td>\n      <td>1228</td>\n      <td>3172</td>\n      <td>8031.0</td>\n      <td>3</td>\n    </tr>\n    <tr>\n      <th>2018-08-25 18:30:57.506558800</th>\n      <td>219316</td>\n      <td>688843</td>\n      <td>962</td>\n      <td>3859</td>\n      <td>1552.0</td>\n      <td>0</td>\n    </tr>\n    <tr>\n      <th>2018-08-25 14:18:22.238801656</th>\n      <td>219316</td>\n      <td>927308</td>\n      <td>1142</td>\n      <td>4869</td>\n      <td>2902.0</td>\n      <td>0</td>\n    </tr>\n    <tr>\n      <th>2018-08-25 14:33:44.319339977</th>\n      <td>219316</td>\n      <td>1075576</td>\n      <td>420</td>\n      <td>3663</td>\n      <td>5773.0</td>\n      <td>0</td>\n    </tr>\n  </tbody>\n</table>\n<p>220 rows × 6 columns</p>\n</div>"
     },
     "execution_count": 16,
     "metadata": {},
     "output_type": "execute_result"
    }
   ],
   "source": [
    "# 选择从 8月到9月的数据\n",
    "df_log.loc[\"2018-08\": \"2018-09\", :]"
   ],
   "metadata": {
    "collapsed": false
   }
  },
  {
   "cell_type": "code",
   "execution_count": 18,
   "outputs": [
    {
     "name": "stderr",
     "output_type": "stream",
     "text": [
      "C:\\Users\\lenovo\\AppData\\Local\\Temp\\ipykernel_12352\\3615537784.py:2: FutureWarning: Value based partial slicing on non-monotonic DatetimeIndexes with non-existing keys is deprecated and will raise a KeyError in a future Version.\n",
      "  df_log.loc[\"2018-08-01\":\"2018-09-02 14:00:00\", :]\n"
     ]
    },
    {
     "data": {
      "text/plain": "                               user_id  item_id  cat_id  seller_id  brand_id  \\\ntime                                                                           \n2018-08-29 17:17:22.300959410   328862   323294     833       2882    2661.0   \n2018-08-29 20:59:58.841378430   328862   623866    1271       2882    2661.0   \n2018-08-01 19:20:06.479644547   328862   239288     602        420    4953.0   \n2018-08-01 17:25:58.912202131   328862   197239     602        420    4953.0   \n2018-08-05 20:05:11.133293715   328862   963870     267       3073    8126.0   \n...                                ...      ...     ...        ...       ...   \n2018-08-10 10:37:22.198933296   277052   432229    1577       2545    2334.0   \n2018-08-12 20:45:41.935926509   333065   598686    1228       3172    8031.0   \n2018-08-25 18:30:57.506558800   219316   688843     962       3859    1552.0   \n2018-08-25 14:18:22.238801656   219316   927308    1142       4869    2902.0   \n2018-08-25 14:33:44.319339977   219316  1075576     420       3663    5773.0   \n\n                               action_type  \ntime                                        \n2018-08-29 17:17:22.300959410            0  \n2018-08-29 20:59:58.841378430            0  \n2018-08-01 19:20:06.479644547            0  \n2018-08-01 17:25:58.912202131            0  \n2018-08-05 20:05:11.133293715            2  \n...                                    ...  \n2018-08-10 10:37:22.198933296            3  \n2018-08-12 20:45:41.935926509            3  \n2018-08-25 18:30:57.506558800            0  \n2018-08-25 14:18:22.238801656            0  \n2018-08-25 14:33:44.319339977            0  \n\n[118 rows x 6 columns]",
      "text/html": "<div>\n<style scoped>\n    .dataframe tbody tr th:only-of-type {\n        vertical-align: middle;\n    }\n\n    .dataframe tbody tr th {\n        vertical-align: top;\n    }\n\n    .dataframe thead th {\n        text-align: right;\n    }\n</style>\n<table border=\"1\" class=\"dataframe\">\n  <thead>\n    <tr style=\"text-align: right;\">\n      <th></th>\n      <th>user_id</th>\n      <th>item_id</th>\n      <th>cat_id</th>\n      <th>seller_id</th>\n      <th>brand_id</th>\n      <th>action_type</th>\n    </tr>\n    <tr>\n      <th>time</th>\n      <th></th>\n      <th></th>\n      <th></th>\n      <th></th>\n      <th></th>\n      <th></th>\n    </tr>\n  </thead>\n  <tbody>\n    <tr>\n      <th>2018-08-29 17:17:22.300959410</th>\n      <td>328862</td>\n      <td>323294</td>\n      <td>833</td>\n      <td>2882</td>\n      <td>2661.0</td>\n      <td>0</td>\n    </tr>\n    <tr>\n      <th>2018-08-29 20:59:58.841378430</th>\n      <td>328862</td>\n      <td>623866</td>\n      <td>1271</td>\n      <td>2882</td>\n      <td>2661.0</td>\n      <td>0</td>\n    </tr>\n    <tr>\n      <th>2018-08-01 19:20:06.479644547</th>\n      <td>328862</td>\n      <td>239288</td>\n      <td>602</td>\n      <td>420</td>\n      <td>4953.0</td>\n      <td>0</td>\n    </tr>\n    <tr>\n      <th>2018-08-01 17:25:58.912202131</th>\n      <td>328862</td>\n      <td>197239</td>\n      <td>602</td>\n      <td>420</td>\n      <td>4953.0</td>\n      <td>0</td>\n    </tr>\n    <tr>\n      <th>2018-08-05 20:05:11.133293715</th>\n      <td>328862</td>\n      <td>963870</td>\n      <td>267</td>\n      <td>3073</td>\n      <td>8126.0</td>\n      <td>2</td>\n    </tr>\n    <tr>\n      <th>...</th>\n      <td>...</td>\n      <td>...</td>\n      <td>...</td>\n      <td>...</td>\n      <td>...</td>\n      <td>...</td>\n    </tr>\n    <tr>\n      <th>2018-08-10 10:37:22.198933296</th>\n      <td>277052</td>\n      <td>432229</td>\n      <td>1577</td>\n      <td>2545</td>\n      <td>2334.0</td>\n      <td>3</td>\n    </tr>\n    <tr>\n      <th>2018-08-12 20:45:41.935926509</th>\n      <td>333065</td>\n      <td>598686</td>\n      <td>1228</td>\n      <td>3172</td>\n      <td>8031.0</td>\n      <td>3</td>\n    </tr>\n    <tr>\n      <th>2018-08-25 18:30:57.506558800</th>\n      <td>219316</td>\n      <td>688843</td>\n      <td>962</td>\n      <td>3859</td>\n      <td>1552.0</td>\n      <td>0</td>\n    </tr>\n    <tr>\n      <th>2018-08-25 14:18:22.238801656</th>\n      <td>219316</td>\n      <td>927308</td>\n      <td>1142</td>\n      <td>4869</td>\n      <td>2902.0</td>\n      <td>0</td>\n    </tr>\n    <tr>\n      <th>2018-08-25 14:33:44.319339977</th>\n      <td>219316</td>\n      <td>1075576</td>\n      <td>420</td>\n      <td>3663</td>\n      <td>5773.0</td>\n      <td>0</td>\n    </tr>\n  </tbody>\n</table>\n<p>118 rows × 6 columns</p>\n</div>"
     },
     "execution_count": 18,
     "metadata": {},
     "output_type": "execute_result"
    }
   ],
   "source": [
    "# 选择从 8 月 1 日到 9 月 2 日下午两点之前的数据\n",
    "df_log.loc[\"2018-08-01\":\"2018-09-02 14:00:00\", :]"
   ],
   "metadata": {
    "collapsed": false
   }
  },
  {
   "cell_type": "markdown",
   "source": [
    "可以看到，当我们把 Timestamp 作为索引时，就可以非常简单地实现各种不同时间范围的筛选，并且时间范围的写法也非常自由。"
   ],
   "metadata": {
    "collapsed": false
   }
  },
  {
   "cell_type": "markdown",
   "source": [
    "## 5 总结\n",
    "\n",
    "1. 基本概念：\n",
    "    1. pandas 的时间处理体系主要包含这几个类。\n",
    "    2. Timestamp 代表时间点。\n",
    "    3. DatetimeIndex 代表多个 Timestamp构成的索引列表。\n",
    "    4. Timedelta 代表时间长度，用于做时间的计算\n",
    "    5. TimedeltaIndex 用于将 Timedelta做索引，但不常用。\n",
    "2. 数据的解析：通过 to_datetime 函数，可以将各类时间字符串、时间戳等表示形式转换为Timestamp 对象。同时也可以自定义时间格式字符串，用%Y、%m、%d 等格式字符来自定义解析。\n",
    "3. 时间属性的提取：Timestamp 对象提供了丰富的访问时间各种维度信息的能力，比如当前时间是星期几、在一年中是第几天，等等，具体见上面的示例代码。\n",
    "4. 时间数据的计算：在某个时间点上加减时间，需要用 Timedelta 对象来描述时间的长度。同样，Timedelta 对象也能从各种不同的数据生成，比如字符串、单位时间等。Timedelta 同时也可以表示两个 Timestamp 相减后的差。\n",
    "5. 时间数据作为索引：当我们希望从时间维度去筛选数据表中的数据的时候，可以将时间相关的列转换成 DatetimeIndex， 这样可以在行索引中直接写时间范围来筛选数据，非常方便。"
   ],
   "metadata": {
    "collapsed": false
   }
  }
 ],
 "metadata": {
  "kernelspec": {
   "display_name": "Python 3",
   "language": "python",
   "name": "python3"
  },
  "language_info": {
   "codemirror_mode": {
    "name": "ipython",
    "version": 2
   },
   "file_extension": ".py",
   "mimetype": "text/x-python",
   "name": "python",
   "nbconvert_exporter": "python",
   "pygments_lexer": "ipython2",
   "version": "2.7.6"
  }
 },
 "nbformat": 4,
 "nbformat_minor": 0
}
