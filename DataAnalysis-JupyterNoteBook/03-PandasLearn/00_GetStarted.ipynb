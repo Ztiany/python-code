{
 "cells": [
  {
   "cell_type": "markdown",
   "source": [
    "# 表格类型的大数据处理神器：pandas\n",
    "\n",
    "pandas 不仅可以从多种不同的文件格式读取数据，还有各种各样的数据处理的功能。可以说学好了 pandas，就基本已经算踏上了数据分析之路。\n",
    "\n",
    "首先是安装 pandas：\n",
    "\n",
    "```shell\n",
    "conda install pandas\n",
    "\n",
    "# 或者\n",
    "\n",
    "pip install pandas\n",
    "```\n",
    "\n",
    "之后就可以使用 pandas 读取 csv 文件，pandas 模块提供了一个 read_ csv 的方法，可以直接读取 csv 文件，并返回一个 DataFrame 对象。DataFrame 对象是 pandas 模块的核心，pandas 的所有表格都是通过 DataFrame 对象来存储的，并且 DataFrame 还提供了非常多查看数据、修改数据的方法。"
   ],
   "metadata": {
    "collapsed": false
   }
  },
  {
   "cell_type": "markdown",
   "source": [
    "## 1 使用 pandas 读取 csv 文件"
   ],
   "metadata": {
    "collapsed": false
   }
  },
  {
   "cell_type": "code",
   "execution_count": null,
   "outputs": [],
   "source": [
    "import pandas as pd\n",
    "\n",
    "df_rating = pd.read_csv(\"../02-ExtractContent/kj.csv\")\n",
    "\n",
    "# 当一个 Cell 的最后一行是一个变量时，那 notebook 就会将这个变量打印出来\n",
    "df_rating"
   ],
   "metadata": {
    "collapsed": false
   }
  },
  {
   "cell_type": "markdown",
   "source": [
    "## 2 使用 pandas 读取 excel 文件\n",
    "\n",
    "在 Python 还没有兴起之前，大量的数据分析是通过 Excel 完成的。这也造就了在很多传统行业中，还有大量的数据是保存在 Excel 中，所以读取 Excel 也是进行分析也是 Python 数据分析领域的常见任务。"
   ],
   "metadata": {
    "collapsed": false
   }
  },
  {
   "cell_type": "code",
   "execution_count": 1,
   "outputs": [
    {
     "data": {
      "text/plain": "   姓名  年龄  籍贯   部门\n0  小明  22  河北  IT部\n1  小亮  25  广东  IT部\n2  小王  23  四川  财务部",
      "text/html": "<div>\n<style scoped>\n    .dataframe tbody tr th:only-of-type {\n        vertical-align: middle;\n    }\n\n    .dataframe tbody tr th {\n        vertical-align: top;\n    }\n\n    .dataframe thead th {\n        text-align: right;\n    }\n</style>\n<table border=\"1\" class=\"dataframe\">\n  <thead>\n    <tr style=\"text-align: right;\">\n      <th></th>\n      <th>姓名</th>\n      <th>年龄</th>\n      <th>籍贯</th>\n      <th>部门</th>\n    </tr>\n  </thead>\n  <tbody>\n    <tr>\n      <th>0</th>\n      <td>小明</td>\n      <td>22</td>\n      <td>河北</td>\n      <td>IT部</td>\n    </tr>\n    <tr>\n      <th>1</th>\n      <td>小亮</td>\n      <td>25</td>\n      <td>广东</td>\n      <td>IT部</td>\n    </tr>\n    <tr>\n      <th>2</th>\n      <td>小王</td>\n      <td>23</td>\n      <td>四川</td>\n      <td>财务部</td>\n    </tr>\n  </tbody>\n</table>\n</div>"
     },
     "execution_count": 1,
     "metadata": {},
     "output_type": "execute_result"
    }
   ],
   "source": [
    "import pandas as pd\n",
    "\n",
    "department_staff = pd.read_excel(\"department.xlsx\")\n",
    "department_staff"
   ],
   "metadata": {
    "collapsed": false
   }
  },
  {
   "cell_type": "code",
   "execution_count": 2,
   "outputs": [
    {
     "data": {
      "text/plain": "   姓名 绩效考核 上期考核结果\n0  小明   优秀     优秀\n1  小亮   良好     优秀\n2  小王   良好     优秀",
      "text/html": "<div>\n<style scoped>\n    .dataframe tbody tr th:only-of-type {\n        vertical-align: middle;\n    }\n\n    .dataframe tbody tr th {\n        vertical-align: top;\n    }\n\n    .dataframe thead th {\n        text-align: right;\n    }\n</style>\n<table border=\"1\" class=\"dataframe\">\n  <thead>\n    <tr style=\"text-align: right;\">\n      <th></th>\n      <th>姓名</th>\n      <th>绩效考核</th>\n      <th>上期考核结果</th>\n    </tr>\n  </thead>\n  <tbody>\n    <tr>\n      <th>0</th>\n      <td>小明</td>\n      <td>优秀</td>\n      <td>优秀</td>\n    </tr>\n    <tr>\n      <th>1</th>\n      <td>小亮</td>\n      <td>良好</td>\n      <td>优秀</td>\n    </tr>\n    <tr>\n      <th>2</th>\n      <td>小王</td>\n      <td>良好</td>\n      <td>优秀</td>\n    </tr>\n  </tbody>\n</table>\n</div>"
     },
     "execution_count": 2,
     "metadata": {},
     "output_type": "execute_result"
    }
   ],
   "source": [
    "import pandas as pd\n",
    "\n",
    "# 一个 excel 文件可以包含多张表，第二个参数用于指定打开哪张表。\n",
    "performance = pd.read_excel(\"department.xlsx\", \"绩效\")\n",
    "performance"
   ],
   "metadata": {
    "collapsed": false
   }
  },
  {
   "cell_type": "code",
   "execution_count": 3,
   "outputs": [
    {
     "data": {
      "text/plain": "   姓名 绩效考核\n0  小明   优秀\n1  小亮   良好\n2  小王   良好",
      "text/html": "<div>\n<style scoped>\n    .dataframe tbody tr th:only-of-type {\n        vertical-align: middle;\n    }\n\n    .dataframe tbody tr th {\n        vertical-align: top;\n    }\n\n    .dataframe thead th {\n        text-align: right;\n    }\n</style>\n<table border=\"1\" class=\"dataframe\">\n  <thead>\n    <tr style=\"text-align: right;\">\n      <th></th>\n      <th>姓名</th>\n      <th>绩效考核</th>\n    </tr>\n  </thead>\n  <tbody>\n    <tr>\n      <th>0</th>\n      <td>小明</td>\n      <td>优秀</td>\n    </tr>\n    <tr>\n      <th>1</th>\n      <td>小亮</td>\n      <td>良好</td>\n    </tr>\n    <tr>\n      <th>2</th>\n      <td>小王</td>\n      <td>良好</td>\n    </tr>\n  </tbody>\n</table>\n</div>"
     },
     "execution_count": 3,
     "metadata": {},
     "output_type": "execute_result"
    }
   ],
   "source": [
    "import pandas as pd\n",
    "\n",
    "# 打开部份表，并指定只读取相关的列。\n",
    "performance_partial = pd.read_excel(\"department.xlsx\", \"绩效\", usecols=\"A,B\")\n",
    "performance_partial"
   ],
   "metadata": {
    "collapsed": false
   }
  },
  {
   "cell_type": "markdown",
   "source": [
    "## 3 使用 pandas 读取 html\n",
    "\n",
    "有的时候数据并不是整理好的 csv 表格或者 Excel 表格，而是以网页中的表格的形式存在，比如：\n",
    "\n",
    "- 同花顺的股票涨跌幅数据中心：<http://data.10jqka.com.cn/market/zdfph/>。\n",
    "- 招商银行外汇：<https://fx.cmbchina.com/hq/>。\n",
    "\n",
    "虽然可以使用 BeautifulSoup 来解析 html 数据，然后整理为 csv 文件，但是这个过程还是比较麻烦，也需要人工介入分析，幸好 pandas 也提供了一个 read_html 的方法，来智能的提取网页中的所有表格，并以 DataFrame 列表的形式返回，一个表格对应一个 DataFrame。\n",
    "\n",
    "下面演示使用 pandas 解析招商银行外汇行情的页面："
   ],
   "metadata": {
    "collapsed": false
   }
  },
  {
   "cell_type": "code",
   "execution_count": 2,
   "outputs": [
    {
     "name": "stdout",
     "output_type": "stream",
     "text": [
      "2\n"
     ]
    }
   ],
   "source": [
    "import urllib3\n",
    "import pandas as pd\n",
    "\n",
    "\n",
    "def download_content(target_url):\n",
    "    http_manager = urllib3.PoolManager()\n",
    "    http_response = http_manager.request(\"GET\", target_url)\n",
    "    data = http_response.data\n",
    "    return data.decode()\n",
    "\n",
    "\n",
    "html_content = download_content(\"http://fx.cmbchina.com/Hq/\")\n",
    "cmb_table_list = pd.read_html(html_content)\n",
    "print(len(cmb_table_list))"
   ],
   "metadata": {
    "collapsed": false
   }
  },
  {
   "cell_type": "markdown",
   "source": [
    "执行代码，输出结果为 2。这说明找到了两个表格，但我们回过头去看网页，主体应该只有一个表格。这种情况还是比较常见的，多半是网页在一些不是表格的元素也使用了表格的标签，导致 pandas 识别多了一个，遇到这样的情况我们只需要逐一查看返回的 DataFrame 列表，找到我们要的即可。"
   ],
   "metadata": {
    "collapsed": false
   }
  },
  {
   "cell_type": "code",
   "execution_count": 3,
   "outputs": [
    {
     "data": {
      "text/plain": "        0      1    2       3       4       5       6         7       8\n0     交易币  交易币单位  基本币   现汇卖出价   现钞卖出价   现汇买入价   现钞买入价        时间   汇率走势图\n1      港币    100  人民币   88.36   88.36   88.00   87.39  16:03:18  查看历史>>\n2    新西兰元    100  人民币  425.87  425.87  422.47  409.11  16:03:18  查看历史>>\n3   澳大利亚元    100  人民币  456.92  456.92  453.28  438.94  16:03:18  查看历史>>\n4      美元    100  人民币  694.37  694.37  689.98  684.34  16:03:18  查看历史>>\n5      欧元    100  人民币  739.17  739.17  733.29  710.09  16:03:18  查看历史>>\n6    加拿大元    100  人民币  502.36  502.36  498.36  482.60  16:03:18  查看历史>>\n7      英镑    100  人民币  835.26  835.26  828.60  802.40  16:03:18  查看历史>>\n8      日元    100  人民币  5.1529  5.1529  5.1119  4.9502  16:03:18  查看历史>>\n9    新加坡元    100  人民币  514.04  514.04  509.94  493.81  16:03:18  查看历史>>\n10   瑞士法郎    100  人民币  754.14  754.14  748.14  724.47  16:03:18  查看历史>>",
      "text/html": "<div>\n<style scoped>\n    .dataframe tbody tr th:only-of-type {\n        vertical-align: middle;\n    }\n\n    .dataframe tbody tr th {\n        vertical-align: top;\n    }\n\n    .dataframe thead th {\n        text-align: right;\n    }\n</style>\n<table border=\"1\" class=\"dataframe\">\n  <thead>\n    <tr style=\"text-align: right;\">\n      <th></th>\n      <th>0</th>\n      <th>1</th>\n      <th>2</th>\n      <th>3</th>\n      <th>4</th>\n      <th>5</th>\n      <th>6</th>\n      <th>7</th>\n      <th>8</th>\n    </tr>\n  </thead>\n  <tbody>\n    <tr>\n      <th>0</th>\n      <td>交易币</td>\n      <td>交易币单位</td>\n      <td>基本币</td>\n      <td>现汇卖出价</td>\n      <td>现钞卖出价</td>\n      <td>现汇买入价</td>\n      <td>现钞买入价</td>\n      <td>时间</td>\n      <td>汇率走势图</td>\n    </tr>\n    <tr>\n      <th>1</th>\n      <td>港币</td>\n      <td>100</td>\n      <td>人民币</td>\n      <td>88.36</td>\n      <td>88.36</td>\n      <td>88.00</td>\n      <td>87.39</td>\n      <td>16:03:18</td>\n      <td>查看历史&gt;&gt;</td>\n    </tr>\n    <tr>\n      <th>2</th>\n      <td>新西兰元</td>\n      <td>100</td>\n      <td>人民币</td>\n      <td>425.87</td>\n      <td>425.87</td>\n      <td>422.47</td>\n      <td>409.11</td>\n      <td>16:03:18</td>\n      <td>查看历史&gt;&gt;</td>\n    </tr>\n    <tr>\n      <th>3</th>\n      <td>澳大利亚元</td>\n      <td>100</td>\n      <td>人民币</td>\n      <td>456.92</td>\n      <td>456.92</td>\n      <td>453.28</td>\n      <td>438.94</td>\n      <td>16:03:18</td>\n      <td>查看历史&gt;&gt;</td>\n    </tr>\n    <tr>\n      <th>4</th>\n      <td>美元</td>\n      <td>100</td>\n      <td>人民币</td>\n      <td>694.37</td>\n      <td>694.37</td>\n      <td>689.98</td>\n      <td>684.34</td>\n      <td>16:03:18</td>\n      <td>查看历史&gt;&gt;</td>\n    </tr>\n    <tr>\n      <th>5</th>\n      <td>欧元</td>\n      <td>100</td>\n      <td>人民币</td>\n      <td>739.17</td>\n      <td>739.17</td>\n      <td>733.29</td>\n      <td>710.09</td>\n      <td>16:03:18</td>\n      <td>查看历史&gt;&gt;</td>\n    </tr>\n    <tr>\n      <th>6</th>\n      <td>加拿大元</td>\n      <td>100</td>\n      <td>人民币</td>\n      <td>502.36</td>\n      <td>502.36</td>\n      <td>498.36</td>\n      <td>482.60</td>\n      <td>16:03:18</td>\n      <td>查看历史&gt;&gt;</td>\n    </tr>\n    <tr>\n      <th>7</th>\n      <td>英镑</td>\n      <td>100</td>\n      <td>人民币</td>\n      <td>835.26</td>\n      <td>835.26</td>\n      <td>828.60</td>\n      <td>802.40</td>\n      <td>16:03:18</td>\n      <td>查看历史&gt;&gt;</td>\n    </tr>\n    <tr>\n      <th>8</th>\n      <td>日元</td>\n      <td>100</td>\n      <td>人民币</td>\n      <td>5.1529</td>\n      <td>5.1529</td>\n      <td>5.1119</td>\n      <td>4.9502</td>\n      <td>16:03:18</td>\n      <td>查看历史&gt;&gt;</td>\n    </tr>\n    <tr>\n      <th>9</th>\n      <td>新加坡元</td>\n      <td>100</td>\n      <td>人民币</td>\n      <td>514.04</td>\n      <td>514.04</td>\n      <td>509.94</td>\n      <td>493.81</td>\n      <td>16:03:18</td>\n      <td>查看历史&gt;&gt;</td>\n    </tr>\n    <tr>\n      <th>10</th>\n      <td>瑞士法郎</td>\n      <td>100</td>\n      <td>人民币</td>\n      <td>754.14</td>\n      <td>754.14</td>\n      <td>748.14</td>\n      <td>724.47</td>\n      <td>16:03:18</td>\n      <td>查看历史&gt;&gt;</td>\n    </tr>\n  </tbody>\n</table>\n</div>"
     },
     "execution_count": 3,
     "metadata": {},
     "output_type": "execute_result"
    }
   ],
   "source": [
    "import urllib3\n",
    "import pandas as pd\n",
    "\n",
    "html_content = download_content(\"http://fx.cmbchina.com/Hq/\")\n",
    "cmb_table_list = pd.read_html(html_content)\n",
    "\n",
    "# 分别使用 0 和 1 来打印，这里会发现第 2 个表格是我们需要的数据。\n",
    "cmb_table_list[1]"
   ],
   "metadata": {
    "collapsed": false
   }
  }
 ],
 "metadata": {
  "kernelspec": {
   "display_name": "Python 3",
   "language": "python",
   "name": "python3"
  },
  "language_info": {
   "codemirror_mode": {
    "name": "ipython",
    "version": 2
   },
   "file_extension": ".py",
   "mimetype": "text/x-python",
   "name": "python",
   "nbconvert_exporter": "python",
   "pygments_lexer": "ipython2",
   "version": "2.7.6"
  }
 },
 "nbformat": 4,
 "nbformat_minor": 0
}
